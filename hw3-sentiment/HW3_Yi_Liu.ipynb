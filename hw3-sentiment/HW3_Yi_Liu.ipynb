{
 "metadata": {
  "name": "",
  "signature": "sha256:690722c120d7e8f12a203b16b1c7da53f423f5492acb8bc067e8a4c0d46b081f"
 },
 "nbformat": 3,
 "nbformat_minor": 0,
 "worksheets": [
  {
   "cells": [
    {
     "cell_type": "heading",
     "level": 2,
     "metadata": {},
     "source": [
      "HW3 SVM and Sentiment Analysis"
     ]
    },
    {
     "cell_type": "heading",
     "level": 3,
     "metadata": {},
     "source": [
      "1. Introduction"
     ]
    },
    {
     "cell_type": "heading",
     "level": 3,
     "metadata": {},
     "source": [
      "2. The Data"
     ]
    },
    {
     "cell_type": "heading",
     "level": 4,
     "metadata": {},
     "source": [
      "2.1 Load Data"
     ]
    },
    {
     "cell_type": "code",
     "collapsed": false,
     "input": [
      "load load.py"
     ],
     "language": "python",
     "metadata": {},
     "outputs": [],
     "prompt_number": 1
    },
    {
     "cell_type": "code",
     "collapsed": false,
     "input": [
      "import os\n",
      "import numpy as np\n",
      "import pickle\n",
      "import random"
     ],
     "language": "python",
     "metadata": {},
     "outputs": [],
     "prompt_number": 2
    },
    {
     "cell_type": "code",
     "collapsed": false,
     "input": [
      "import matplotlib.pyplot as plt\n",
      "%matplotlib inline"
     ],
     "language": "python",
     "metadata": {},
     "outputs": [],
     "prompt_number": 3
    },
    {
     "cell_type": "code",
     "collapsed": false,
     "input": [
      "'''\n",
      "Note: No obligation to use this code, though you may if you like.  Skeleton code is just a hint for people who are not familiar with text processing in python. \n",
      "It is not necessary to follow. \n",
      "'''\n",
      "\n",
      "\n",
      "def folder_list(path,label):\n",
      "    '''\n",
      "    PARAMETER PATH IS THE PATH OF YOUR LOCAL FOLDER\n",
      "    '''\n",
      "    filelist = os.listdir(path)\n",
      "    review = []\n",
      "    for infile in filelist:\n",
      "        file = os.path.join(path,infile)\n",
      "        r = read_data(file)\n",
      "        r.append(label)\n",
      "        review.append(r)\n",
      "    return review\n",
      "\n",
      "def read_data(file):\n",
      "    '''\n",
      "    Read each file into a list of strings. \n",
      "    Example:\n",
      "    [\"it's\", 'a', 'curious', 'thing', \"i've\", 'found', 'that', 'when', 'willis', 'is', 'not', 'called', 'on', \n",
      "    ...'to', 'carry', 'the', 'whole', 'movie', \"he's\", 'much', 'better', 'and', 'so', 'is', 'the', 'movie']\n",
      "    '''\n",
      "    f = open(file)\n",
      "    lines = f.read().split(' ')\n",
      "    symbols = '${}()[].,:;+-*/&|<>=~\" '\n",
      "    words = map(lambda Element: Element.translate(None, symbols).strip(), lines)\n",
      "    words = filter(None, words)\n",
      "    return words\n",
      "\t\n",
      "###############################################\n",
      "######## YOUR CODE STARTS FROM HERE. ##########\n",
      "###############################################\n",
      "\n",
      "def shuffle_data():\n",
      "    '''\n",
      "    pos_path is where you save positive review data.\n",
      "    neg_path is where you save negative review data.\n",
      "    '''\n",
      "    pos_path = \"data/pos\"\n",
      "    neg_path = \"data/neg\"\n",
      "\t\n",
      "    pos_review = folder_list(pos_path,1)\n",
      "    neg_review = folder_list(neg_path,-1)\n",
      "\t\n",
      "    review = pos_review + neg_review\n",
      "    random.shuffle(review)\n",
      "    #save by pickle\n",
      "    pickle.dump( review, open( \"review.p\", \"wb\" ) )\n",
      "'''\n",
      "Now you have read all the files into list 'review' and it has been shuffled.\n",
      "Save your shuffled result by pickle.\n",
      "*Pickle is a useful module to serialize a python object structure. \n",
      "*Check it out. https://wiki.python.org/moin/UsingPickle\n",
      "'''\n",
      " \n",
      "\n"
     ],
     "language": "python",
     "metadata": {},
     "outputs": [
      {
       "metadata": {},
       "output_type": "pyout",
       "prompt_number": 37,
       "text": [
        "\"\\nNow you have read all the files into list 'review' and it has been shuffled.\\nSave your shuffled result by pickle.\\n*Pickle is a useful module to serialize a python object structure. \\n*Check it out. https://wiki.python.org/moin/UsingPickle\\n\""
       ]
      }
     ],
     "prompt_number": 37
    },
    {
     "cell_type": "code",
     "collapsed": false,
     "input": [
      "shuffle_data()"
     ],
     "language": "python",
     "metadata": {},
     "outputs": [],
     "prompt_number": 38
    },
    {
     "cell_type": "code",
     "collapsed": false,
     "input": [
      "review = pickle.load( open( \"review.p\", \"rb\" ) )"
     ],
     "language": "python",
     "metadata": {},
     "outputs": [],
     "prompt_number": 879
    },
    {
     "cell_type": "code",
     "collapsed": false,
     "input": [
      "#split data\n",
      "train = review[:1500]\n",
      "test = review[-500:]"
     ],
     "language": "python",
     "metadata": {},
     "outputs": [],
     "prompt_number": 880
    },
    {
     "cell_type": "code",
     "collapsed": false,
     "input": [
      "train_X = [train[i][:-1] for i in range(len(train))]\n",
      "train_y = [train[i][-1] for i in range(len(train))]\n",
      "test_X = [test[i][:-1] for i in range(len(test))]\n",
      "test_y = [test[i][-1] for i in range(len(test))]"
     ],
     "language": "python",
     "metadata": {},
     "outputs": [],
     "prompt_number": 881
    },
    {
     "cell_type": "heading",
     "level": 3,
     "metadata": {},
     "source": [
      "3. Sparse Representations"
     ]
    },
    {
     "cell_type": "heading",
     "level": 4,
     "metadata": {},
     "source": [
      "3.1 Convert list to dictionary"
     ]
    },
    {
     "cell_type": "code",
     "collapsed": false,
     "input": [
      "from collections import Counter"
     ],
     "language": "python",
     "metadata": {},
     "outputs": [],
     "prompt_number": 7
    },
    {
     "cell_type": "code",
     "collapsed": false,
     "input": [
      "def list_to_dict(li):\n",
      "    cnt = Counter()\n",
      "    for word in li:\n",
      "        cnt[word] += 1\n",
      "    return dict(cnt)"
     ],
     "language": "python",
     "metadata": {},
     "outputs": [],
     "prompt_number": 8
    },
    {
     "cell_type": "code",
     "collapsed": false,
     "input": [
      "train_X_dict = [list_to_dict(li) for li in train_X]"
     ],
     "language": "python",
     "metadata": {},
     "outputs": [],
     "prompt_number": 882
    },
    {
     "cell_type": "code",
     "collapsed": false,
     "input": [
      "test_X_dict = [list_to_dict(li) for li in test_X]"
     ],
     "language": "python",
     "metadata": {},
     "outputs": [],
     "prompt_number": 883
    },
    {
     "cell_type": "heading",
     "level": 4,
     "metadata": {},
     "source": [
      "3.2 Generic gradient checker: dict version"
     ]
    },
    {
     "cell_type": "code",
     "collapsed": false,
     "input": [
      "load util.py"
     ],
     "language": "python",
     "metadata": {},
     "outputs": [],
     "prompt_number": 111
    },
    {
     "cell_type": "code",
     "collapsed": false,
     "input": [
      "## Taken from http://web.stanford.edu/class/cs221/ Assignment #2 Support Code\n",
      "\n",
      "def dotProduct(d1, d2):\n",
      "    \"\"\"\n",
      "    @param dict d1: a feature vector represented by a mapping from a feature (string) to a weight (float).\n",
      "    @param dict d2: same as d1\n",
      "    @return float: the dot product between d1 and d2\n",
      "    \"\"\"\n",
      "    if len(d1) < len(d2):\n",
      "        return dotProduct(d2, d1)\n",
      "    else:\n",
      "        return sum(d1.get(f, 0) * v for f, v in d2.items())\n",
      "\n",
      "def increment(d1, scale, d2):\n",
      "    \"\"\"\n",
      "    Implements d1 += scale * d2 for sparse vectors.\n",
      "    @param dict d1: the feature vector which is mutated.\n",
      "    @param float scale\n",
      "    @param dict d2: a feature vector.\n",
      "    \"\"\"\n",
      "    for f, v in d2.items():\n",
      "        d1[f] = d1.get(f, 0) + v * scale\n",
      "    return d1\n",
      "\n"
     ],
     "language": "python",
     "metadata": {},
     "outputs": [],
     "prompt_number": 11
    },
    {
     "cell_type": "code",
     "collapsed": false,
     "input": [
      "def compute_svm_grad(x, y, Lambda, w):\n",
      "    if y*dotProduct(w,x) > 1:\n",
      "        grad = {k: v*Lambda for k, v in w.items()}\n",
      "    else:\n",
      "        lw = {k: v*Lambda for k, v in w.items()}\n",
      "        xy = {k: v*y for k, v in x.items()}\n",
      "        grad = increment(lw, -1, xy)\n",
      "    return grad\n",
      "        "
     ],
     "language": "python",
     "metadata": {},
     "outputs": [],
     "prompt_number": 14
    },
    {
     "cell_type": "code",
     "collapsed": false,
     "input": [
      "def compute_loss_one(x,y,Lambda,w):\n",
      "    s = max(0, 1-y*dotProduct(w,x))\n",
      "    loss = (float(Lambda)/2)*np.linalg.norm(w.values()) + s\n",
      "    return loss"
     ],
     "language": "python",
     "metadata": {},
     "outputs": [],
     "prompt_number": 134
    },
    {
     "cell_type": "code",
     "collapsed": false,
     "input": [
      "import copy"
     ],
     "language": "python",
     "metadata": {},
     "outputs": [],
     "prompt_number": 12
    },
    {
     "cell_type": "code",
     "collapsed": false,
     "input": [
      "#Q3.2: Generic Gradient Checker\n",
      "def generic_gradient_checker(x, y, Lambda, w, objective_func, gradient_func, epsilon=0.01, tolerance=0.1):\n",
      "    \"\"\"\n",
      "    The functions takes objective_func and gradient_func as parameters. And check whether gradient_func(X, y, theta) returned\n",
      "    the true gradient for objective_func(X, y, theta).\n",
      "    \"\"\"\n",
      "    true_gradient = gradient_func(x, y, Lambda, w) #the true gradient\n",
      "    #num = len(x)\n",
      "    \n",
      "    approx_grad = {key:0 for key in w.keys()} #Initialize the gradient dict we approximate\n",
      "    for f in x.keys():\n",
      "        e = {key:0 for key in w.keys()}\n",
      "        e[f] = epsilon\n",
      "        w_copy_p = copy.deepcopy(w)\n",
      "        w_copy_n = copy.deepcopy(w)\n",
      "        approx_grad[f]=(objective_func(x, y, Lambda, increment(w_copy_p, 1, e)) - objective_func(x, y, Lambda, increment(w_copy_n, -1, e)))/(2*epsilon)\n",
      "    \n",
      "    dist = np.linalg.norm((increment(approx_grad,-1,true_gradient)).values())\n",
      "    #print dist\n",
      "    \n",
      "    if np.absolute(y*dotProduct(w,x) - 1) < 0.01:\n",
      "        print \"Pass\"\n",
      "        return True\n",
      "    else:\n",
      "        if dist > tolerance:\n",
      "            return False\n",
      "        else:\n",
      "            return True"
     ],
     "language": "python",
     "metadata": {},
     "outputs": [],
     "prompt_number": 976
    },
    {
     "cell_type": "code",
     "collapsed": false,
     "input": [
      "false = 0\n",
      "for i in np.arange(1500):\n",
      "    w0 = {key:1 for key in train_X_dict[i].keys()}\n",
      "    n = generic_gradient_checker(train_X_dict[i],train_y[i],0.001, w0,compute_loss_one,compute_svm_grad)\n",
      "    if n is False:\n",
      "        print i, n\n",
      "        false+=1\n",
      "if false is 0:\n",
      "    print \"Pass the gradient check!\""
     ],
     "language": "python",
     "metadata": {},
     "outputs": [
      {
       "output_type": "stream",
       "stream": "stdout",
       "text": [
        "Pass the gradient check!\n"
       ]
      }
     ],
     "prompt_number": 977
    },
    {
     "cell_type": "heading",
     "level": 3,
     "metadata": {},
     "source": [
      "4. SVM via Pegasos"
     ]
    },
    {
     "cell_type": "heading",
     "level": 4,
     "metadata": {},
     "source": [
      "4.2 Implement the Pegasos algorithm"
     ]
    },
    {
     "cell_type": "code",
     "collapsed": false,
     "input": [
      "import random"
     ],
     "language": "python",
     "metadata": {},
     "outputs": [],
     "prompt_number": 167
    },
    {
     "cell_type": "code",
     "collapsed": false,
     "input": [
      "def pegasos_svm_speedup(X,y,X_t,y_t,Lambda,epoch):\n",
      "    errors=[]\n",
      "    t=1\n",
      "    ep=0\n",
      "    w = {}\n",
      "    s=1\n",
      "    while ep < epoch:\n",
      "        order = random.sample(range(0,len(X)),len(X)-1)\n",
      "        for i in order:\n",
      "            t += 1\n",
      "            yita = float(1)/(t*Lambda)\n",
      "            s = s*(1-yita*Lambda)\n",
      "            if float(y[i]*(dotProduct(w,X[i])))*s < 1:\n",
      "                xy = {k: float(v*(yita*y[i]))/s for k,v in X[i].items()}\n",
      "                w = increment(w,1,xy)\n",
      "        ep+=1\n",
      "        \n",
      "    \n",
      "        \n",
      "        error = percent_error(X_t,y_t,w)\n",
      "        \n",
      "        print \"=============Done with epoch {}===============\".format(ep)\n",
      "        print \"The error is {}\".format(error)\n",
      "           \n",
      "        errors.append(error)\n",
      "    \n",
      "    return w, errors"
     ],
     "language": "python",
     "metadata": {},
     "outputs": [],
     "prompt_number": 981
    },
    {
     "cell_type": "code",
     "collapsed": false,
     "input": [
      "#basic freq\n",
      "w22,ers = pegasos_svm_speedup(train_X_dict,train_y,test_X_dict, test_y, 0.01,100)"
     ],
     "language": "python",
     "metadata": {},
     "outputs": [],
     "prompt_number": 830
    },
    {
     "cell_type": "code",
     "collapsed": false,
     "input": [
      "plt.plot(range(100),ers)\n",
      "plt.xlabel('epoch')\n",
      "plt.ylabel('error')\n",
      "plt.title('SVM via pegasos algorithms with different epoches')\n",
      "#plt.savefig('2_1.png', dpi=200)"
     ],
     "language": "python",
     "metadata": {},
     "outputs": [
      {
       "metadata": {},
       "output_type": "pyout",
       "prompt_number": 951,
       "text": [
        "<matplotlib.text.Text at 0x11cc2d990>"
       ]
      },
      {
       "metadata": {},
       "output_type": "display_data",
       "png": "[encoded data removed]",
       "text": [
        "<matplotlib.figure.Figure at 0x13c7dc390>"
       ]
      }
     ],
     "prompt_number": 951
    },
    {
     "cell_type": "code",
     "collapsed": false,
     "input": [
      "def pegasos_svm(X,y,X_t,y_t,Lambda,epoch):\n",
      "    errors = []\n",
      "    t=0\n",
      "    ep=0\n",
      "    w = {key:0 for key in X[0].keys()}\n",
      "    while ep < epoch:\n",
      "        for i in range(len(X)):\n",
      "            t += 1\n",
      "            yita = 1./(t*Lambda)\n",
      "            if ep==0:\n",
      "                w = increment(w,0,X[i])\n",
      "            kw = {k: v*(1-yita*Lambda) for k, v in w.items()}\n",
      "            if y[i]*dotProduct(w,X[i]) < 1:\n",
      "                xy = {k: v*(yita*y[i]) for k,v in X[i].items()}\n",
      "                w = increment(kw,1,xy)\n",
      "            else:\n",
      "                w = kw\n",
      "            #if t%100 == 0:\n",
      "             #print t\n",
      "        ep+=1\n",
      "        \n",
      "        error = percent_error(X_t,y_t,w)\n",
      "        print \"=============Done with epoch {}===============\".format(ep)\n",
      "        errors.append(error)\n",
      "        \n",
      "    return w,errors\n",
      "                "
     ],
     "language": "python",
     "metadata": {},
     "outputs": [],
     "prompt_number": 825
    },
    {
     "cell_type": "heading",
     "level": 4,
     "metadata": {},
     "source": [
      "4.3 calculate percent error"
     ]
    },
    {
     "cell_type": "code",
     "collapsed": false,
     "input": [
      "def percent_error(X,y,w):\n",
      "    error = 0\n",
      "    for i in range(len(X)):\n",
      "        if np.sign(dotProduct(w,X[i])) != y[i]:\n",
      "            error += 1\n",
      "    percent = float(error)/len(X)\n",
      "    return percent            "
     ],
     "language": "python",
     "metadata": {},
     "outputs": [],
     "prompt_number": 21
    },
    {
     "cell_type": "heading",
     "level": 4,
     "metadata": {},
     "source": [
      "4.4 search for lambda"
     ]
    },
    {
     "cell_type": "code",
     "collapsed": false,
     "input": [
      "errors = []\n",
      "ws = []\n",
      "for i in np.arange(-5,4):\n",
      "    Lambda = 10**i\n",
      "    w, errorw = pegasos_svm_speedup(train_X_dict,train_y,test_X_dict,test_y,Lambda,40)\n",
      "    error = percent_error(test_X_dict,test_y,w)\n",
      "    errors.append(error)\n",
      "    ws.append(w)\n",
      "    print \"****************Done with Lambda {}*********************\".format(i)\n",
      "    print \"****************The error is {}**************************\".format(error)\n",
      "plt.plot([10**i for i in np.arange(-5,4)], errors)\n",
      "plt.gca().set_xscale(\"log\")\n",
      "#plt.gca().set_yscale(\"log\")\n",
      "plt.xlabel('lambda')\n",
      "plt.ylabel('error')\n",
      "plt.title('SVM via pegasos algorithms with different lambdas')\n",
      "plt.savefig('3_3.png', dpi=200)"
     ],
     "language": "python",
     "metadata": {},
     "outputs": [
      {
       "output_type": "stream",
       "stream": "stdout",
       "text": [
        "=============Done with epoch 1===============\n",
        "The error is 0.464\n",
        "=============Done with epoch 2==============="
       ]
      },
      {
       "output_type": "stream",
       "stream": "stdout",
       "text": [
        "\n",
        "The error is 0.316\n",
        "=============Done with epoch 3==============="
       ]
      },
      {
       "output_type": "stream",
       "stream": "stdout",
       "text": [
        "\n",
        "The error is 0.21\n",
        "=============Done with epoch 4==============="
       ]
      },
      {
       "output_type": "stream",
       "stream": "stdout",
       "text": [
        "\n",
        "The error is 0.372\n",
        "=============Done with epoch 5==============="
       ]
      },
      {
       "output_type": "stream",
       "stream": "stdout",
       "text": [
        "\n",
        "The error is 0.206\n",
        "=============Done with epoch 6==============="
       ]
      },
      {
       "output_type": "stream",
       "stream": "stdout",
       "text": [
        "\n",
        "The error is 0.42\n",
        "=============Done with epoch 7==============="
       ]
      },
      {
       "output_type": "stream",
       "stream": "stdout",
       "text": [
        "\n",
        "The error is 0.206\n",
        "=============Done with epoch 8==============="
       ]
      },
      {
       "output_type": "stream",
       "stream": "stdout",
       "text": [
        "\n",
        "The error is 0.166\n",
        "=============Done with epoch 9==============="
       ]
      },
      {
       "output_type": "stream",
       "stream": "stdout",
       "text": [
        "\n",
        "The error is 0.356\n",
        "=============Done with epoch 10==============="
       ]
      },
      {
       "output_type": "stream",
       "stream": "stdout",
       "text": [
        "\n",
        "The error is 0.174\n",
        "=============Done with epoch 11==============="
       ]
      },
      {
       "output_type": "stream",
       "stream": "stdout",
       "text": [
        "\n",
        "The error is 0.202\n",
        "=============Done with epoch 12==============="
       ]
      },
      {
       "output_type": "stream",
       "stream": "stdout",
       "text": [
        "\n",
        "The error is 0.372\n",
        "=============Done with epoch 13==============="
       ]
      },
      {
       "output_type": "stream",
       "stream": "stdout",
       "text": [
        "\n",
        "The error is 0.218\n",
        "=============Done with epoch 14==============="
       ]
      },
      {
       "output_type": "stream",
       "stream": "stdout",
       "text": [
        "\n",
        "The error is 0.226\n",
        "=============Done with epoch 15==============="
       ]
      },
      {
       "output_type": "stream",
       "stream": "stdout",
       "text": [
        "\n",
        "The error is 0.194\n",
        "=============Done with epoch 16==============="
       ]
      },
      {
       "output_type": "stream",
       "stream": "stdout",
       "text": [
        "\n",
        "The error is 0.178\n",
        "=============Done with epoch 17==============="
       ]
      },
      {
       "output_type": "stream",
       "stream": "stdout",
       "text": [
        "\n",
        "The error is 0.194\n",
        "=============Done with epoch 18==============="
       ]
      },
      {
       "output_type": "stream",
       "stream": "stdout",
       "text": [
        "\n",
        "The error is 0.188\n",
        "=============Done with epoch 19==============="
       ]
      },
      {
       "output_type": "stream",
       "stream": "stdout",
       "text": [
        "\n",
        "The error is 0.178\n",
        "=============Done with epoch 20==============="
       ]
      },
      {
       "output_type": "stream",
       "stream": "stdout",
       "text": [
        "\n",
        "The error is 0.188\n",
        "=============Done with epoch 21==============="
       ]
      },
      {
       "output_type": "stream",
       "stream": "stdout",
       "text": [
        "\n",
        "The error is 0.19\n",
        "=============Done with epoch 22==============="
       ]
      },
      {
       "output_type": "stream",
       "stream": "stdout",
       "text": [
        "\n",
        "The error is 0.186\n",
        "=============Done with epoch 23==============="
       ]
      },
      {
       "output_type": "stream",
       "stream": "stdout",
       "text": [
        "\n",
        "The error is 0.19\n",
        "=============Done with epoch 24==============="
       ]
      },
      {
       "output_type": "stream",
       "stream": "stdout",
       "text": [
        "\n",
        "The error is 0.194\n",
        "=============Done with epoch 25==============="
       ]
      },
      {
       "output_type": "stream",
       "stream": "stdout",
       "text": [
        "\n",
        "The error is 0.194\n",
        "=============Done with epoch 26==============="
       ]
      },
      {
       "output_type": "stream",
       "stream": "stdout",
       "text": [
        "\n",
        "The error is 0.194\n",
        "=============Done with epoch 27==============="
       ]
      },
      {
       "output_type": "stream",
       "stream": "stdout",
       "text": [
        "\n",
        "The error is 0.194\n",
        "=============Done with epoch 28==============="
       ]
      },
      {
       "output_type": "stream",
       "stream": "stdout",
       "text": [
        "\n",
        "The error is 0.194\n",
        "=============Done with epoch 29==============="
       ]
      },
      {
       "output_type": "stream",
       "stream": "stdout",
       "text": [
        "\n",
        "The error is 0.194\n",
        "=============Done with epoch 30==============="
       ]
      },
      {
       "output_type": "stream",
       "stream": "stdout",
       "text": [
        "\n",
        "The error is 0.194\n",
        "=============Done with epoch 31==============="
       ]
      },
      {
       "output_type": "stream",
       "stream": "stdout",
       "text": [
        "\n",
        "The error is 0.194\n",
        "=============Done with epoch 32==============="
       ]
      },
      {
       "output_type": "stream",
       "stream": "stdout",
       "text": [
        "\n",
        "The error is 0.194\n",
        "=============Done with epoch 33==============="
       ]
      },
      {
       "output_type": "stream",
       "stream": "stdout",
       "text": [
        "\n",
        "The error is 0.194\n",
        "=============Done with epoch 34==============="
       ]
      },
      {
       "output_type": "stream",
       "stream": "stdout",
       "text": [
        "\n",
        "The error is 0.194\n",
        "=============Done with epoch 35==============="
       ]
      },
      {
       "output_type": "stream",
       "stream": "stdout",
       "text": [
        "\n",
        "The error is 0.194\n",
        "=============Done with epoch 36==============="
       ]
      },
      {
       "output_type": "stream",
       "stream": "stdout",
       "text": [
        "\n",
        "The error is 0.194\n",
        "=============Done with epoch 37==============="
       ]
      },
      {
       "output_type": "stream",
       "stream": "stdout",
       "text": [
        "\n",
        "The error is 0.194\n",
        "=============Done with epoch 38==============="
       ]
      },
      {
       "output_type": "stream",
       "stream": "stdout",
       "text": [
        "\n",
        "The error is 0.194\n",
        "=============Done with epoch 39==============="
       ]
      },
      {
       "output_type": "stream",
       "stream": "stdout",
       "text": [
        "\n",
        "The error is 0.194\n",
        "=============Done with epoch 40==============="
       ]
      },
      {
       "output_type": "stream",
       "stream": "stdout",
       "text": [
        "\n",
        "The error is 0.194\n",
        "****************Done with Lambda -5*********************"
       ]
      },
      {
       "output_type": "stream",
       "stream": "stdout",
       "text": [
        "\n",
        "****************The error is 0.194**************************\n",
        "=============Done with epoch 1==============="
       ]
      },
      {
       "output_type": "stream",
       "stream": "stdout",
       "text": [
        "\n",
        "The error is 0.286\n",
        "=============Done with epoch 2==============="
       ]
      },
      {
       "output_type": "stream",
       "stream": "stdout",
       "text": [
        "\n",
        "The error is 0.224\n",
        "=============Done with epoch 3==============="
       ]
      },
      {
       "output_type": "stream",
       "stream": "stdout",
       "text": [
        "\n",
        "The error is 0.188\n",
        "=============Done with epoch 4==============="
       ]
      },
      {
       "output_type": "stream",
       "stream": "stdout",
       "text": [
        "\n",
        "The error is 0.232\n",
        "=============Done with epoch 5==============="
       ]
      },
      {
       "output_type": "stream",
       "stream": "stdout",
       "text": [
        "\n",
        "The error is 0.506\n",
        "=============Done with epoch 6==============="
       ]
      },
      {
       "output_type": "stream",
       "stream": "stdout",
       "text": [
        "\n",
        "The error is 0.226\n",
        "=============Done with epoch 7==============="
       ]
      },
      {
       "output_type": "stream",
       "stream": "stdout",
       "text": [
        "\n",
        "The error is 0.192\n",
        "=============Done with epoch 8==============="
       ]
      },
      {
       "output_type": "stream",
       "stream": "stdout",
       "text": [
        "\n",
        "The error is 0.196\n",
        "=============Done with epoch 9==============="
       ]
      },
      {
       "output_type": "stream",
       "stream": "stdout",
       "text": [
        "\n",
        "The error is 0.19\n",
        "=============Done with epoch 10==============="
       ]
      },
      {
       "output_type": "stream",
       "stream": "stdout",
       "text": [
        "\n",
        "The error is 0.224\n",
        "=============Done with epoch 11==============="
       ]
      },
      {
       "output_type": "stream",
       "stream": "stdout",
       "text": [
        "\n",
        "The error is 0.192\n",
        "=============Done with epoch 12==============="
       ]
      },
      {
       "output_type": "stream",
       "stream": "stdout",
       "text": [
        "\n",
        "The error is 0.182\n",
        "=============Done with epoch 13==============="
       ]
      },
      {
       "output_type": "stream",
       "stream": "stdout",
       "text": [
        "\n",
        "The error is 0.188\n",
        "=============Done with epoch 14==============="
       ]
      },
      {
       "output_type": "stream",
       "stream": "stdout",
       "text": [
        "\n",
        "The error is 0.298\n",
        "=============Done with epoch 15==============="
       ]
      },
      {
       "output_type": "stream",
       "stream": "stdout",
       "text": [
        "\n",
        "The error is 0.27\n",
        "=============Done with epoch 16==============="
       ]
      },
      {
       "output_type": "stream",
       "stream": "stdout",
       "text": [
        "\n",
        "The error is 0.174\n",
        "=============Done with epoch 17==============="
       ]
      },
      {
       "output_type": "stream",
       "stream": "stdout",
       "text": [
        "\n",
        "The error is 0.184\n",
        "=============Done with epoch 18==============="
       ]
      },
      {
       "output_type": "stream",
       "stream": "stdout",
       "text": [
        "\n",
        "The error is 0.184\n",
        "=============Done with epoch 19==============="
       ]
      },
      {
       "output_type": "stream",
       "stream": "stdout",
       "text": [
        "\n",
        "The error is 0.192\n",
        "=============Done with epoch 20==============="
       ]
      },
      {
       "output_type": "stream",
       "stream": "stdout",
       "text": [
        "\n",
        "The error is 0.178\n",
        "=============Done with epoch 21==============="
       ]
      },
      {
       "output_type": "stream",
       "stream": "stdout",
       "text": [
        "\n",
        "The error is 0.192\n",
        "=============Done with epoch 22==============="
       ]
      },
      {
       "output_type": "stream",
       "stream": "stdout",
       "text": [
        "\n",
        "The error is 0.188\n",
        "=============Done with epoch 23==============="
       ]
      },
      {
       "output_type": "stream",
       "stream": "stdout",
       "text": [
        "\n",
        "The error is 0.186\n",
        "=============Done with epoch 24==============="
       ]
      },
      {
       "output_type": "stream",
       "stream": "stdout",
       "text": [
        "\n",
        "The error is 0.186\n",
        "=============Done with epoch 25==============="
       ]
      },
      {
       "output_type": "stream",
       "stream": "stdout",
       "text": [
        "\n",
        "The error is 0.186\n",
        "=============Done with epoch 26==============="
       ]
      },
      {
       "output_type": "stream",
       "stream": "stdout",
       "text": [
        "\n",
        "The error is 0.186\n",
        "=============Done with epoch 27==============="
       ]
      },
      {
       "output_type": "stream",
       "stream": "stdout",
       "text": [
        "\n",
        "The error is 0.186\n",
        "=============Done with epoch 28==============="
       ]
      },
      {
       "output_type": "stream",
       "stream": "stdout",
       "text": [
        "\n",
        "The error is 0.186\n",
        "=============Done with epoch 29==============="
       ]
      },
      {
       "output_type": "stream",
       "stream": "stdout",
       "text": [
        "\n",
        "The error is 0.186\n",
        "=============Done with epoch 30==============="
       ]
      },
      {
       "output_type": "stream",
       "stream": "stdout",
       "text": [
        "\n",
        "The error is 0.186\n",
        "=============Done with epoch 31==============="
       ]
      },
      {
       "output_type": "stream",
       "stream": "stdout",
       "text": [
        "\n",
        "The error is 0.186\n",
        "=============Done with epoch 32==============="
       ]
      },
      {
       "output_type": "stream",
       "stream": "stdout",
       "text": [
        "\n",
        "The error is 0.186\n",
        "=============Done with epoch 33==============="
       ]
      },
      {
       "output_type": "stream",
       "stream": "stdout",
       "text": [
        "\n",
        "The error is 0.186\n",
        "=============Done with epoch 34==============="
       ]
      },
      {
       "output_type": "stream",
       "stream": "stdout",
       "text": [
        "\n",
        "The error is 0.186\n",
        "=============Done with epoch 35==============="
       ]
      },
      {
       "output_type": "stream",
       "stream": "stdout",
       "text": [
        "\n",
        "The error is 0.186\n",
        "=============Done with epoch 36==============="
       ]
      },
      {
       "output_type": "stream",
       "stream": "stdout",
       "text": [
        "\n",
        "The error is 0.186\n",
        "=============Done with epoch 37==============="
       ]
      },
      {
       "output_type": "stream",
       "stream": "stdout",
       "text": [
        "\n",
        "The error is 0.186\n",
        "=============Done with epoch 38==============="
       ]
      },
      {
       "output_type": "stream",
       "stream": "stdout",
       "text": [
        "\n",
        "The error is 0.186\n",
        "=============Done with epoch 39==============="
       ]
      },
      {
       "output_type": "stream",
       "stream": "stdout",
       "text": [
        "\n",
        "The error is 0.186\n",
        "=============Done with epoch 40==============="
       ]
      },
      {
       "output_type": "stream",
       "stream": "stdout",
       "text": [
        "\n",
        "The error is 0.186\n",
        "****************Done with Lambda -4*********************"
       ]
      },
      {
       "output_type": "stream",
       "stream": "stdout",
       "text": [
        "\n",
        "****************The error is 0.186**************************\n",
        "=============Done with epoch 1==============="
       ]
      },
      {
       "output_type": "stream",
       "stream": "stdout",
       "text": [
        "\n",
        "The error is 0.318\n",
        "=============Done with epoch 2==============="
       ]
      },
      {
       "output_type": "stream",
       "stream": "stdout",
       "text": [
        "\n",
        "The error is 0.206\n",
        "=============Done with epoch 3==============="
       ]
      },
      {
       "output_type": "stream",
       "stream": "stdout",
       "text": [
        "\n",
        "The error is 0.43\n",
        "=============Done with epoch 4==============="
       ]
      },
      {
       "output_type": "stream",
       "stream": "stdout",
       "text": [
        "\n",
        "The error is 0.216\n",
        "=============Done with epoch 5==============="
       ]
      },
      {
       "output_type": "stream",
       "stream": "stdout",
       "text": [
        "\n",
        "The error is 0.276\n",
        "=============Done with epoch 6==============="
       ]
      },
      {
       "output_type": "stream",
       "stream": "stdout",
       "text": [
        "\n",
        "The error is 0.21\n",
        "=============Done with epoch 7==============="
       ]
      },
      {
       "output_type": "stream",
       "stream": "stdout",
       "text": [
        "\n",
        "The error is 0.188\n",
        "=============Done with epoch 8==============="
       ]
      },
      {
       "output_type": "stream",
       "stream": "stdout",
       "text": [
        "\n",
        "The error is 0.19\n",
        "=============Done with epoch 9==============="
       ]
      },
      {
       "output_type": "stream",
       "stream": "stdout",
       "text": [
        "\n",
        "The error is 0.404\n",
        "=============Done with epoch 10==============="
       ]
      },
      {
       "output_type": "stream",
       "stream": "stdout",
       "text": [
        "\n",
        "The error is 0.258\n",
        "=============Done with epoch 11==============="
       ]
      },
      {
       "output_type": "stream",
       "stream": "stdout",
       "text": [
        "\n",
        "The error is 0.194\n",
        "=============Done with epoch 12==============="
       ]
      },
      {
       "output_type": "stream",
       "stream": "stdout",
       "text": [
        "\n",
        "The error is 0.196\n",
        "=============Done with epoch 13==============="
       ]
      },
      {
       "output_type": "stream",
       "stream": "stdout",
       "text": [
        "\n",
        "The error is 0.2\n",
        "=============Done with epoch 14==============="
       ]
      },
      {
       "output_type": "stream",
       "stream": "stdout",
       "text": [
        "\n",
        "The error is 0.254\n",
        "=============Done with epoch 15==============="
       ]
      },
      {
       "output_type": "stream",
       "stream": "stdout",
       "text": [
        "\n",
        "The error is 0.224\n",
        "=============Done with epoch 16==============="
       ]
      },
      {
       "output_type": "stream",
       "stream": "stdout",
       "text": [
        "\n",
        "The error is 0.18\n",
        "=============Done with epoch 17==============="
       ]
      },
      {
       "output_type": "stream",
       "stream": "stdout",
       "text": [
        "\n",
        "The error is 0.202\n",
        "=============Done with epoch 18==============="
       ]
      },
      {
       "output_type": "stream",
       "stream": "stdout",
       "text": [
        "\n",
        "The error is 0.196\n",
        "=============Done with epoch 19==============="
       ]
      },
      {
       "output_type": "stream",
       "stream": "stdout",
       "text": [
        "\n",
        "The error is 0.198\n",
        "=============Done with epoch 20==============="
       ]
      },
      {
       "output_type": "stream",
       "stream": "stdout",
       "text": [
        "\n",
        "The error is 0.282\n",
        "=============Done with epoch 21==============="
       ]
      },
      {
       "output_type": "stream",
       "stream": "stdout",
       "text": [
        "\n",
        "The error is 0.186\n",
        "=============Done with epoch 22==============="
       ]
      },
      {
       "output_type": "stream",
       "stream": "stdout",
       "text": [
        "\n",
        "The error is 0.188\n",
        "=============Done with epoch 23==============="
       ]
      },
      {
       "output_type": "stream",
       "stream": "stdout",
       "text": [
        "\n",
        "The error is 0.18\n",
        "=============Done with epoch 24==============="
       ]
      },
      {
       "output_type": "stream",
       "stream": "stdout",
       "text": [
        "\n",
        "The error is 0.182\n",
        "=============Done with epoch 25==============="
       ]
      },
      {
       "output_type": "stream",
       "stream": "stdout",
       "text": [
        "\n",
        "The error is 0.19\n",
        "=============Done with epoch 26==============="
       ]
      },
      {
       "output_type": "stream",
       "stream": "stdout",
       "text": [
        "\n",
        "The error is 0.19\n",
        "=============Done with epoch 27==============="
       ]
      },
      {
       "output_type": "stream",
       "stream": "stdout",
       "text": [
        "\n",
        "The error is 0.19\n",
        "=============Done with epoch 28==============="
       ]
      },
      {
       "output_type": "stream",
       "stream": "stdout",
       "text": [
        "\n",
        "The error is 0.19\n",
        "=============Done with epoch 29==============="
       ]
      },
      {
       "output_type": "stream",
       "stream": "stdout",
       "text": [
        "\n",
        "The error is 0.19\n",
        "=============Done with epoch 30==============="
       ]
      },
      {
       "output_type": "stream",
       "stream": "stdout",
       "text": [
        "\n",
        "The error is 0.19\n",
        "=============Done with epoch 31==============="
       ]
      },
      {
       "output_type": "stream",
       "stream": "stdout",
       "text": [
        "\n",
        "The error is 0.19\n",
        "=============Done with epoch 32==============="
       ]
      },
      {
       "output_type": "stream",
       "stream": "stdout",
       "text": [
        "\n",
        "The error is 0.19\n",
        "=============Done with epoch 33==============="
       ]
      },
      {
       "output_type": "stream",
       "stream": "stdout",
       "text": [
        "\n",
        "The error is 0.19\n",
        "=============Done with epoch 34==============="
       ]
      },
      {
       "output_type": "stream",
       "stream": "stdout",
       "text": [
        "\n",
        "The error is 0.19\n",
        "=============Done with epoch 35==============="
       ]
      },
      {
       "output_type": "stream",
       "stream": "stdout",
       "text": [
        "\n",
        "The error is 0.184\n",
        "=============Done with epoch 36==============="
       ]
      },
      {
       "output_type": "stream",
       "stream": "stdout",
       "text": [
        "\n",
        "The error is 0.184\n",
        "=============Done with epoch 37==============="
       ]
      },
      {
       "output_type": "stream",
       "stream": "stdout",
       "text": [
        "\n",
        "The error is 0.184\n",
        "=============Done with epoch 38==============="
       ]
      },
      {
       "output_type": "stream",
       "stream": "stdout",
       "text": [
        "\n",
        "The error is 0.184\n",
        "=============Done with epoch 39==============="
       ]
      },
      {
       "output_type": "stream",
       "stream": "stdout",
       "text": [
        "\n",
        "The error is 0.184\n",
        "=============Done with epoch 40==============="
       ]
      },
      {
       "output_type": "stream",
       "stream": "stdout",
       "text": [
        "\n",
        "The error is 0.184\n",
        "****************Done with Lambda -3*********************"
       ]
      },
      {
       "output_type": "stream",
       "stream": "stdout",
       "text": [
        "\n",
        "****************The error is 0.184**************************\n",
        "=============Done with epoch 1==============="
       ]
      },
      {
       "output_type": "stream",
       "stream": "stdout",
       "text": [
        "\n",
        "The error is 0.39\n",
        "=============Done with epoch 2==============="
       ]
      },
      {
       "output_type": "stream",
       "stream": "stdout",
       "text": [
        "\n",
        "The error is 0.506\n",
        "=============Done with epoch 3==============="
       ]
      },
      {
       "output_type": "stream",
       "stream": "stdout",
       "text": [
        "\n",
        "The error is 0.216\n",
        "=============Done with epoch 4==============="
       ]
      },
      {
       "output_type": "stream",
       "stream": "stdout",
       "text": [
        "\n",
        "The error is 0.23\n",
        "=============Done with epoch 5==============="
       ]
      },
      {
       "output_type": "stream",
       "stream": "stdout",
       "text": [
        "\n",
        "The error is 0.194\n",
        "=============Done with epoch 6==============="
       ]
      },
      {
       "output_type": "stream",
       "stream": "stdout",
       "text": [
        "\n",
        "The error is 0.194\n",
        "=============Done with epoch 7==============="
       ]
      },
      {
       "output_type": "stream",
       "stream": "stdout",
       "text": [
        "\n",
        "The error is 0.34\n",
        "=============Done with epoch 8==============="
       ]
      },
      {
       "output_type": "stream",
       "stream": "stdout",
       "text": [
        "\n",
        "The error is 0.258\n",
        "=============Done with epoch 9==============="
       ]
      },
      {
       "output_type": "stream",
       "stream": "stdout",
       "text": [
        "\n",
        "The error is 0.204\n",
        "=============Done with epoch 10==============="
       ]
      },
      {
       "output_type": "stream",
       "stream": "stdout",
       "text": [
        "\n",
        "The error is 0.178\n",
        "=============Done with epoch 11==============="
       ]
      },
      {
       "output_type": "stream",
       "stream": "stdout",
       "text": [
        "\n",
        "The error is 0.182\n",
        "=============Done with epoch 12==============="
       ]
      },
      {
       "output_type": "stream",
       "stream": "stdout",
       "text": [
        "\n",
        "The error is 0.2\n",
        "=============Done with epoch 13==============="
       ]
      },
      {
       "output_type": "stream",
       "stream": "stdout",
       "text": [
        "\n",
        "The error is 0.198\n",
        "=============Done with epoch 14==============="
       ]
      },
      {
       "output_type": "stream",
       "stream": "stdout",
       "text": [
        "\n",
        "The error is 0.472\n",
        "=============Done with epoch 15==============="
       ]
      },
      {
       "output_type": "stream",
       "stream": "stdout",
       "text": [
        "\n",
        "The error is 0.202\n",
        "=============Done with epoch 16==============="
       ]
      },
      {
       "output_type": "stream",
       "stream": "stdout",
       "text": [
        "\n",
        "The error is 0.184\n",
        "=============Done with epoch 17==============="
       ]
      },
      {
       "output_type": "stream",
       "stream": "stdout",
       "text": [
        "\n",
        "The error is 0.172\n",
        "=============Done with epoch 18==============="
       ]
      },
      {
       "output_type": "stream",
       "stream": "stdout",
       "text": [
        "\n",
        "The error is 0.182\n",
        "=============Done with epoch 19==============="
       ]
      },
      {
       "output_type": "stream",
       "stream": "stdout",
       "text": [
        "\n",
        "The error is 0.172\n",
        "=============Done with epoch 20==============="
       ]
      },
      {
       "output_type": "stream",
       "stream": "stdout",
       "text": [
        "\n",
        "The error is 0.188\n",
        "=============Done with epoch 21==============="
       ]
      },
      {
       "output_type": "stream",
       "stream": "stdout",
       "text": [
        "\n",
        "The error is 0.186\n",
        "=============Done with epoch 22==============="
       ]
      },
      {
       "output_type": "stream",
       "stream": "stdout",
       "text": [
        "\n",
        "The error is 0.182\n",
        "=============Done with epoch 23==============="
       ]
      },
      {
       "output_type": "stream",
       "stream": "stdout",
       "text": [
        "\n",
        "The error is 0.188\n",
        "=============Done with epoch 24==============="
       ]
      },
      {
       "output_type": "stream",
       "stream": "stdout",
       "text": [
        "\n",
        "The error is 0.184\n",
        "=============Done with epoch 25==============="
       ]
      },
      {
       "output_type": "stream",
       "stream": "stdout",
       "text": [
        "\n",
        "The error is 0.172\n",
        "=============Done with epoch 26==============="
       ]
      },
      {
       "output_type": "stream",
       "stream": "stdout",
       "text": [
        "\n",
        "The error is 0.18\n",
        "=============Done with epoch 27==============="
       ]
      },
      {
       "output_type": "stream",
       "stream": "stdout",
       "text": [
        "\n",
        "The error is 0.186\n",
        "=============Done with epoch 28==============="
       ]
      },
      {
       "output_type": "stream",
       "stream": "stdout",
       "text": [
        "\n",
        "The error is 0.182\n",
        "=============Done with epoch 29==============="
       ]
      },
      {
       "output_type": "stream",
       "stream": "stdout",
       "text": [
        "\n",
        "The error is 0.192\n",
        "=============Done with epoch 30==============="
       ]
      },
      {
       "output_type": "stream",
       "stream": "stdout",
       "text": [
        "\n",
        "The error is 0.188\n",
        "=============Done with epoch 31==============="
       ]
      },
      {
       "output_type": "stream",
       "stream": "stdout",
       "text": [
        "\n",
        "The error is 0.19\n",
        "=============Done with epoch 32==============="
       ]
      },
      {
       "output_type": "stream",
       "stream": "stdout",
       "text": [
        "\n",
        "The error is 0.192\n",
        "=============Done with epoch 33==============="
       ]
      },
      {
       "output_type": "stream",
       "stream": "stdout",
       "text": [
        "\n",
        "The error is 0.2\n",
        "=============Done with epoch 34==============="
       ]
      },
      {
       "output_type": "stream",
       "stream": "stdout",
       "text": [
        "\n",
        "The error is 0.204\n",
        "=============Done with epoch 35==============="
       ]
      },
      {
       "output_type": "stream",
       "stream": "stdout",
       "text": [
        "\n",
        "The error is 0.194\n",
        "=============Done with epoch 36==============="
       ]
      },
      {
       "output_type": "stream",
       "stream": "stdout",
       "text": [
        "\n",
        "The error is 0.208\n",
        "=============Done with epoch 37==============="
       ]
      },
      {
       "output_type": "stream",
       "stream": "stdout",
       "text": [
        "\n",
        "The error is 0.206\n",
        "=============Done with epoch 38==============="
       ]
      },
      {
       "output_type": "stream",
       "stream": "stdout",
       "text": [
        "\n",
        "The error is 0.19\n",
        "=============Done with epoch 39==============="
       ]
      },
      {
       "output_type": "stream",
       "stream": "stdout",
       "text": [
        "\n",
        "The error is 0.194\n",
        "=============Done with epoch 40==============="
       ]
      },
      {
       "output_type": "stream",
       "stream": "stdout",
       "text": [
        "\n",
        "The error is 0.202\n",
        "****************Done with Lambda -2*********************"
       ]
      },
      {
       "output_type": "stream",
       "stream": "stdout",
       "text": [
        "\n",
        "****************The error is 0.202**************************\n",
        "=============Done with epoch 1==============="
       ]
      },
      {
       "output_type": "stream",
       "stream": "stdout",
       "text": [
        "\n",
        "The error is 0.514\n",
        "=============Done with epoch 2==============="
       ]
      },
      {
       "output_type": "stream",
       "stream": "stdout",
       "text": [
        "\n",
        "The error is 0.342\n",
        "=============Done with epoch 3==============="
       ]
      },
      {
       "output_type": "stream",
       "stream": "stdout",
       "text": [
        "\n",
        "The error is 0.208\n",
        "=============Done with epoch 4==============="
       ]
      },
      {
       "output_type": "stream",
       "stream": "stdout",
       "text": [
        "\n",
        "The error is 0.222\n",
        "=============Done with epoch 5==============="
       ]
      },
      {
       "output_type": "stream",
       "stream": "stdout",
       "text": [
        "\n",
        "The error is 0.198\n",
        "=============Done with epoch 6==============="
       ]
      },
      {
       "output_type": "stream",
       "stream": "stdout",
       "text": [
        "\n",
        "The error is 0.248\n",
        "=============Done with epoch 7==============="
       ]
      },
      {
       "output_type": "stream",
       "stream": "stdout",
       "text": [
        "\n",
        "The error is 0.212\n",
        "=============Done with epoch 8==============="
       ]
      },
      {
       "output_type": "stream",
       "stream": "stdout",
       "text": [
        "\n",
        "The error is 0.268\n",
        "=============Done with epoch 9==============="
       ]
      },
      {
       "output_type": "stream",
       "stream": "stdout",
       "text": [
        "\n",
        "The error is 0.186\n",
        "=============Done with epoch 10==============="
       ]
      },
      {
       "output_type": "stream",
       "stream": "stdout",
       "text": [
        "\n",
        "The error is 0.232\n",
        "=============Done with epoch 11==============="
       ]
      },
      {
       "output_type": "stream",
       "stream": "stdout",
       "text": [
        "\n",
        "The error is 0.204\n",
        "=============Done with epoch 12==============="
       ]
      },
      {
       "output_type": "stream",
       "stream": "stdout",
       "text": [
        "\n",
        "The error is 0.248\n",
        "=============Done with epoch 13==============="
       ]
      },
      {
       "output_type": "stream",
       "stream": "stdout",
       "text": [
        "\n",
        "The error is 0.306\n",
        "=============Done with epoch 14==============="
       ]
      },
      {
       "output_type": "stream",
       "stream": "stdout",
       "text": [
        "\n",
        "The error is 0.204\n",
        "=============Done with epoch 15==============="
       ]
      },
      {
       "output_type": "stream",
       "stream": "stdout",
       "text": [
        "\n",
        "The error is 0.182\n",
        "=============Done with epoch 16==============="
       ]
      },
      {
       "output_type": "stream",
       "stream": "stdout",
       "text": [
        "\n",
        "The error is 0.228\n",
        "=============Done with epoch 17==============="
       ]
      },
      {
       "output_type": "stream",
       "stream": "stdout",
       "text": [
        "\n",
        "The error is 0.184\n",
        "=============Done with epoch 18==============="
       ]
      },
      {
       "output_type": "stream",
       "stream": "stdout",
       "text": [
        "\n",
        "The error is 0.214\n",
        "=============Done with epoch 19==============="
       ]
      },
      {
       "output_type": "stream",
       "stream": "stdout",
       "text": [
        "\n",
        "The error is 0.174\n",
        "=============Done with epoch 20==============="
       ]
      },
      {
       "output_type": "stream",
       "stream": "stdout",
       "text": [
        "\n",
        "The error is 0.244\n",
        "=============Done with epoch 21==============="
       ]
      },
      {
       "output_type": "stream",
       "stream": "stdout",
       "text": [
        "\n",
        "The error is 0.168\n",
        "=============Done with epoch 22==============="
       ]
      },
      {
       "output_type": "stream",
       "stream": "stdout",
       "text": [
        "\n",
        "The error is 0.176\n",
        "=============Done with epoch 23==============="
       ]
      },
      {
       "output_type": "stream",
       "stream": "stdout",
       "text": [
        "\n",
        "The error is 0.182\n",
        "=============Done with epoch 24==============="
       ]
      },
      {
       "output_type": "stream",
       "stream": "stdout",
       "text": [
        "\n",
        "The error is 0.17\n",
        "=============Done with epoch 25==============="
       ]
      },
      {
       "output_type": "stream",
       "stream": "stdout",
       "text": [
        "\n",
        "The error is 0.17\n",
        "=============Done with epoch 26==============="
       ]
      },
      {
       "output_type": "stream",
       "stream": "stdout",
       "text": [
        "\n",
        "The error is 0.172\n",
        "=============Done with epoch 27==============="
       ]
      },
      {
       "output_type": "stream",
       "stream": "stdout",
       "text": [
        "\n",
        "The error is 0.168\n",
        "=============Done with epoch 28==============="
       ]
      },
      {
       "output_type": "stream",
       "stream": "stdout",
       "text": [
        "\n",
        "The error is 0.184\n",
        "=============Done with epoch 29==============="
       ]
      },
      {
       "output_type": "stream",
       "stream": "stdout",
       "text": [
        "\n",
        "The error is 0.186\n",
        "=============Done with epoch 30==============="
       ]
      },
      {
       "output_type": "stream",
       "stream": "stdout",
       "text": [
        "\n",
        "The error is 0.178\n",
        "=============Done with epoch 31==============="
       ]
      },
      {
       "output_type": "stream",
       "stream": "stdout",
       "text": [
        "\n",
        "The error is 0.176\n",
        "=============Done with epoch 32==============="
       ]
      },
      {
       "output_type": "stream",
       "stream": "stdout",
       "text": [
        "\n",
        "The error is 0.18\n",
        "=============Done with epoch 33==============="
       ]
      },
      {
       "output_type": "stream",
       "stream": "stdout",
       "text": [
        "\n",
        "The error is 0.182\n",
        "=============Done with epoch 34==============="
       ]
      },
      {
       "output_type": "stream",
       "stream": "stdout",
       "text": [
        "\n",
        "The error is 0.176\n",
        "=============Done with epoch 35==============="
       ]
      },
      {
       "output_type": "stream",
       "stream": "stdout",
       "text": [
        "\n",
        "The error is 0.194\n",
        "=============Done with epoch 36==============="
       ]
      },
      {
       "output_type": "stream",
       "stream": "stdout",
       "text": [
        "\n",
        "The error is 0.184\n",
        "=============Done with epoch 37==============="
       ]
      },
      {
       "output_type": "stream",
       "stream": "stdout",
       "text": [
        "\n",
        "The error is 0.174\n",
        "=============Done with epoch 38==============="
       ]
      },
      {
       "output_type": "stream",
       "stream": "stdout",
       "text": [
        "\n",
        "The error is 0.178\n",
        "=============Done with epoch 39==============="
       ]
      },
      {
       "output_type": "stream",
       "stream": "stdout",
       "text": [
        "\n",
        "The error is 0.214\n",
        "=============Done with epoch 40==============="
       ]
      },
      {
       "output_type": "stream",
       "stream": "stdout",
       "text": [
        "\n",
        "The error is 0.18\n",
        "****************Done with Lambda -1*********************"
       ]
      },
      {
       "output_type": "stream",
       "stream": "stdout",
       "text": [
        "\n",
        "****************The error is 0.18**************************\n",
        "=============Done with epoch 1==============="
       ]
      },
      {
       "output_type": "stream",
       "stream": "stdout",
       "text": [
        "\n",
        "The error is 0.414\n",
        "=============Done with epoch 2==============="
       ]
      },
      {
       "output_type": "stream",
       "stream": "stdout",
       "text": [
        "\n",
        "The error is 0.304\n",
        "=============Done with epoch 3==============="
       ]
      },
      {
       "output_type": "stream",
       "stream": "stdout",
       "text": [
        "\n",
        "The error is 0.28\n",
        "=============Done with epoch 4==============="
       ]
      },
      {
       "output_type": "stream",
       "stream": "stdout",
       "text": [
        "\n",
        "The error is 0.294\n",
        "=============Done with epoch 5==============="
       ]
      },
      {
       "output_type": "stream",
       "stream": "stdout",
       "text": [
        "\n",
        "The error is 0.204\n",
        "=============Done with epoch 6==============="
       ]
      },
      {
       "output_type": "stream",
       "stream": "stdout",
       "text": [
        "\n",
        "The error is 0.216\n",
        "=============Done with epoch 7==============="
       ]
      },
      {
       "output_type": "stream",
       "stream": "stdout",
       "text": [
        "\n",
        "The error is 0.212\n",
        "=============Done with epoch 8==============="
       ]
      },
      {
       "output_type": "stream",
       "stream": "stdout",
       "text": [
        "\n",
        "The error is 0.246\n",
        "=============Done with epoch 9==============="
       ]
      },
      {
       "output_type": "stream",
       "stream": "stdout",
       "text": [
        "\n",
        "The error is 0.188\n",
        "=============Done with epoch 10==============="
       ]
      },
      {
       "output_type": "stream",
       "stream": "stdout",
       "text": [
        "\n",
        "The error is 0.206\n",
        "=============Done with epoch 11==============="
       ]
      },
      {
       "output_type": "stream",
       "stream": "stdout",
       "text": [
        "\n",
        "The error is 0.294\n",
        "=============Done with epoch 12==============="
       ]
      },
      {
       "output_type": "stream",
       "stream": "stdout",
       "text": [
        "\n",
        "The error is 0.192\n",
        "=============Done with epoch 13==============="
       ]
      },
      {
       "output_type": "stream",
       "stream": "stdout",
       "text": [
        "\n",
        "The error is 0.27\n",
        "=============Done with epoch 14==============="
       ]
      },
      {
       "output_type": "stream",
       "stream": "stdout",
       "text": [
        "\n",
        "The error is 0.21\n",
        "=============Done with epoch 15==============="
       ]
      },
      {
       "output_type": "stream",
       "stream": "stdout",
       "text": [
        "\n",
        "The error is 0.196\n",
        "=============Done with epoch 16==============="
       ]
      },
      {
       "output_type": "stream",
       "stream": "stdout",
       "text": [
        "\n",
        "The error is 0.198\n",
        "=============Done with epoch 17==============="
       ]
      },
      {
       "output_type": "stream",
       "stream": "stdout",
       "text": [
        "\n",
        "The error is 0.192\n",
        "=============Done with epoch 18==============="
       ]
      },
      {
       "output_type": "stream",
       "stream": "stdout",
       "text": [
        "\n",
        "The error is 0.202\n",
        "=============Done with epoch 19==============="
       ]
      },
      {
       "output_type": "stream",
       "stream": "stdout",
       "text": [
        "\n",
        "The error is 0.202\n",
        "=============Done with epoch 20==============="
       ]
      },
      {
       "output_type": "stream",
       "stream": "stdout",
       "text": [
        "\n",
        "The error is 0.188\n",
        "=============Done with epoch 21==============="
       ]
      },
      {
       "output_type": "stream",
       "stream": "stdout",
       "text": [
        "\n",
        "The error is 0.196\n",
        "=============Done with epoch 22==============="
       ]
      },
      {
       "output_type": "stream",
       "stream": "stdout",
       "text": [
        "\n",
        "The error is 0.184\n",
        "=============Done with epoch 23==============="
       ]
      },
      {
       "output_type": "stream",
       "stream": "stdout",
       "text": [
        "\n",
        "The error is 0.19\n",
        "=============Done with epoch 24==============="
       ]
      },
      {
       "output_type": "stream",
       "stream": "stdout",
       "text": [
        "\n",
        "The error is 0.19\n",
        "=============Done with epoch 25==============="
       ]
      },
      {
       "output_type": "stream",
       "stream": "stdout",
       "text": [
        "\n",
        "The error is 0.196\n",
        "=============Done with epoch 26==============="
       ]
      },
      {
       "output_type": "stream",
       "stream": "stdout",
       "text": [
        "\n",
        "The error is 0.196\n",
        "=============Done with epoch 27==============="
       ]
      },
      {
       "output_type": "stream",
       "stream": "stdout",
       "text": [
        "\n",
        "The error is 0.2\n",
        "=============Done with epoch 28==============="
       ]
      },
      {
       "output_type": "stream",
       "stream": "stdout",
       "text": [
        "\n",
        "The error is 0.186\n",
        "=============Done with epoch 29==============="
       ]
      },
      {
       "output_type": "stream",
       "stream": "stdout",
       "text": [
        "\n",
        "The error is 0.26\n",
        "=============Done with epoch 30==============="
       ]
      },
      {
       "output_type": "stream",
       "stream": "stdout",
       "text": [
        "\n",
        "The error is 0.192\n",
        "=============Done with epoch 31==============="
       ]
      },
      {
       "output_type": "stream",
       "stream": "stdout",
       "text": [
        "\n",
        "The error is 0.226\n",
        "=============Done with epoch 32==============="
       ]
      },
      {
       "output_type": "stream",
       "stream": "stdout",
       "text": [
        "\n",
        "The error is 0.196\n",
        "=============Done with epoch 33==============="
       ]
      },
      {
       "output_type": "stream",
       "stream": "stdout",
       "text": [
        "\n",
        "The error is 0.19\n",
        "=============Done with epoch 34==============="
       ]
      },
      {
       "output_type": "stream",
       "stream": "stdout",
       "text": [
        "\n",
        "The error is 0.192\n",
        "=============Done with epoch 35==============="
       ]
      },
      {
       "output_type": "stream",
       "stream": "stdout",
       "text": [
        "\n",
        "The error is 0.2\n",
        "=============Done with epoch 36==============="
       ]
      },
      {
       "output_type": "stream",
       "stream": "stdout",
       "text": [
        "\n",
        "The error is 0.192\n",
        "=============Done with epoch 37==============="
       ]
      },
      {
       "output_type": "stream",
       "stream": "stdout",
       "text": [
        "\n",
        "The error is 0.198\n",
        "=============Done with epoch 38==============="
       ]
      },
      {
       "output_type": "stream",
       "stream": "stdout",
       "text": [
        "\n",
        "The error is 0.194\n",
        "=============Done with epoch 39==============="
       ]
      },
      {
       "output_type": "stream",
       "stream": "stdout",
       "text": [
        "\n",
        "The error is 0.196\n",
        "=============Done with epoch 40==============="
       ]
      },
      {
       "output_type": "stream",
       "stream": "stdout",
       "text": [
        "\n",
        "The error is 0.242\n",
        "****************Done with Lambda 0*********************"
       ]
      },
      {
       "output_type": "stream",
       "stream": "stdout",
       "text": [
        "\n",
        "****************The error is 0.242**************************\n",
        "=============Done with epoch 1==============="
       ]
      },
      {
       "output_type": "stream",
       "stream": "stdout",
       "text": [
        "\n",
        "The error is 0.28\n",
        "=============Done with epoch 2==============="
       ]
      },
      {
       "output_type": "stream",
       "stream": "stdout",
       "text": [
        "\n",
        "The error is 0.298\n",
        "=============Done with epoch 3==============="
       ]
      },
      {
       "output_type": "stream",
       "stream": "stdout",
       "text": [
        "\n",
        "The error is 0.37\n",
        "=============Done with epoch 4==============="
       ]
      },
      {
       "output_type": "stream",
       "stream": "stdout",
       "text": [
        "\n",
        "The error is 0.282\n",
        "=============Done with epoch 5==============="
       ]
      },
      {
       "output_type": "stream",
       "stream": "stdout",
       "text": [
        "\n",
        "The error is 0.29\n",
        "=============Done with epoch 6==============="
       ]
      },
      {
       "output_type": "stream",
       "stream": "stdout",
       "text": [
        "\n",
        "The error is 0.314\n",
        "=============Done with epoch 7==============="
       ]
      },
      {
       "output_type": "stream",
       "stream": "stdout",
       "text": [
        "\n",
        "The error is 0.314\n",
        "=============Done with epoch 8==============="
       ]
      },
      {
       "output_type": "stream",
       "stream": "stdout",
       "text": [
        "\n",
        "The error is 0.3\n",
        "=============Done with epoch 9==============="
       ]
      },
      {
       "output_type": "stream",
       "stream": "stdout",
       "text": [
        "\n",
        "The error is 0.286\n",
        "=============Done with epoch 10==============="
       ]
      },
      {
       "output_type": "stream",
       "stream": "stdout",
       "text": [
        "\n",
        "The error is 0.298\n",
        "=============Done with epoch 11==============="
       ]
      },
      {
       "output_type": "stream",
       "stream": "stdout",
       "text": [
        "\n",
        "The error is 0.284\n",
        "=============Done with epoch 12==============="
       ]
      },
      {
       "output_type": "stream",
       "stream": "stdout",
       "text": [
        "\n",
        "The error is 0.296\n",
        "=============Done with epoch 13==============="
       ]
      },
      {
       "output_type": "stream",
       "stream": "stdout",
       "text": [
        "\n",
        "The error is 0.294\n",
        "=============Done with epoch 14==============="
       ]
      },
      {
       "output_type": "stream",
       "stream": "stdout",
       "text": [
        "\n",
        "The error is 0.29\n",
        "=============Done with epoch 15==============="
       ]
      },
      {
       "output_type": "stream",
       "stream": "stdout",
       "text": [
        "\n",
        "The error is 0.318\n",
        "=============Done with epoch 16==============="
       ]
      },
      {
       "output_type": "stream",
       "stream": "stdout",
       "text": [
        "\n",
        "The error is 0.296\n",
        "=============Done with epoch 17==============="
       ]
      },
      {
       "output_type": "stream",
       "stream": "stdout",
       "text": [
        "\n",
        "The error is 0.284\n",
        "=============Done with epoch 18==============="
       ]
      },
      {
       "output_type": "stream",
       "stream": "stdout",
       "text": [
        "\n",
        "The error is 0.312\n",
        "=============Done with epoch 19==============="
       ]
      },
      {
       "output_type": "stream",
       "stream": "stdout",
       "text": [
        "\n",
        "The error is 0.282\n",
        "=============Done with epoch 20==============="
       ]
      },
      {
       "output_type": "stream",
       "stream": "stdout",
       "text": [
        "\n",
        "The error is 0.29\n",
        "=============Done with epoch 21==============="
       ]
      },
      {
       "output_type": "stream",
       "stream": "stdout",
       "text": [
        "\n",
        "The error is 0.284\n",
        "=============Done with epoch 22==============="
       ]
      },
      {
       "output_type": "stream",
       "stream": "stdout",
       "text": [
        "\n",
        "The error is 0.284\n",
        "=============Done with epoch 23==============="
       ]
      },
      {
       "output_type": "stream",
       "stream": "stdout",
       "text": [
        "\n",
        "The error is 0.294\n",
        "=============Done with epoch 24==============="
       ]
      },
      {
       "output_type": "stream",
       "stream": "stdout",
       "text": [
        "\n",
        "The error is 0.28\n",
        "=============Done with epoch 25==============="
       ]
      },
      {
       "output_type": "stream",
       "stream": "stdout",
       "text": [
        "\n",
        "The error is 0.28\n",
        "=============Done with epoch 26==============="
       ]
      },
      {
       "output_type": "stream",
       "stream": "stdout",
       "text": [
        "\n",
        "The error is 0.298\n",
        "=============Done with epoch 27==============="
       ]
      },
      {
       "output_type": "stream",
       "stream": "stdout",
       "text": [
        "\n",
        "The error is 0.292\n",
        "=============Done with epoch 28==============="
       ]
      },
      {
       "output_type": "stream",
       "stream": "stdout",
       "text": [
        "\n",
        "The error is 0.292\n",
        "=============Done with epoch 29==============="
       ]
      },
      {
       "output_type": "stream",
       "stream": "stdout",
       "text": [
        "\n",
        "The error is 0.316\n",
        "=============Done with epoch 30==============="
       ]
      },
      {
       "output_type": "stream",
       "stream": "stdout",
       "text": [
        "\n",
        "The error is 0.282\n",
        "=============Done with epoch 31==============="
       ]
      },
      {
       "output_type": "stream",
       "stream": "stdout",
       "text": [
        "\n",
        "The error is 0.31\n",
        "=============Done with epoch 32==============="
       ]
      },
      {
       "output_type": "stream",
       "stream": "stdout",
       "text": [
        "\n",
        "The error is 0.298\n",
        "=============Done with epoch 33==============="
       ]
      },
      {
       "output_type": "stream",
       "stream": "stdout",
       "text": [
        "\n",
        "The error is 0.312\n",
        "=============Done with epoch 34==============="
       ]
      },
      {
       "output_type": "stream",
       "stream": "stdout",
       "text": [
        "\n",
        "The error is 0.28\n",
        "=============Done with epoch 35==============="
       ]
      },
      {
       "output_type": "stream",
       "stream": "stdout",
       "text": [
        "\n",
        "The error is 0.32\n",
        "=============Done with epoch 36==============="
       ]
      },
      {
       "output_type": "stream",
       "stream": "stdout",
       "text": [
        "\n",
        "The error is 0.284\n",
        "=============Done with epoch 37==============="
       ]
      },
      {
       "output_type": "stream",
       "stream": "stdout",
       "text": [
        "\n",
        "The error is 0.288\n",
        "=============Done with epoch 38==============="
       ]
      },
      {
       "output_type": "stream",
       "stream": "stdout",
       "text": [
        "\n",
        "The error is 0.31\n",
        "=============Done with epoch 39==============="
       ]
      },
      {
       "output_type": "stream",
       "stream": "stdout",
       "text": [
        "\n",
        "The error is 0.282\n",
        "=============Done with epoch 40==============="
       ]
      },
      {
       "output_type": "stream",
       "stream": "stdout",
       "text": [
        "\n",
        "The error is 0.31\n",
        "****************Done with Lambda 1*********************"
       ]
      },
      {
       "output_type": "stream",
       "stream": "stdout",
       "text": [
        "\n",
        "****************The error is 0.31**************************\n",
        "=============Done with epoch 1==============="
       ]
      },
      {
       "output_type": "stream",
       "stream": "stdout",
       "text": [
        "\n",
        "The error is 0.466\n",
        "=============Done with epoch 2==============="
       ]
      },
      {
       "output_type": "stream",
       "stream": "stdout",
       "text": [
        "\n",
        "The error is 0.472\n",
        "=============Done with epoch 3==============="
       ]
      },
      {
       "output_type": "stream",
       "stream": "stdout",
       "text": [
        "\n",
        "The error is 0.472\n",
        "=============Done with epoch 4==============="
       ]
      },
      {
       "output_type": "stream",
       "stream": "stdout",
       "text": [
        "\n",
        "The error is 0.464\n",
        "=============Done with epoch 5==============="
       ]
      },
      {
       "output_type": "stream",
       "stream": "stdout",
       "text": [
        "\n",
        "The error is 0.472\n",
        "=============Done with epoch 6==============="
       ]
      },
      {
       "output_type": "stream",
       "stream": "stdout",
       "text": [
        "\n",
        "The error is 0.47\n",
        "=============Done with epoch 7==============="
       ]
      },
      {
       "output_type": "stream",
       "stream": "stdout",
       "text": [
        "\n",
        "The error is 0.468\n",
        "=============Done with epoch 8==============="
       ]
      },
      {
       "output_type": "stream",
       "stream": "stdout",
       "text": [
        "\n",
        "The error is 0.47\n",
        "=============Done with epoch 9==============="
       ]
      },
      {
       "output_type": "stream",
       "stream": "stdout",
       "text": [
        "\n",
        "The error is 0.466\n",
        "=============Done with epoch 10==============="
       ]
      },
      {
       "output_type": "stream",
       "stream": "stdout",
       "text": [
        "\n",
        "The error is 0.472\n",
        "=============Done with epoch 11==============="
       ]
      },
      {
       "output_type": "stream",
       "stream": "stdout",
       "text": [
        "\n",
        "The error is 0.472\n",
        "=============Done with epoch 12==============="
       ]
      },
      {
       "output_type": "stream",
       "stream": "stdout",
       "text": [
        "\n",
        "The error is 0.47\n",
        "=============Done with epoch 13==============="
       ]
      },
      {
       "output_type": "stream",
       "stream": "stdout",
       "text": [
        "\n",
        "The error is 0.472\n",
        "=============Done with epoch 14==============="
       ]
      },
      {
       "output_type": "stream",
       "stream": "stdout",
       "text": [
        "\n",
        "The error is 0.47\n",
        "=============Done with epoch 15==============="
       ]
      },
      {
       "output_type": "stream",
       "stream": "stdout",
       "text": [
        "\n",
        "The error is 0.472\n",
        "=============Done with epoch 16==============="
       ]
      },
      {
       "output_type": "stream",
       "stream": "stdout",
       "text": [
        "\n",
        "The error is 0.472\n",
        "=============Done with epoch 17==============="
       ]
      },
      {
       "output_type": "stream",
       "stream": "stdout",
       "text": [
        "\n",
        "The error is 0.472\n",
        "=============Done with epoch 18==============="
       ]
      },
      {
       "output_type": "stream",
       "stream": "stdout",
       "text": [
        "\n",
        "The error is 0.472\n",
        "=============Done with epoch 19==============="
       ]
      },
      {
       "output_type": "stream",
       "stream": "stdout",
       "text": [
        "\n",
        "The error is 0.472\n",
        "=============Done with epoch 20==============="
       ]
      },
      {
       "output_type": "stream",
       "stream": "stdout",
       "text": [
        "\n",
        "The error is 0.472\n",
        "=============Done with epoch 21==============="
       ]
      },
      {
       "output_type": "stream",
       "stream": "stdout",
       "text": [
        "\n",
        "The error is 0.472\n",
        "=============Done with epoch 22==============="
       ]
      },
      {
       "output_type": "stream",
       "stream": "stdout",
       "text": [
        "\n",
        "The error is 0.472\n",
        "=============Done with epoch 23==============="
       ]
      },
      {
       "output_type": "stream",
       "stream": "stdout",
       "text": [
        "\n",
        "The error is 0.472\n",
        "=============Done with epoch 24==============="
       ]
      },
      {
       "output_type": "stream",
       "stream": "stdout",
       "text": [
        "\n",
        "The error is 0.472\n",
        "=============Done with epoch 25==============="
       ]
      },
      {
       "output_type": "stream",
       "stream": "stdout",
       "text": [
        "\n",
        "The error is 0.472\n",
        "=============Done with epoch 26==============="
       ]
      },
      {
       "output_type": "stream",
       "stream": "stdout",
       "text": [
        "\n",
        "The error is 0.472\n",
        "=============Done with epoch 27==============="
       ]
      },
      {
       "output_type": "stream",
       "stream": "stdout",
       "text": [
        "\n",
        "The error is 0.472\n",
        "=============Done with epoch 28==============="
       ]
      },
      {
       "output_type": "stream",
       "stream": "stdout",
       "text": [
        "\n",
        "The error is 0.472\n",
        "=============Done with epoch 29==============="
       ]
      },
      {
       "output_type": "stream",
       "stream": "stdout",
       "text": [
        "\n",
        "The error is 0.472\n",
        "=============Done with epoch 30==============="
       ]
      },
      {
       "output_type": "stream",
       "stream": "stdout",
       "text": [
        "\n",
        "The error is 0.472\n",
        "=============Done with epoch 31==============="
       ]
      },
      {
       "output_type": "stream",
       "stream": "stdout",
       "text": [
        "\n",
        "The error is 0.472\n",
        "=============Done with epoch 32==============="
       ]
      },
      {
       "output_type": "stream",
       "stream": "stdout",
       "text": [
        "\n",
        "The error is 0.472\n",
        "=============Done with epoch 33==============="
       ]
      },
      {
       "output_type": "stream",
       "stream": "stdout",
       "text": [
        "\n",
        "The error is 0.472\n",
        "=============Done with epoch 34==============="
       ]
      },
      {
       "output_type": "stream",
       "stream": "stdout",
       "text": [
        "\n",
        "The error is 0.472\n",
        "=============Done with epoch 35==============="
       ]
      },
      {
       "output_type": "stream",
       "stream": "stdout",
       "text": [
        "\n",
        "The error is 0.472\n",
        "=============Done with epoch 36==============="
       ]
      },
      {
       "output_type": "stream",
       "stream": "stdout",
       "text": [
        "\n",
        "The error is 0.472\n",
        "=============Done with epoch 37==============="
       ]
      },
      {
       "output_type": "stream",
       "stream": "stdout",
       "text": [
        "\n",
        "The error is 0.472\n",
        "=============Done with epoch 38==============="
       ]
      },
      {
       "output_type": "stream",
       "stream": "stdout",
       "text": [
        "\n",
        "The error is 0.472\n",
        "=============Done with epoch 39==============="
       ]
      },
      {
       "output_type": "stream",
       "stream": "stdout",
       "text": [
        "\n",
        "The error is 0.472\n",
        "=============Done with epoch 40==============="
       ]
      },
      {
       "output_type": "stream",
       "stream": "stdout",
       "text": [
        "\n",
        "The error is 0.472\n",
        "****************Done with Lambda 2*********************"
       ]
      },
      {
       "output_type": "stream",
       "stream": "stdout",
       "text": [
        "\n",
        "****************The error is 0.472**************************\n",
        "=============Done with epoch 1==============="
       ]
      },
      {
       "output_type": "stream",
       "stream": "stdout",
       "text": [
        "\n",
        "The error is 0.474\n",
        "=============Done with epoch 2==============="
       ]
      },
      {
       "output_type": "stream",
       "stream": "stdout",
       "text": [
        "\n",
        "The error is 0.474\n",
        "=============Done with epoch 3==============="
       ]
      },
      {
       "output_type": "stream",
       "stream": "stdout",
       "text": [
        "\n",
        "The error is 0.474\n",
        "=============Done with epoch 4==============="
       ]
      },
      {
       "output_type": "stream",
       "stream": "stdout",
       "text": [
        "\n",
        "The error is 0.474\n",
        "=============Done with epoch 5==============="
       ]
      },
      {
       "output_type": "stream",
       "stream": "stdout",
       "text": [
        "\n",
        "The error is 0.474\n",
        "=============Done with epoch 6==============="
       ]
      },
      {
       "output_type": "stream",
       "stream": "stdout",
       "text": [
        "\n",
        "The error is 0.474\n",
        "=============Done with epoch 7==============="
       ]
      },
      {
       "output_type": "stream",
       "stream": "stdout",
       "text": [
        "\n",
        "The error is 0.474\n",
        "=============Done with epoch 8==============="
       ]
      },
      {
       "output_type": "stream",
       "stream": "stdout",
       "text": [
        "\n",
        "The error is 0.474\n",
        "=============Done with epoch 9==============="
       ]
      },
      {
       "output_type": "stream",
       "stream": "stdout",
       "text": [
        "\n",
        "The error is 0.474\n",
        "=============Done with epoch 10==============="
       ]
      },
      {
       "output_type": "stream",
       "stream": "stdout",
       "text": [
        "\n",
        "The error is 0.474\n",
        "=============Done with epoch 11==============="
       ]
      },
      {
       "output_type": "stream",
       "stream": "stdout",
       "text": [
        "\n",
        "The error is 0.474\n",
        "=============Done with epoch 12==============="
       ]
      },
      {
       "output_type": "stream",
       "stream": "stdout",
       "text": [
        "\n",
        "The error is 0.474\n",
        "=============Done with epoch 13==============="
       ]
      },
      {
       "output_type": "stream",
       "stream": "stdout",
       "text": [
        "\n",
        "The error is 0.474\n",
        "=============Done with epoch 14==============="
       ]
      },
      {
       "output_type": "stream",
       "stream": "stdout",
       "text": [
        "\n",
        "The error is 0.474\n",
        "=============Done with epoch 15==============="
       ]
      },
      {
       "output_type": "stream",
       "stream": "stdout",
       "text": [
        "\n",
        "The error is 0.474\n",
        "=============Done with epoch 16==============="
       ]
      },
      {
       "output_type": "stream",
       "stream": "stdout",
       "text": [
        "\n",
        "The error is 0.474\n",
        "=============Done with epoch 17==============="
       ]
      },
      {
       "output_type": "stream",
       "stream": "stdout",
       "text": [
        "\n",
        "The error is 0.474\n",
        "=============Done with epoch 18==============="
       ]
      },
      {
       "output_type": "stream",
       "stream": "stdout",
       "text": [
        "\n",
        "The error is 0.474\n",
        "=============Done with epoch 19==============="
       ]
      },
      {
       "output_type": "stream",
       "stream": "stdout",
       "text": [
        "\n",
        "The error is 0.474\n",
        "=============Done with epoch 20==============="
       ]
      },
      {
       "output_type": "stream",
       "stream": "stdout",
       "text": [
        "\n",
        "The error is 0.474\n",
        "=============Done with epoch 21==============="
       ]
      },
      {
       "output_type": "stream",
       "stream": "stdout",
       "text": [
        "\n",
        "The error is 0.474\n",
        "=============Done with epoch 22==============="
       ]
      },
      {
       "output_type": "stream",
       "stream": "stdout",
       "text": [
        "\n",
        "The error is 0.474\n",
        "=============Done with epoch 23==============="
       ]
      },
      {
       "output_type": "stream",
       "stream": "stdout",
       "text": [
        "\n",
        "The error is 0.474\n",
        "=============Done with epoch 24==============="
       ]
      },
      {
       "output_type": "stream",
       "stream": "stdout",
       "text": [
        "\n",
        "The error is 0.474\n",
        "=============Done with epoch 25==============="
       ]
      },
      {
       "output_type": "stream",
       "stream": "stdout",
       "text": [
        "\n",
        "The error is 0.474\n",
        "=============Done with epoch 26==============="
       ]
      },
      {
       "output_type": "stream",
       "stream": "stdout",
       "text": [
        "\n",
        "The error is 0.474\n",
        "=============Done with epoch 27==============="
       ]
      },
      {
       "output_type": "stream",
       "stream": "stdout",
       "text": [
        "\n",
        "The error is 0.474\n",
        "=============Done with epoch 28==============="
       ]
      },
      {
       "output_type": "stream",
       "stream": "stdout",
       "text": [
        "\n",
        "The error is 0.474\n",
        "=============Done with epoch 29==============="
       ]
      },
      {
       "output_type": "stream",
       "stream": "stdout",
       "text": [
        "\n",
        "The error is 0.474\n",
        "=============Done with epoch 30==============="
       ]
      },
      {
       "output_type": "stream",
       "stream": "stdout",
       "text": [
        "\n",
        "The error is 0.474\n",
        "=============Done with epoch 31==============="
       ]
      },
      {
       "output_type": "stream",
       "stream": "stdout",
       "text": [
        "\n",
        "The error is 0.474\n",
        "=============Done with epoch 32==============="
       ]
      },
      {
       "output_type": "stream",
       "stream": "stdout",
       "text": [
        "\n",
        "The error is 0.474\n",
        "=============Done with epoch 33==============="
       ]
      },
      {
       "output_type": "stream",
       "stream": "stdout",
       "text": [
        "\n",
        "The error is 0.474\n",
        "=============Done with epoch 34==============="
       ]
      },
      {
       "output_type": "stream",
       "stream": "stdout",
       "text": [
        "\n",
        "The error is 0.474\n",
        "=============Done with epoch 35==============="
       ]
      },
      {
       "output_type": "stream",
       "stream": "stdout",
       "text": [
        "\n",
        "The error is 0.474\n",
        "=============Done with epoch 36==============="
       ]
      },
      {
       "output_type": "stream",
       "stream": "stdout",
       "text": [
        "\n",
        "The error is 0.474\n",
        "=============Done with epoch 37==============="
       ]
      },
      {
       "output_type": "stream",
       "stream": "stdout",
       "text": [
        "\n",
        "The error is 0.474\n",
        "=============Done with epoch 38==============="
       ]
      },
      {
       "output_type": "stream",
       "stream": "stdout",
       "text": [
        "\n",
        "The error is 0.474\n",
        "=============Done with epoch 39==============="
       ]
      },
      {
       "output_type": "stream",
       "stream": "stdout",
       "text": [
        "\n",
        "The error is 0.474\n",
        "=============Done with epoch 40==============="
       ]
      },
      {
       "output_type": "stream",
       "stream": "stdout",
       "text": [
        "\n",
        "The error is 0.474\n",
        "****************Done with Lambda 3*********************"
       ]
      },
      {
       "output_type": "stream",
       "stream": "stdout",
       "text": [
        "\n",
        "****************The error is 0.474**************************\n"
       ]
      },
      {
       "metadata": {},
       "output_type": "pyout",
       "prompt_number": 885,
       "text": [
        "<matplotlib.text.Text at 0x14022a810>"
       ]
      },
      {
       "metadata": {},
       "output_type": "display_data",
       "png": "[encoded data removed]",
       "text": [
        "<matplotlib.figure.Figure at 0x140177b50>"
       ]
      }
     ],
     "prompt_number": 885
    },
    {
     "cell_type": "code",
     "collapsed": false,
     "input": [
      "errors_zoomin = []\n",
      "ws_zoomin = []\n",
      "for i in np.arange(-4,-1.5,0.5):\n",
      "    Lambda = 10**i\n",
      "    w_zoomin, error_w_zoomin = pegasos_svm_speedup(train_X_dict,train_y,test_X_dict,test_y,Lambda,40)\n",
      "    error_zoomin = percent_error(test_X_dict,test_y,w_zoomin)\n",
      "    errors_zoomin.append(error_zoomin)\n",
      "    print \"****************Done with Lambda {}*********************\".format(i)\n",
      "    print \"****************The error is {}**************************\".format(error_zoomin)\n",
      "plt.plot([10**i for i in np.arange(-4,-1.5,0.5)], errors_zoomin)\n",
      "plt.gca().set_xscale(\"log\")\n",
      "#plt.gca().set_yscale(\"log\")\n",
      "plt.xlabel('lambda')\n",
      "plt.ylabel('error')\n",
      "plt.title('SVM via pegasos algorithms with different lambdas')\n",
      "plt.savefig('3_zoomin.png', dpi=200)"
     ],
     "language": "python",
     "metadata": {},
     "outputs": [
      {
       "output_type": "stream",
       "stream": "stdout",
       "text": [
        "****************Done with Lambda -4.0*********************\n",
        "****************The error is 0.18**************************\n",
        "****************Done with Lambda -3.5*********************"
       ]
      },
      {
       "output_type": "stream",
       "stream": "stdout",
       "text": [
        "\n",
        "****************The error is 0.184**************************\n",
        "****************Done with Lambda -3.0*********************"
       ]
      },
      {
       "output_type": "stream",
       "stream": "stdout",
       "text": [
        "\n",
        "****************The error is 0.188**************************\n",
        "****************Done with Lambda -2.5*********************"
       ]
      },
      {
       "output_type": "stream",
       "stream": "stdout",
       "text": [
        "\n",
        "****************The error is 0.17**************************\n",
        "****************Done with Lambda -2.0*********************"
       ]
      },
      {
       "output_type": "stream",
       "stream": "stdout",
       "text": [
        "\n",
        "****************The error is 0.19**************************\n"
       ]
      },
      {
       "metadata": {},
       "output_type": "display_data",
       "png": "[encoded data removed]",
       "text": [
        "<matplotlib.figure.Figure at 0x13c7ef810>"
       ]
      }
     ],
     "prompt_number": 894
    },
    {
     "cell_type": "code",
     "collapsed": false,
     "input": [
      "#get lambda = 10^-3 as the optimal lambda, get corresponding w\n",
      "w1 = ws[2]"
     ],
     "language": "python",
     "metadata": {},
     "outputs": [],
     "prompt_number": 221
    },
    {
     "cell_type": "heading",
     "level": 4,
     "metadata": {},
     "source": [
      "4.5 accuracy correlated with score?"
     ]
    },
    {
     "cell_type": "code",
     "collapsed": false,
     "input": [
      "def get_score(X,y,w):\n",
      "    scores = []\n",
      "    for i in range(len(X)):\n",
      "        score = dotProduct(w,X[i])\n",
      "        scores.append(np.absolute(score))\n",
      "    return scores"
     ],
     "language": "python",
     "metadata": {},
     "outputs": [],
     "prompt_number": 34
    },
    {
     "cell_type": "code",
     "collapsed": false,
     "input": [
      "scores = get_score(test_X_dict, test_y, w1)"
     ],
     "language": "python",
     "metadata": {},
     "outputs": [],
     "prompt_number": 222
    },
    {
     "cell_type": "code",
     "collapsed": false,
     "input": [
      "import pandas as pd"
     ],
     "language": "python",
     "metadata": {},
     "outputs": [],
     "prompt_number": 223
    },
    {
     "cell_type": "code",
     "collapsed": false,
     "input": [
      "scores_df = pd.DataFrame(scores, columns=['score'])"
     ],
     "language": "python",
     "metadata": {},
     "outputs": [],
     "prompt_number": 224
    },
    {
     "cell_type": "code",
     "collapsed": false,
     "input": [
      "scores_df = scores_df.sort(columns='score', ascending=False)"
     ],
     "language": "python",
     "metadata": {},
     "outputs": [],
     "prompt_number": 225
    },
    {
     "cell_type": "code",
     "collapsed": false,
     "input": [
      "def percent_error_df(X,y,w,df,group):\n",
      "    error = 0\n",
      "    for i in df.loc[df['group']==group].index:\n",
      "        if np.sign(dotProduct(w,X[i])) != y[i]:\n",
      "            error += 1\n",
      "    percent = float(error)/len(df.loc[df['group']==group].index)\n",
      "    return percent"
     ],
     "language": "python",
     "metadata": {},
     "outputs": [],
     "prompt_number": 226
    },
    {
     "cell_type": "code",
     "collapsed": false,
     "input": [
      "def group_scores(X,y,w,df, group_num):\n",
      "    df['group'] = group_num - pd.qcut(df['score'], group_num, labels=False)\n",
      "    for group in range(1,group_num+1,1):\n",
      "        err = percent_error_df(X,y,w,df,group)\n",
      "        print \"The error in group {0} is: {1}\".format(group, err) "
     ],
     "language": "python",
     "metadata": {},
     "outputs": [],
     "prompt_number": 227
    },
    {
     "cell_type": "code",
     "collapsed": false,
     "input": [
      "scores_df.groupby('group')['score'].median()"
     ],
     "language": "python",
     "metadata": {},
     "outputs": [
      {
       "metadata": {},
       "output_type": "pyout",
       "prompt_number": 917,
       "text": [
        "group\n",
        "1        5179500\n",
        "2        3039500\n",
        "3        1986000\n",
        "4        1067500\n",
        "5         289500\n",
        "Name: score, dtype: float64"
       ]
      }
     ],
     "prompt_number": 917
    },
    {
     "cell_type": "code",
     "collapsed": false,
     "input": [
      "group_scores(test_X_dict,test_y,w1,scores_df,20)"
     ],
     "language": "python",
     "metadata": {},
     "outputs": [
      {
       "output_type": "stream",
       "stream": "stdout",
       "text": [
        "The error in group 1 is: 0.0\n",
        "The error in group 2 is: 0.0\n",
        "The error in group 3 is: 0.0\n",
        "The error in group 4 is: 0.0\n",
        "The error in group 5 is: 0.04\n",
        "The error in group 6 is: 0.08"
       ]
      },
      {
       "output_type": "stream",
       "stream": "stdout",
       "text": [
        "\n",
        "The error in group 7 is: 0.04\n",
        "The error in group 8 is: 0.04\n",
        "The error in group 9 is: 0.16\n",
        "The error in group 10 is: 0.08\n",
        "The error in group 11 is: 0.16\n",
        "The error in group 12 is: 0.12"
       ]
      },
      {
       "output_type": "stream",
       "stream": "stdout",
       "text": [
        "\n",
        "The error in group 13 is: 0.24\n",
        "The error in group 14 is: 0.16\n",
        "The error in group 15 is: 0.2\n",
        "The error in group 16 is: 0.32\n",
        "The error in group 17 is: 0.16"
       ]
      },
      {
       "output_type": "stream",
       "stream": "stdout",
       "text": [
        "\n",
        "The error in group 18 is: 0.72\n",
        "The error in group 19 is: 0.32\n",
        "The error in group 20 is: 0.48\n"
       ]
      }
     ],
     "prompt_number": 228
    },
    {
     "cell_type": "code",
     "collapsed": false,
     "input": [
      "group_scores(test_X_dict,test_y,w1,scores_df,5)"
     ],
     "language": "python",
     "metadata": {},
     "outputs": [
      {
       "output_type": "stream",
       "stream": "stdout",
       "text": [
        "The error in group 1 is: 0.0\n",
        "The error in group 2 is: 0.05\n",
        "The error in group 3 is: 0.13"
       ]
      },
      {
       "output_type": "stream",
       "stream": "stdout",
       "text": [
        "\n",
        "The error in group 4 is: 0.23\n",
        "The error in group 5 is: 0.42\n"
       ]
      }
     ],
     "prompt_number": 229
    },
    {
     "cell_type": "heading",
     "level": 3,
     "metadata": {},
     "source": [
      "5. Error Analysis"
     ]
    },
    {
     "cell_type": "code",
     "collapsed": false,
     "input": [
      "false_collection = []\n",
      "for i in scores_df.loc[scores_df['group']==5].index:\n",
      "    if np.sign(dotProduct(w1,test_X_dict[i])) != test_y[i]:\n",
      "        false_collection.append(i)"
     ],
     "language": "python",
     "metadata": {},
     "outputs": [],
     "prompt_number": 290
    },
    {
     "cell_type": "code",
     "collapsed": false,
     "input": [
      "for c in false_collection:\n",
      "    print len(test_X_dict[c])"
     ],
     "language": "python",
     "metadata": {},
     "outputs": [
      {
       "output_type": "stream",
       "stream": "stdout",
       "text": [
        "475\n",
        "364\n",
        "497\n",
        "247\n",
        "463\n",
        "289\n",
        "428\n",
        "223\n",
        "299\n",
        "448\n",
        "271\n",
        "240\n",
        "443\n",
        "512\n",
        "318\n",
        "439\n",
        "362\n",
        "229\n",
        "258\n",
        "301\n",
        "257\n",
        "323\n",
        "206\n",
        "183\n",
        "269\n",
        "355\n",
        "237\n",
        "292\n",
        "220\n",
        "326\n",
        "208\n",
        "362\n",
        "174\n",
        "151\n",
        "146\n",
        "217\n",
        "129\n",
        "203\n",
        "386\n",
        "244\n",
        "388\n",
        "347\n"
       ]
      }
     ],
     "prompt_number": 306
    },
    {
     "cell_type": "code",
     "collapsed": false,
     "input": [
      "#analysis test data 261\n",
      "er_261 = {k: np.absolute(v*(w1.get(k))) for k,v in test_X_dict[261].items() if k in w1.keys()}"
     ],
     "language": "python",
     "metadata": {},
     "outputs": [],
     "prompt_number": 946
    },
    {
     "cell_type": "code",
     "collapsed": false,
     "input": [
      "error_analysis_result_261 = sorted(er_261.items(), key=lambda x: x[1], reverse=True)"
     ],
     "language": "python",
     "metadata": {},
     "outputs": [],
     "prompt_number": 947
    },
    {
     "cell_type": "code",
     "collapsed": false,
     "input": [
      "def sample_error_analysis(error_analysis_li, No, X, w):\n",
      "    for i in range(10):\n",
      "        word = error_analysis_li[i][0]\n",
      "        print error_analysis_li[i], X[No][word], w[word]\n",
      "    "
     ],
     "language": "python",
     "metadata": {},
     "outputs": [],
     "prompt_number": 948
    },
    {
     "cell_type": "code",
     "collapsed": false,
     "input": [
      "sample_error_analysis(error_analysis_result_261, 261, test_X_dict, w1)"
     ],
     "language": "python",
     "metadata": {},
     "outputs": [
      {
       "output_type": "stream",
       "stream": "stdout",
       "text": [
        "('and', 946000.00000000081) 11 86000.0\n",
        "('boring', 396000.00000000029) 2 -198000.0\n",
        "('he', 359999.99999999924) 3 120000.0\n",
        "('the', 329999.99999999901) 15 22000.0\n",
        "('may', 302999.99999999977) 3 101000.0\n",
        "('was', 300000.00000000029) 4 -75000.0\n",
        "('only', 273999.99999999959) 1 -274000.0\n",
        "('great', 211000.00000000041) 1 211000.0\n",
        "('this', 209999.99999999977) 2 -105000.0\n",
        "('to', 162000.00000000343) 6 -27000.0\n"
       ]
      }
     ],
     "prompt_number": 949
    },
    {
     "cell_type": "code",
     "collapsed": false,
     "input": [
      "sample_error_analysis(error_analysis_result_184, 184, test_X_dict, w1)"
     ],
     "language": "python",
     "metadata": {},
     "outputs": [
      {
       "output_type": "stream",
       "stream": "stdout",
       "text": [
        "('and', 516000.00000000047) 6 86000.0\n",
        "('fun', 422000.00000000035) 2 211000.0\n",
        "('no', 279999.99999999907) 2 -140000.0\n",
        "('he', 239999.99999999951) 2 120000.0\n",
        "('the', 219999.99999999936) 10 22000.0\n",
        "('with', 159000.00000000026) 3 53000.0\n",
        "('on', 156000.00000000067) 2 -78000.0\n",
        "('you', 154000.00000000041) 1 154000.0\n",
        "('since', 153000.00000000006) 1 -153000.0\n",
        "('to', 135000.00000000285) 5 -27000.0\n"
       ]
      }
     ],
     "prompt_number": 945
    },
    {
     "cell_type": "code",
     "collapsed": false,
     "input": [
      "sample_error_analysis(error_analysis_result_305, 305, test_X_dict, w1)"
     ],
     "language": "python",
     "metadata": {},
     "outputs": [
      {
       "output_type": "stream",
       "stream": "stdout",
       "text": [
        "('he', 959999.99999999802) 8 120000.0\n",
        "('and', 860000.0000000007) 10 86000.0\n",
        "('the', 527999.99999999837) 24 22000.0\n",
        "('bad', 413000.00000000012) 1 -413000.0\n",
        "('have', 350999.99999999959) 3 -117000.0\n",
        "(\"it's\", 311999.99999999924) 3 104000.0\n",
        "('people', 303000.00000000006) 3 101000.0\n",
        "('patch', 275999.99999999779) 6 -46000.0\n",
        "('with', 265000.00000000047) 5 53000.0\n",
        "('so', 258000.00000000009) 3 -86000.0\n"
       ]
      }
     ],
     "prompt_number": 940
    },
    {
     "cell_type": "code",
     "collapsed": false,
     "input": [
      "xw = {}\n",
      "for i in scores_df.loc[scores_df['group']==5].index:\n",
      "    if np.sign(dotProduct(w1,test_X_dict[i])) != test_y[i]:\n",
      "        for k,v in test_X_dict[i].items():\n",
      "            if k in xw.keys():\n",
      "                xw[k] += np.absolute(v*(w1.get(k)))\n",
      "            else:\n",
      "                if k in w1.keys():\n",
      "                    xw[k] = np.absolute(v*(w1.get(k)))"
     ],
     "language": "python",
     "metadata": {},
     "outputs": [],
     "prompt_number": 230
    },
    {
     "cell_type": "code",
     "collapsed": false,
     "input": [
      "error_analysis_result = sorted(xw.items(), key=lambda x: x[1], reverse=True)"
     ],
     "language": "python",
     "metadata": {},
     "outputs": [],
     "prompt_number": 231
    },
    {
     "cell_type": "code",
     "collapsed": false,
     "input": [
      "error_analysis_result[:10]"
     ],
     "language": "python",
     "metadata": {},
     "outputs": [
      {
       "metadata": {},
       "output_type": "pyout",
       "prompt_number": 355,
       "text": [
        "[('and', 59770000.000000015),\n",
        " ('the', 29655999.999999914),\n",
        " ('a', 15135999.999999916),\n",
        " ('to', 15120000.000000326),\n",
        " ('this', 15119999.999999993),\n",
        " ('he', 12839999.999999978),\n",
        " ('as', 12040000.000000017),\n",
        " ('of', 11660000.000000043),\n",
        " ('on', 11154000.000000048),\n",
        " ('you', 10626000.000000022)]"
       ]
      }
     ],
     "prompt_number": 355
    },
    {
     "cell_type": "heading",
     "level": 3,
     "metadata": {},
     "source": [
      "6.Try tf-idf"
     ]
    },
    {
     "cell_type": "code",
     "collapsed": false,
     "input": [
      "#idf\n",
      "kdict = {}\n",
      "for i in range(len(train_X_dict)):\n",
      "    for key in train_X_dict[i].keys():\n",
      "        if key in kdict:\n",
      "            kdict[key] +=1\n",
      "        else:\n",
      "            kdict[key] = 1\n",
      "kdict_ratio = {k: float(len(train_X_dict))/v for k, v in kdict.items()}"
     ],
     "language": "python",
     "metadata": {},
     "outputs": [],
     "prompt_number": 632
    },
    {
     "cell_type": "code",
     "collapsed": false,
     "input": [
      "train_X_dict_tfidf = copy.deepcopy(train_X_dict)"
     ],
     "language": "python",
     "metadata": {},
     "outputs": [],
     "prompt_number": 462
    },
    {
     "cell_type": "code",
     "collapsed": false,
     "input": [
      "test_X_dict_tfidf = copy.deepcopy(test_X_dict)"
     ],
     "language": "python",
     "metadata": {},
     "outputs": [],
     "prompt_number": 463
    },
    {
     "cell_type": "code",
     "collapsed": false,
     "input": [
      "import math"
     ],
     "language": "python",
     "metadata": {},
     "outputs": [],
     "prompt_number": 237
    },
    {
     "cell_type": "code",
     "collapsed": false,
     "input": [
      "#tf*idf(test)\n",
      "for i in range(len(test_X_dict_tfidf)):\n",
      "    for key in test_X_dict_tfidf[i].keys():\n",
      "        if key in kdict_ratio.keys():\n",
      "            test_X_dict_tfidf[i][key] *= math.log(kdict_ratio[key])"
     ],
     "language": "python",
     "metadata": {},
     "outputs": [],
     "prompt_number": 464
    },
    {
     "cell_type": "code",
     "collapsed": false,
     "input": [
      "#tf*idf(train)\n",
      "for i in range(len(train_X_dict_tfidf)):\n",
      "    for key in train_X_dict_tfidf[i].keys():\n",
      "        train_X_dict_tfidf[i][key] *= math.log(kdict_ratio[key])"
     ],
     "language": "python",
     "metadata": {},
     "outputs": [],
     "prompt_number": 465
    },
    {
     "cell_type": "code",
     "collapsed": false,
     "input": [
      "ratio_df = pd.DataFrame(sorted(kdict_ratio.items(), key=lambda x: x[1], reverse=True), columns=['word','ratio'])"
     ],
     "language": "python",
     "metadata": {},
     "outputs": [],
     "prompt_number": 491
    },
    {
     "cell_type": "code",
     "collapsed": false,
     "input": [
      "rare_words = list(ratio_df.loc[ratio_df['ratio']==1500]['word'])"
     ],
     "language": "python",
     "metadata": {},
     "outputs": [],
     "prompt_number": 501
    },
    {
     "cell_type": "code",
     "collapsed": false,
     "input": [
      "w_tfidf, errors_tfidf = pegasos_svm_speedup(train_X_dict_tfidf,train_y,test_X_dict_tfidf,test_y,10**-3,100)"
     ],
     "language": "python",
     "metadata": {},
     "outputs": [],
     "prompt_number": 838
    },
    {
     "cell_type": "code",
     "collapsed": false,
     "input": [
      "print errors_tfidf[-1]"
     ],
     "language": "python",
     "metadata": {},
     "outputs": [
      {
       "output_type": "stream",
       "stream": "stdout",
       "text": [
        "0.192\n"
       ]
      }
     ],
     "prompt_number": 952
    },
    {
     "cell_type": "code",
     "collapsed": false,
     "input": [
      "sorted(kdict.items(), key=lambda x: x[1], reverse=True)"
     ],
     "language": "python",
     "metadata": {},
     "outputs": [
      {
       "metadata": {},
       "output_type": "pyout",
       "prompt_number": 507,
       "text": [
        "[('the', 1499),\n",
        " ('of', 1498),\n",
        " ('and', 1498),\n",
        " ('is', 1497),\n",
        " ('to', 1497),\n",
        " ('a', 1496),\n",
        " ('in', 1495),\n",
        " ('that', 1467),\n",
        " ('with', 1461),\n",
        " ('it', 1448),\n",
        " ('for', 1445),\n",
        " ('as', 1435),\n",
        " ('this', 1425),\n",
        " ('but', 1413),\n",
        " ('on', 1394),\n",
        " ('an', 1335),\n",
        " ('by', 1335),\n",
        " ('his', 1323),\n",
        " ('be', 1321),\n",
        " ('are', 1321),\n",
        " ('who', 1306),\n",
        " ('one', 1300),\n",
        " ('film', 1289),\n",
        " ('at', 1282),\n",
        " ('from', 1270),\n",
        " ('not', 1254),\n",
        " ('he', 1223),\n",
        " ('have', 1212),\n",
        " ('has', 1206),\n",
        " ('all', 1187),\n",
        " ('movie', 1134),\n",
        " ('i', 1132),\n",
        " ('out', 1126),\n",
        " ('was', 1115),\n",
        " ('so', 1105),\n",
        " ('about', 1096),\n",
        " ('more', 1095),\n",
        " ('when', 1084),\n",
        " ('like', 1079),\n",
        " ('they', 1061),\n",
        " ('up', 1061),\n",
        " ('you', 1054),\n",
        " ('or', 1026),\n",
        " ('some', 1024),\n",
        " ('if', 1012),\n",
        " ('which', 1002),\n",
        " ('just', 1002),\n",
        " ('what', 995),\n",
        " (\"it's\", 981),\n",
        " ('into', 973),\n",
        " ('only', 973),\n",
        " ('their', 967),\n",
        " ('there', 959),\n",
        " ('even', 951),\n",
        " ('than', 949),\n",
        " ('can', 925),\n",
        " ('?', 912),\n",
        " ('time', 904),\n",
        " ('no', 886),\n",
        " ('most', 884),\n",
        " ('good', 848),\n",
        " ('much', 837),\n",
        " ('him', 837),\n",
        " ('her', 833),\n",
        " ('would', 826),\n",
        " ('get', 818),\n",
        " ('other', 814),\n",
        " ('been', 812),\n",
        " ('do', 802),\n",
        " ('its', 798),\n",
        " ('also', 797),\n",
        " ('will', 796),\n",
        " ('story', 795),\n",
        " ('after', 791),\n",
        " ('them', 769),\n",
        " ('character', 762),\n",
        " ('first', 757),\n",
        " ('two', 755),\n",
        " ('we', 746),\n",
        " ('well', 745),\n",
        " ('way', 738),\n",
        " ('make', 734),\n",
        " ('see', 722),\n",
        " ('characters', 720),\n",
        " ('any', 715),\n",
        " ('does', 709),\n",
        " ('while', 705),\n",
        " ('very', 693),\n",
        " ('too', 686),\n",
        " ('where', 683),\n",
        " ('how', 680),\n",
        " ('because', 679),\n",
        " ('off', 675),\n",
        " ('little', 665),\n",
        " ('had', 661),\n",
        " ('plot', 661),\n",
        " ('she', 658),\n",
        " ('then', 650),\n",
        " ('really', 648),\n",
        " ('could', 641),\n",
        " ('over', 634),\n",
        " ('people', 626),\n",
        " ('best', 624),\n",
        " ('being', 622),\n",
        " ('never', 620),\n",
        " ('through', 612),\n",
        " (\"doesn't\", 606),\n",
        " ('these', 606),\n",
        " ('films', 605),\n",
        " ('such', 605),\n",
        " ('director', 592),\n",
        " ('many', 583),\n",
        " ('life', 580),\n",
        " ('scene', 578),\n",
        " ('me', 575),\n",
        " ('another', 574),\n",
        " (\"don't\", 568),\n",
        " ('scenes', 565),\n",
        " ('new', 564),\n",
        " ('man', 562),\n",
        " ('here', 562),\n",
        " ('my', 560),\n",
        " ('go', 555),\n",
        " ('bad', 550),\n",
        " ('know', 550),\n",
        " ('made', 541),\n",
        " ('something', 539),\n",
        " ('end', 537),\n",
        " ('makes', 534),\n",
        " ('were', 534),\n",
        " ('work', 534),\n",
        " ('back', 533),\n",
        " ('before', 532),\n",
        " ('still', 524),\n",
        " ('movies', 521),\n",
        " ('few', 521),\n",
        " ('seems', 517),\n",
        " ('now', 513),\n",
        " ('those', 511),\n",
        " ('great', 510),\n",
        " ('better', 506),\n",
        " ('take', 503),\n",
        " ('between', 501),\n",
        " ('around', 500),\n",
        " ('gets', 498),\n",
        " ('every', 497),\n",
        " ('!', 494),\n",
        " ('enough', 493),\n",
        " ('love', 492),\n",
        " ('however', 491),\n",
        " ('should', 488),\n",
        " ('though', 475),\n",
        " ('down', 472),\n",
        " ('us', 472),\n",
        " ('audience', 465),\n",
        " (\"he's\", 465),\n",
        " ('same', 464),\n",
        " ('seen', 461),\n",
        " ('both', 461),\n",
        " (\"there's\", 459),\n",
        " ('role', 455),\n",
        " (\"isn't\", 455),\n",
        " ('performance', 453),\n",
        " ('look', 453),\n",
        " ('years', 451),\n",
        " ('things', 451),\n",
        " ('going', 446),\n",
        " ('real', 442),\n",
        " ('own', 442),\n",
        " ('comes', 441),\n",
        " ('last', 440),\n",
        " ('almost', 438),\n",
        " ('nothing', 438),\n",
        " ('plays', 437),\n",
        " ('big', 436),\n",
        " ('find', 436),\n",
        " ('think', 435),\n",
        " ('come', 433),\n",
        " ('why', 432),\n",
        " ('world', 431),\n",
        " ('right', 430),\n",
        " ('long', 429),\n",
        " ('thing', 425),\n",
        " ('say', 424),\n",
        " ('may', 422),\n",
        " ('played', 422),\n",
        " ('fact', 421),\n",
        " ('since', 417),\n",
        " ('your', 415),\n",
        " ('actually', 414),\n",
        " (\"that's\", 412),\n",
        " ('script', 410),\n",
        " ('cast', 407),\n",
        " ('ever', 407),\n",
        " ('takes', 402),\n",
        " ('without', 401),\n",
        " ('least', 396),\n",
        " ('although', 394),\n",
        " ('did', 393),\n",
        " ('goes', 388),\n",
        " ('action', 388),\n",
        " ('away', 385),\n",
        " ('acting', 385),\n",
        " ('funny', 384),\n",
        " ('course', 383),\n",
        " ('young', 379),\n",
        " ('part', 379),\n",
        " ('again', 374),\n",
        " ('anything', 372),\n",
        " ('screen', 371),\n",
        " ('comedy', 370),\n",
        " ('old', 370),\n",
        " (\"can't\", 369),\n",
        " ('actors', 369),\n",
        " ('minutes', 365),\n",
        " ('lot', 365),\n",
        " ('quite', 362),\n",
        " ('himself', 357),\n",
        " ('point', 357),\n",
        " ('once', 354),\n",
        " ('far', 354),\n",
        " ('might', 352),\n",
        " ('watch', 352),\n",
        " ('during', 350),\n",
        " ('place', 349),\n",
        " ('rather', 348),\n",
        " ('yet', 345),\n",
        " ('making', 345),\n",
        " ('show', 344),\n",
        " ('interesting', 342),\n",
        " ('john', 341),\n",
        " ('times', 337),\n",
        " ('give', 337),\n",
        " ('seem', 335),\n",
        " ('must', 333),\n",
        " ('each', 332),\n",
        " ('want', 331),\n",
        " (\"didn't\", 331),\n",
        " ('having', 331),\n",
        " ('trying', 330),\n",
        " ('instead', 330),\n",
        " ('set', 321),\n",
        " ('year', 319),\n",
        " (\"film's\", 318),\n",
        " ('day', 317),\n",
        " ('become', 315),\n",
        " ('always', 315),\n",
        " ('fun', 314),\n",
        " ('along', 313),\n",
        " ('original', 312),\n",
        " ('given', 312),\n",
        " ('sense', 310),\n",
        " ('becomes', 310),\n",
        " ('three', 310),\n",
        " ('help', 309),\n",
        " ('together', 307),\n",
        " ('dialogue', 307),\n",
        " ('bit', 306),\n",
        " ('everything', 305),\n",
        " ('probably', 305),\n",
        " ('guy', 303),\n",
        " ('job', 303),\n",
        " ('actor', 301),\n",
        " ('watching', 301),\n",
        " ('home', 299),\n",
        " ('kind', 299),\n",
        " (\"i'm\", 298),\n",
        " ('our', 298),\n",
        " ('whole', 294),\n",
        " ('pretty', 294),\n",
        " ('sure', 291),\n",
        " ('gives', 286),\n",
        " ('hard', 284),\n",
        " ('wants', 281),\n",
        " ('star', 281),\n",
        " ('picture', 281),\n",
        " ('anyone', 279),\n",
        " ('especially', 279),\n",
        " ('until', 278),\n",
        " ('next', 277),\n",
        " ('left', 276),\n",
        " ('wife', 275),\n",
        " ('performances', 275),\n",
        " ('whose', 274),\n",
        " ('hollywood', 273),\n",
        " ('perhaps', 272),\n",
        " ('reason', 270),\n",
        " ('feel', 269),\n",
        " ('woman', 269),\n",
        " ('looking', 269),\n",
        " ('got', 266),\n",
        " ('looks', 266),\n",
        " ('rest', 266),\n",
        " ('special', 264),\n",
        " ('put', 263),\n",
        " ('everyone', 263),\n",
        " ('family', 263),\n",
        " ('less', 262),\n",
        " ('done', 262),\n",
        " ('effects', 259),\n",
        " ('completely', 259),\n",
        " ('line', 257),\n",
        " ('turns', 254),\n",
        " ('moments', 253),\n",
        " ('someone', 253),\n",
        " ('mind', 251),\n",
        " ('shows', 249),\n",
        " ('high', 249),\n",
        " ('entire', 247),\n",
        " ('keep', 246),\n",
        " ('money', 246),\n",
        " ('unfortunately', 245),\n",
        " ('different', 245),\n",
        " ('main', 244),\n",
        " ('getting', 244),\n",
        " ('later', 243),\n",
        " ('written', 243),\n",
        " ('begins', 242),\n",
        " ('simply', 242),\n",
        " ('else', 241),\n",
        " ('series', 241),\n",
        " ('found', 241),\n",
        " ('based', 241),\n",
        " ('either', 240),\n",
        " ('play', 239),\n",
        " ('use', 239),\n",
        " ('night', 238),\n",
        " ('soon', 238),\n",
        " ('problem', 237),\n",
        " ('itself', 237),\n",
        " ('tries', 236),\n",
        " ('several', 236),\n",
        " ('american', 234),\n",
        " ('wrong', 233),\n",
        " ('father', 232),\n",
        " ('named', 232),\n",
        " ('small', 230),\n",
        " ('case', 229),\n",
        " ('works', 228),\n",
        " ('name', 228),\n",
        " ('turn', 227),\n",
        " ('idea', 227),\n",
        " ('stars', 226),\n",
        " ('men', 226),\n",
        " ('music', 225),\n",
        " ('behind', 224),\n",
        " ('against', 223),\n",
        " ('head', 222),\n",
        " ('ending', 222),\n",
        " ('certainly', 221),\n",
        " ('thought', 221),\n",
        " ('used', 220),\n",
        " ('second', 219),\n",
        " ('humor', 219),\n",
        " ('james', 219),\n",
        " (\"they're\", 218),\n",
        " ('true', 218),\n",
        " ('finds', 218),\n",
        " ('finally', 217),\n",
        " ('final', 216),\n",
        " ('including', 214),\n",
        " ('friend', 214),\n",
        " ('seeing', 214),\n",
        " ('death', 214),\n",
        " ('black', 213),\n",
        " ('doing', 213),\n",
        " ('under', 212),\n",
        " ('half', 212),\n",
        " ('playing', 212),\n",
        " ('said', 211),\n",
        " (\"i've\", 211),\n",
        " ('lost', 210),\n",
        " ('believe', 210),\n",
        " ('girl', 210),\n",
        " ('past', 209),\n",
        " ('tell', 208),\n",
        " ('often', 208),\n",
        " ('couple', 206),\n",
        " ('hand', 206),\n",
        " ('human', 206),\n",
        " ('directed', 206),\n",
        " ('friends', 205),\n",
        " ('dead', 204),\n",
        " ('despite', 204),\n",
        " ('running', 203),\n",
        " ('called', 203),\n",
        " ('lives', 202),\n",
        " ('live', 202),\n",
        " ('maybe', 202),\n",
        " ('able', 201),\n",
        " ('group', 201),\n",
        " ('start', 200),\n",
        " ('michael', 200),\n",
        " (\"you're\", 200),\n",
        " ('example', 200),\n",
        " (\"she's\", 199),\n",
        " ('lines', 199),\n",
        " ('run', 198),\n",
        " ('person', 198),\n",
        " ('exactly', 198),\n",
        " ('starts', 198),\n",
        " ('full', 197),\n",
        " ('matter', 197),\n",
        " ('nice', 196),\n",
        " ('sex', 196),\n",
        " ('try', 196),\n",
        " ('nearly', 196),\n",
        " ('supposed', 196),\n",
        " ('mother', 196),\n",
        " ('need', 196),\n",
        " ('comic', 195),\n",
        " ('worth', 194),\n",
        " ('relationship', 194),\n",
        " ('throughout', 194),\n",
        " ('short', 193),\n",
        " ('days', 192),\n",
        " ('david', 192),\n",
        " ('moment', 192),\n",
        " ('entertaining', 191),\n",
        " ('top', 190),\n",
        " ('sequence', 190),\n",
        " ('perfect', 189),\n",
        " ('camera', 189),\n",
        " ('evil', 189),\n",
        " ('direction', 188),\n",
        " ('already', 188),\n",
        " ('sort', 188),\n",
        " ('face', 187),\n",
        " ('side', 187),\n",
        " ('major', 186),\n",
        " ('care', 185),\n",
        " ('early', 185),\n",
        " ('shot', 184),\n",
        " ('upon', 184),\n",
        " ('title', 184),\n",
        " ('obvious', 183),\n",
        " (\"won't\", 183),\n",
        " ('house', 183),\n",
        " ('others', 182),\n",
        " ('beginning', 181),\n",
        " ('let', 181),\n",
        " ('classic', 181),\n",
        " ('sequences', 181),\n",
        " ('worst', 180),\n",
        " ('review', 180),\n",
        " ('themselves', 179),\n",
        " ('simple', 179),\n",
        " ('known', 179),\n",
        " ('knows', 178),\n",
        " ('style', 178),\n",
        " ('problems', 177),\n",
        " ('fine', 177),\n",
        " ('ends', 176),\n",
        " ('car', 176),\n",
        " ('roles', 176),\n",
        " ('production', 175),\n",
        " ('city', 175),\n",
        " (\"aren't\", 175),\n",
        " ('truly', 174),\n",
        " ('tells', 173),\n",
        " ('supporting', 172),\n",
        " (\"wasn't\", 172),\n",
        " ('opening', 172),\n",
        " ('video', 171),\n",
        " ('hope', 171),\n",
        " ('screenplay', 171),\n",
        " ('violence', 171),\n",
        " ('obviously', 170),\n",
        " ('save', 170),\n",
        " ('son', 170),\n",
        " ('school', 169),\n",
        " ('beautiful', 169),\n",
        " ('attempt', 169),\n",
        " ('says', 169),\n",
        " ('drama', 169),\n",
        " ('question', 168),\n",
        " ('order', 168),\n",
        " ('hour', 167),\n",
        " ('lack', 167),\n",
        " ('boring', 166),\n",
        " ('wonder', 165),\n",
        " ('kill', 165),\n",
        " ('hit', 164),\n",
        " ('coming', 163),\n",
        " ('late', 162),\n",
        " ('eyes', 162),\n",
        " ('kids', 161),\n",
        " ('2', 161),\n",
        " ('strong', 161),\n",
        " ('taken', 161),\n",
        " ('involved', 161),\n",
        " ('particularly', 161),\n",
        " ('experience', 160),\n",
        " ('yes', 160),\n",
        " ('falls', 160),\n",
        " ('happens', 160),\n",
        " ('career', 160),\n",
        " ('body', 160),\n",
        " ('boy', 159),\n",
        " ('tv', 159),\n",
        " ('quickly', 159),\n",
        " ('version', 158),\n",
        " (\"who's\", 158),\n",
        " ('manages', 158),\n",
        " ('material', 158),\n",
        " ('sets', 158),\n",
        " ('lead', 158),\n",
        " ('fight', 157),\n",
        " ('appears', 157),\n",
        " ('single', 157),\n",
        " ('horror', 156),\n",
        " ('level', 156),\n",
        " ('bring', 156),\n",
        " ('possible', 155),\n",
        " ('attention', 155),\n",
        " ('town', 155),\n",
        " ('dark', 155),\n",
        " ('note', 155),\n",
        " ('heart', 154),\n",
        " ('saw', 154),\n",
        " ('room', 153),\n",
        " ('none', 153),\n",
        " ('worse', 153),\n",
        " ('leads', 153),\n",
        " ('result', 153),\n",
        " ('mostly', 152),\n",
        " ('guys', 152),\n",
        " ('daughter', 152),\n",
        " ('extremely', 152),\n",
        " ('interest', 152),\n",
        " ('act', 151),\n",
        " ('stop', 151),\n",
        " ('fall', 151),\n",
        " ('enjoy', 150),\n",
        " ('involving', 149),\n",
        " ('elements', 149),\n",
        " ('across', 148),\n",
        " (\"you'll\", 148),\n",
        " ('forced', 148),\n",
        " ('attempts', 148),\n",
        " ('white', 148),\n",
        " ('book', 148),\n",
        " ('sometimes', 147),\n",
        " ('hours', 147),\n",
        " ('robert', 147),\n",
        " ('genre', 147),\n",
        " ('four', 147),\n",
        " ('five', 147),\n",
        " ('stupid', 147),\n",
        " ('children', 147),\n",
        " ('feeling', 146),\n",
        " (\"what's\", 146),\n",
        " ('taking', 146),\n",
        " ('easy', 146),\n",
        " ('within', 145),\n",
        " ('tale', 145),\n",
        " ('expect', 145),\n",
        " ('living', 145),\n",
        " ('needs', 144),\n",
        " ('laugh', 144),\n",
        " ('leave', 144),\n",
        " ('usually', 144),\n",
        " ('piece', 144),\n",
        " ('eventually', 143),\n",
        " ('women', 143),\n",
        " ('feels', 142),\n",
        " ('talent', 142),\n",
        " ('thriller', 142),\n",
        " ('apparently', 142),\n",
        " ('word', 142),\n",
        " ('easily', 142),\n",
        " ('serious', 142),\n",
        " ('among', 141),\n",
        " ('premise', 141),\n",
        " ('success', 141),\n",
        " ('police', 140),\n",
        " ('surprise', 140),\n",
        " (\"movie's\", 140),\n",
        " ('game', 140),\n",
        " ('whether', 140),\n",
        " ('summer', 140),\n",
        " ('words', 140),\n",
        " ('happy', 139),\n",
        " ('number', 139),\n",
        " ('guess', 139),\n",
        " ('chance', 139),\n",
        " ('told', 139),\n",
        " ('close', 138),\n",
        " ('difficult', 138),\n",
        " ('call', 138),\n",
        " ('giving', 138),\n",
        " ('except', 138),\n",
        " (\"we're\", 138),\n",
        " ('peter', 138),\n",
        " ('recent', 137),\n",
        " ('emotional', 137),\n",
        " ('laughs', 137),\n",
        " ('entertainment', 136),\n",
        " ('sound', 136),\n",
        " ('team', 136),\n",
        " ('alone', 136),\n",
        " ('meets', 135),\n",
        " ('form', 135),\n",
        " ('killed', 135),\n",
        " ('hilarious', 135),\n",
        " ('happen', 135),\n",
        " ('complete', 135),\n",
        " ('turned', 134),\n",
        " ('s', 134),\n",
        " ('runs', 134),\n",
        " ('using', 134),\n",
        " ('brings', 134),\n",
        " ('stuff', 133),\n",
        " ('change', 133),\n",
        " ('talk', 133),\n",
        " ('mean', 133),\n",
        " ('hero', 133),\n",
        " ('power', 133),\n",
        " ('working', 132),\n",
        " ('meet', 132),\n",
        " ('novel', 132),\n",
        " ('poor', 131),\n",
        " (\"wouldn't\", 131),\n",
        " ('deal', 131),\n",
        " ('future', 131),\n",
        " ('surprisingly', 131),\n",
        " ('hell', 131),\n",
        " ('theater', 130),\n",
        " ('anyway', 130),\n",
        " ('wonderful', 130),\n",
        " ('certain', 130),\n",
        " (\"couldn't\", 130),\n",
        " ('presence', 130),\n",
        " ('whom', 130),\n",
        " ('child', 129),\n",
        " ('remember', 129),\n",
        " ('feature', 129),\n",
        " ('add', 129),\n",
        " ('beyond', 129),\n",
        " ('war', 128),\n",
        " ('latest', 128),\n",
        " ('ago', 128),\n",
        " ('local', 127),\n",
        " ('released', 127),\n",
        " ('filmmakers', 127),\n",
        " ('features', 127),\n",
        " ('important', 127),\n",
        " ('similar', 126),\n",
        " ('impressive', 126),\n",
        " ('successful', 126),\n",
        " ('due', 126),\n",
        " ('came', 126),\n",
        " ('seemed', 126),\n",
        " ('begin', 126),\n",
        " ('gone', 125),\n",
        " ('credits', 125),\n",
        " ('girlfriend', 125),\n",
        " ('basically', 125),\n",
        " ('nor', 124),\n",
        " ('parts', 124),\n",
        " ('kevin', 124),\n",
        " ('effective', 124),\n",
        " ('voice', 124),\n",
        " ('paul', 124),\n",
        " ('went', 124),\n",
        " ('leaves', 123),\n",
        " ('read', 123),\n",
        " ('decides', 123),\n",
        " ('light', 123),\n",
        " ('ways', 123),\n",
        " ('starring', 122),\n",
        " ('uses', 122),\n",
        " ('jokes', 122),\n",
        " ('score', 122),\n",
        " ('history', 122),\n",
        " ('fans', 122),\n",
        " ('murder', 122),\n",
        " ('somehow', 122),\n",
        " ('former', 121),\n",
        " ('learn', 121),\n",
        " ('middle', 121),\n",
        " ('romantic', 121),\n",
        " ('tom', 121),\n",
        " ('present', 121),\n",
        " ('viewer', 121),\n",
        " ('third', 120),\n",
        " ('absolutely', 120),\n",
        " ('figure', 120),\n",
        " ('deep', 120),\n",
        " ('annoying', 120),\n",
        " ('somewhat', 120),\n",
        " ('york', 120),\n",
        " ('near', 119),\n",
        " ('events', 119),\n",
        " ('dramatic', 118),\n",
        " ('oh', 118),\n",
        " ('brilliant', 118),\n",
        " ('potential', 118),\n",
        " ('solid', 118),\n",
        " ('writing', 118),\n",
        " ('opens', 117),\n",
        " ('amazing', 117),\n",
        " ('leaving', 117),\n",
        " ('shots', 117),\n",
        " ('subject', 117),\n",
        " ('move', 117),\n",
        " ('created', 117),\n",
        " ('myself', 117),\n",
        " ('familiar', 117),\n",
        " ('business', 117),\n",
        " ('quality', 117),\n",
        " ('definitely', 117),\n",
        " ('cinema', 117),\n",
        " ('return', 117),\n",
        " ('rich', 116),\n",
        " ('following', 116),\n",
        " ('stay', 116),\n",
        " ('cut', 116),\n",
        " ('sexual', 116),\n",
        " ('clever', 116),\n",
        " ('mr', 116),\n",
        " ('talking', 116),\n",
        " ('brother', 116),\n",
        " ('visual', 115),\n",
        " ('thinking', 115),\n",
        " ('saying', 114),\n",
        " ('intelligent', 114),\n",
        " ('popular', 114),\n",
        " ('flick', 114),\n",
        " ('create', 114),\n",
        " ('understand', 114),\n",
        " ('previous', 114),\n",
        " (\"you've\", 114),\n",
        " ('powerful', 114),\n",
        " ('1', 114),\n",
        " ('age', 114),\n",
        " ('follows', 114),\n",
        " ('battle', 113),\n",
        " ('personal', 113),\n",
        " ('filled', 113),\n",
        " ('am', 113),\n",
        " ('means', 113),\n",
        " ('space', 113),\n",
        " ('cool', 113),\n",
        " ('release', 113),\n",
        " ('moving', 113),\n",
        " ('ones', 113),\n",
        " ('nature', 112),\n",
        " ('secret', 112),\n",
        " ('large', 112),\n",
        " ('writer', 112),\n",
        " ('television', 112),\n",
        " ('perfectly', 112),\n",
        " ('clear', 112),\n",
        " ('effect', 112),\n",
        " ('die', 112),\n",
        " ('seriously', 111),\n",
        " ('keeps', 111),\n",
        " ('predictable', 111),\n",
        " ('actress', 111),\n",
        " ('doubt', 111),\n",
        " ('mess', 111),\n",
        " ('immediately', 111),\n",
        " ('unlike', 111),\n",
        " ('earth', 111),\n",
        " ('situation', 110),\n",
        " ('company', 110),\n",
        " ('straight', 110),\n",
        " ('towards', 110),\n",
        " ('type', 110),\n",
        " ('god', 110),\n",
        " ('follow', 110),\n",
        " ('inside', 110),\n",
        " ('huge', 109),\n",
        " ('decent', 109),\n",
        " ('usual', 109),\n",
        " ('villain', 109),\n",
        " ('project', 109),\n",
        " ('appear', 109),\n",
        " ('jack', 109),\n",
        " ('slow', 109),\n",
        " ('above', 109),\n",
        " ('parents', 108),\n",
        " ('blood', 108),\n",
        " ('bunch', 108),\n",
        " ('ten', 108),\n",
        " ('strange', 108),\n",
        " ('general', 108),\n",
        " ('happened', 108),\n",
        " ('realize', 107),\n",
        " ('likely', 107),\n",
        " ('impossible', 107),\n",
        " ('husband', 107),\n",
        " ('killer', 107),\n",
        " ('heard', 107),\n",
        " ('overall', 107),\n",
        " ('lee', 106),\n",
        " ('focus', 106),\n",
        " ('view', 106),\n",
        " (\"i'd\", 105),\n",
        " ('enjoyable', 105),\n",
        " ('neither', 105),\n",
        " ('felt', 105),\n",
        " ('open', 105),\n",
        " ('mark', 105),\n",
        " ('viewers', 104),\n",
        " ('effort', 104),\n",
        " ('oscar', 104),\n",
        " ('break', 104),\n",
        " ('trouble', 104),\n",
        " ('suspense', 103),\n",
        " ('earlier', 103),\n",
        " ('spend', 103),\n",
        " ('william', 103),\n",
        " ('merely', 102),\n",
        " ('smart', 102),\n",
        " ('questions', 102),\n",
        " ('herself', 102),\n",
        " ('memorable', 102),\n",
        " ('art', 102),\n",
        " ('ask', 101),\n",
        " ('dr', 101),\n",
        " ('talented', 101),\n",
        " ('escape', 101),\n",
        " ('purpose', 101),\n",
        " ('office', 101),\n",
        " (\"i'll\", 101),\n",
        " ('mystery', 100),\n",
        " ('plan', 100),\n",
        " ('moves', 100),\n",
        " ('points', 100),\n",
        " ('ultimately', 100),\n",
        " ('constantly', 100),\n",
        " ('cannot', 100),\n",
        " ('otherwise', 100),\n",
        " ('water', 100),\n",
        " (\"haven't\", 99),\n",
        " ('ability', 99),\n",
        " ('million', 99),\n",
        " ('r', 99),\n",
        " ('biggest', 99),\n",
        " ('favorite', 99),\n",
        " ('waste', 99),\n",
        " ('george', 99),\n",
        " ('exciting', 98),\n",
        " ('sequel', 98),\n",
        " ('king', 98),\n",
        " ('romance', 98),\n",
        " ('audiences', 98),\n",
        " ('fails', 98),\n",
        " ('stories', 98),\n",
        " ('kid', 98),\n",
        " ('slightly', 98),\n",
        " ('chase', 98),\n",
        " ('control', 98),\n",
        " ('somewhere', 97),\n",
        " ('meanwhile', 97),\n",
        " ('took', 97),\n",
        " ('10', 97),\n",
        " ('chris', 97),\n",
        " ('wanted', 97),\n",
        " ('brought', 97),\n",
        " ('ridiculous', 97),\n",
        " ('silly', 97),\n",
        " ('motion', 97),\n",
        " ('excellent', 96),\n",
        " ('indeed', 96),\n",
        " ('crime', 96),\n",
        " ('offers', 96),\n",
        " ('awful', 96),\n",
        " ('whatever', 96),\n",
        " ('pay', 96),\n",
        " ('particular', 96),\n",
        " ('suddenly', 96),\n",
        " ('gave', 95),\n",
        " ('spent', 95),\n",
        " ('actual', 95),\n",
        " ('soundtrack', 95),\n",
        " ('terrible', 95),\n",
        " ('cinematic', 94),\n",
        " ('female', 94),\n",
        " ('liked', 94),\n",
        " ('complex', 94),\n",
        " ('element', 94),\n",
        " ('dog', 94),\n",
        " ('reality', 94),\n",
        " ('force', 94),\n",
        " ('aspect', 94),\n",
        " ('various', 94),\n",
        " ('scott', 93),\n",
        " ('married', 93),\n",
        " ('subtle', 93),\n",
        " ('totally', 93),\n",
        " ('hands', 93),\n",
        " ('sees', 93),\n",
        " ('sounds', 93),\n",
        " ('typical', 93),\n",
        " ('longer', 93),\n",
        " ('tone', 92),\n",
        " ('situations', 92),\n",
        " ('list', 92),\n",
        " ('thinks', 92),\n",
        " ('imagine', 92),\n",
        " ('bill', 92),\n",
        " ('modern', 92),\n",
        " ('outside', 92),\n",
        " ('fan', 92),\n",
        " ('highly', 91),\n",
        " ('minor', 91),\n",
        " ('front', 91),\n",
        " ('wait', 91),\n",
        " ('quick', 91),\n",
        " ('america', 90),\n",
        " ('depth', 90),\n",
        " ('fast', 90),\n",
        " ('remains', 90),\n",
        " ('expected', 90),\n",
        " ('sit', 90),\n",
        " ('state', 90),\n",
        " ('further', 90),\n",
        " ('provide', 89),\n",
        " ('showing', 89),\n",
        " ('telling', 89),\n",
        " ('brief', 89),\n",
        " ('alien', 89),\n",
        " ('delivers', 89),\n",
        " ('cold', 89),\n",
        " ('hear', 89),\n",
        " ('recently', 89),\n",
        " ('brothers', 89),\n",
        " ('eye', 89),\n",
        " ('hold', 89),\n",
        " ('atmosphere', 89),\n",
        " ('background', 89),\n",
        " ('lots', 88),\n",
        " ('minute', 88),\n",
        " (\"let's\", 88),\n",
        " ('setting', 88),\n",
        " ('sweet', 88),\n",
        " ('possibly', 88),\n",
        " ('entirely', 88),\n",
        " ('society', 88),\n",
        " ('crew', 87),\n",
        " ('consider', 87),\n",
        " ('planet', 87),\n",
        " ('proves', 87),\n",
        " ('de', 87),\n",
        " ('red', 87),\n",
        " ('caught', 87),\n",
        " ('worked', 87),\n",
        " ('opportunity', 87),\n",
        " ('credit', 87),\n",
        " ('violent', 87),\n",
        " ('wild', 87),\n",
        " ('jim', 86),\n",
        " ('famous', 86),\n",
        " ('screenwriter', 86),\n",
        " ('tension', 86),\n",
        " ('subplot', 86),\n",
        " ('approach', 86),\n",
        " ('class', 86),\n",
        " ('richard', 86),\n",
        " ('3', 86),\n",
        " ('agent', 86),\n",
        " ('alive', 86),\n",
        " ('stands', 86),\n",
        " ('choice', 85),\n",
        " ('pull', 85),\n",
        " ('box', 85),\n",
        " ('clearly', 85),\n",
        " ('cop', 85),\n",
        " ('private', 85),\n",
        " ('wish', 85),\n",
        " ('members', 85),\n",
        " ('common', 85),\n",
        " ('puts', 85),\n",
        " ('law', 85),\n",
        " ('forget', 85),\n",
        " ('dumb', 85),\n",
        " ('asks', 84),\n",
        " ('fiction', 84),\n",
        " ('development', 84),\n",
        " ('cheap', 84),\n",
        " ('theme', 84),\n",
        " (\"year's\", 84),\n",
        " ('reasons', 84),\n",
        " ('becoming', 84),\n",
        " ('dream', 84),\n",
        " ('dull', 84),\n",
        " ('decided', 84),\n",
        " ('rating', 84),\n",
        " ('stand', 84),\n",
        " ('robin', 84),\n",
        " ('yourself', 84),\n",
        " ('computer', 84),\n",
        " ('english', 84),\n",
        " ('decide', 83),\n",
        " ('joke', 83),\n",
        " ('science', 83),\n",
        " ('flat', 83),\n",
        " ...]"
       ]
      }
     ],
     "prompt_number": 507
    },
    {
     "cell_type": "heading",
     "level": 3,
     "metadata": {},
     "source": [
      "7. try delete common words and add new negtive features"
     ]
    },
    {
     "cell_type": "code",
     "collapsed": false,
     "input": [
      "error_analysis_df = pd.DataFrame(error_analysis_result[:40], columns=['word','value'])"
     ],
     "language": "python",
     "metadata": {},
     "outputs": [],
     "prompt_number": 508
    },
    {
     "cell_type": "code",
     "collapsed": false,
     "input": [
      "common_words_2 = list(error_analysis_df['word'])"
     ],
     "language": "python",
     "metadata": {},
     "outputs": [],
     "prompt_number": 520
    },
    {
     "cell_type": "code",
     "collapsed": false,
     "input": [
      "common_words_2.remove('bad')"
     ],
     "language": "python",
     "metadata": {},
     "outputs": [],
     "prompt_number": 523
    },
    {
     "cell_type": "code",
     "collapsed": false,
     "input": [
      "common_words_2.remove('great')"
     ],
     "language": "python",
     "metadata": {},
     "outputs": [],
     "prompt_number": 524
    },
    {
     "cell_type": "markdown",
     "metadata": {},
     "source": [
      "delete common words"
     ]
    },
    {
     "cell_type": "code",
     "collapsed": false,
     "input": [
      "def list_to_dict_common_words(li):\n",
      "    cnt = Counter()\n",
      "    for word in li:\n",
      "        if word not in common_words_2:\n",
      "            cnt[word] += 1\n",
      "    return dict(cnt)"
     ],
     "language": "python",
     "metadata": {},
     "outputs": [],
     "prompt_number": 548
    },
    {
     "cell_type": "code",
     "collapsed": false,
     "input": [
      "train_X_dict_cw = [list_to_dict_common_words(li) for li in train_X]"
     ],
     "language": "python",
     "metadata": {},
     "outputs": [],
     "prompt_number": 527
    },
    {
     "cell_type": "code",
     "collapsed": false,
     "input": [
      "test_X_dict_cw = [list_to_dict_common_words(li) for li in test_X]"
     ],
     "language": "python",
     "metadata": {},
     "outputs": [],
     "prompt_number": 528
    },
    {
     "cell_type": "code",
     "collapsed": false,
     "input": [
      "w_cw, errors_cw = pegasos_svm_speedup(train_X_dict_cw,train_y,test_X_dict_cw,test_y,10**-3,100)"
     ],
     "language": "python",
     "metadata": {},
     "outputs": [
      {
       "output_type": "stream",
       "stream": "stdout",
       "text": [
        "=============Done with epoch 1===============\n",
        "The error is 0.25\n",
        "=============Done with epoch 2==============="
       ]
      },
      {
       "output_type": "stream",
       "stream": "stdout",
       "text": [
        "\n",
        "The error is 0.282\n",
        "=============Done with epoch 3==============="
       ]
      },
      {
       "output_type": "stream",
       "stream": "stdout",
       "text": [
        "\n",
        "The error is 0.276\n",
        "=============Done with epoch 4==============="
       ]
      },
      {
       "output_type": "stream",
       "stream": "stdout",
       "text": [
        "\n",
        "The error is 0.206\n",
        "=============Done with epoch 5==============="
       ]
      },
      {
       "output_type": "stream",
       "stream": "stdout",
       "text": [
        "\n",
        "The error is 0.19\n",
        "=============Done with epoch 6==============="
       ]
      },
      {
       "output_type": "stream",
       "stream": "stdout",
       "text": [
        "\n",
        "The error is 0.212\n",
        "=============Done with epoch 7==============="
       ]
      },
      {
       "output_type": "stream",
       "stream": "stdout",
       "text": [
        "\n",
        "The error is 0.2\n",
        "=============Done with epoch 8==============="
       ]
      },
      {
       "output_type": "stream",
       "stream": "stdout",
       "text": [
        "\n",
        "The error is 0.18\n",
        "=============Done with epoch 9==============="
       ]
      },
      {
       "output_type": "stream",
       "stream": "stdout",
       "text": [
        "\n",
        "The error is 0.176\n",
        "=============Done with epoch 10==============="
       ]
      },
      {
       "output_type": "stream",
       "stream": "stdout",
       "text": [
        "\n",
        "The error is 0.198\n",
        "=============Done with epoch 11==============="
       ]
      },
      {
       "output_type": "stream",
       "stream": "stdout",
       "text": [
        "\n",
        "The error is 0.17\n",
        "=============Done with epoch 12==============="
       ]
      },
      {
       "output_type": "stream",
       "stream": "stdout",
       "text": [
        "\n",
        "The error is 0.184\n",
        "=============Done with epoch 13==============="
       ]
      },
      {
       "output_type": "stream",
       "stream": "stdout",
       "text": [
        "\n",
        "The error is 0.178\n",
        "=============Done with epoch 14==============="
       ]
      },
      {
       "output_type": "stream",
       "stream": "stdout",
       "text": [
        "\n",
        "The error is 0.178\n",
        "=============Done with epoch 15==============="
       ]
      },
      {
       "output_type": "stream",
       "stream": "stdout",
       "text": [
        "\n",
        "The error is 0.178\n",
        "=============Done with epoch 16==============="
       ]
      },
      {
       "output_type": "stream",
       "stream": "stdout",
       "text": [
        "\n",
        "The error is 0.176\n",
        "=============Done with epoch 17==============="
       ]
      },
      {
       "output_type": "stream",
       "stream": "stdout",
       "text": [
        "\n",
        "The error is 0.176\n",
        "=============Done with epoch 18==============="
       ]
      },
      {
       "output_type": "stream",
       "stream": "stdout",
       "text": [
        "\n",
        "The error is 0.176\n",
        "=============Done with epoch 19==============="
       ]
      },
      {
       "output_type": "stream",
       "stream": "stdout",
       "text": [
        "\n",
        "The error is 0.176\n",
        "=============Done with epoch 20==============="
       ]
      },
      {
       "output_type": "stream",
       "stream": "stdout",
       "text": [
        "\n",
        "The error is 0.176\n",
        "=============Done with epoch 21==============="
       ]
      },
      {
       "output_type": "stream",
       "stream": "stdout",
       "text": [
        "\n",
        "The error is 0.176\n",
        "=============Done with epoch 22==============="
       ]
      },
      {
       "output_type": "stream",
       "stream": "stdout",
       "text": [
        "\n",
        "The error is 0.18\n",
        "=============Done with epoch 23==============="
       ]
      },
      {
       "output_type": "stream",
       "stream": "stdout",
       "text": [
        "\n",
        "The error is 0.188\n",
        "=============Done with epoch 24==============="
       ]
      },
      {
       "output_type": "stream",
       "stream": "stdout",
       "text": [
        "\n",
        "The error is 0.188\n",
        "=============Done with epoch 25==============="
       ]
      },
      {
       "output_type": "stream",
       "stream": "stdout",
       "text": [
        "\n",
        "The error is 0.174\n",
        "=============Done with epoch 26==============="
       ]
      },
      {
       "output_type": "stream",
       "stream": "stdout",
       "text": [
        "\n",
        "The error is 0.178\n",
        "=============Done with epoch 27==============="
       ]
      },
      {
       "output_type": "stream",
       "stream": "stdout",
       "text": [
        "\n",
        "The error is 0.196\n",
        "=============Done with epoch 28==============="
       ]
      },
      {
       "output_type": "stream",
       "stream": "stdout",
       "text": [
        "\n",
        "The error is 0.154\n",
        "=============Done with epoch 29==============="
       ]
      },
      {
       "output_type": "stream",
       "stream": "stdout",
       "text": [
        "\n",
        "The error is 0.166\n",
        "=============Done with epoch 30==============="
       ]
      },
      {
       "output_type": "stream",
       "stream": "stdout",
       "text": [
        "\n",
        "The error is 0.172\n",
        "=============Done with epoch 31==============="
       ]
      },
      {
       "output_type": "stream",
       "stream": "stdout",
       "text": [
        "\n",
        "The error is 0.168\n",
        "=============Done with epoch 32==============="
       ]
      },
      {
       "output_type": "stream",
       "stream": "stdout",
       "text": [
        "\n",
        "The error is 0.158\n",
        "=============Done with epoch 33==============="
       ]
      },
      {
       "output_type": "stream",
       "stream": "stdout",
       "text": [
        "\n",
        "The error is 0.158\n",
        "=============Done with epoch 34==============="
       ]
      },
      {
       "output_type": "stream",
       "stream": "stdout",
       "text": [
        "\n",
        "The error is 0.158\n",
        "=============Done with epoch 35==============="
       ]
      },
      {
       "output_type": "stream",
       "stream": "stdout",
       "text": [
        "\n",
        "The error is 0.158\n",
        "=============Done with epoch 36==============="
       ]
      },
      {
       "output_type": "stream",
       "stream": "stdout",
       "text": [
        "\n",
        "The error is 0.158\n",
        "=============Done with epoch 37==============="
       ]
      },
      {
       "output_type": "stream",
       "stream": "stdout",
       "text": [
        "\n",
        "The error is 0.158\n",
        "=============Done with epoch 38==============="
       ]
      },
      {
       "output_type": "stream",
       "stream": "stdout",
       "text": [
        "\n",
        "The error is 0.158\n",
        "=============Done with epoch 39==============="
       ]
      },
      {
       "output_type": "stream",
       "stream": "stdout",
       "text": [
        "\n",
        "The error is 0.158\n",
        "=============Done with epoch 40==============="
       ]
      },
      {
       "output_type": "stream",
       "stream": "stdout",
       "text": [
        "\n",
        "The error is 0.158\n",
        "=============Done with epoch 41==============="
       ]
      },
      {
       "output_type": "stream",
       "stream": "stdout",
       "text": [
        "\n",
        "The error is 0.16\n",
        "=============Done with epoch 42==============="
       ]
      },
      {
       "output_type": "stream",
       "stream": "stdout",
       "text": [
        "\n",
        "The error is 0.172\n",
        "=============Done with epoch 43==============="
       ]
      },
      {
       "output_type": "stream",
       "stream": "stdout",
       "text": [
        "\n",
        "The error is 0.156\n",
        "=============Done with epoch 44==============="
       ]
      },
      {
       "output_type": "stream",
       "stream": "stdout",
       "text": [
        "\n",
        "The error is 0.174\n",
        "=============Done with epoch 45==============="
       ]
      },
      {
       "output_type": "stream",
       "stream": "stdout",
       "text": [
        "\n",
        "The error is 0.172\n",
        "=============Done with epoch 46==============="
       ]
      },
      {
       "output_type": "stream",
       "stream": "stdout",
       "text": [
        "\n",
        "The error is 0.158\n",
        "=============Done with epoch 47==============="
       ]
      },
      {
       "output_type": "stream",
       "stream": "stdout",
       "text": [
        "\n",
        "The error is 0.158\n",
        "=============Done with epoch 48==============="
       ]
      },
      {
       "output_type": "stream",
       "stream": "stdout",
       "text": [
        "\n",
        "The error is 0.168\n",
        "=============Done with epoch 49==============="
       ]
      },
      {
       "output_type": "stream",
       "stream": "stdout",
       "text": [
        "\n",
        "The error is 0.168\n",
        "=============Done with epoch 50==============="
       ]
      },
      {
       "output_type": "stream",
       "stream": "stdout",
       "text": [
        "\n",
        "The error is 0.168\n",
        "=============Done with epoch 51==============="
       ]
      },
      {
       "output_type": "stream",
       "stream": "stdout",
       "text": [
        "\n",
        "The error is 0.168\n",
        "=============Done with epoch 52==============="
       ]
      },
      {
       "output_type": "stream",
       "stream": "stdout",
       "text": [
        "\n",
        "The error is 0.168\n",
        "=============Done with epoch 53==============="
       ]
      },
      {
       "output_type": "stream",
       "stream": "stdout",
       "text": [
        "\n",
        "The error is 0.168\n",
        "=============Done with epoch 54==============="
       ]
      },
      {
       "output_type": "stream",
       "stream": "stdout",
       "text": [
        "\n",
        "The error is 0.158\n",
        "=============Done with epoch 55==============="
       ]
      },
      {
       "output_type": "stream",
       "stream": "stdout",
       "text": [
        "\n",
        "The error is 0.158\n",
        "=============Done with epoch 56==============="
       ]
      },
      {
       "output_type": "stream",
       "stream": "stdout",
       "text": [
        "\n",
        "The error is 0.158\n",
        "=============Done with epoch 57==============="
       ]
      },
      {
       "output_type": "stream",
       "stream": "stdout",
       "text": [
        "\n",
        "The error is 0.158\n",
        "=============Done with epoch 58==============="
       ]
      },
      {
       "output_type": "stream",
       "stream": "stdout",
       "text": [
        "\n",
        "The error is 0.158\n",
        "=============Done with epoch 59==============="
       ]
      },
      {
       "output_type": "stream",
       "stream": "stdout",
       "text": [
        "\n",
        "The error is 0.184\n",
        "=============Done with epoch 60==============="
       ]
      },
      {
       "output_type": "stream",
       "stream": "stdout",
       "text": [
        "\n",
        "The error is 0.16\n",
        "=============Done with epoch 61==============="
       ]
      },
      {
       "output_type": "stream",
       "stream": "stdout",
       "text": [
        "\n",
        "The error is 0.166\n",
        "=============Done with epoch 62==============="
       ]
      },
      {
       "output_type": "stream",
       "stream": "stdout",
       "text": [
        "\n",
        "The error is 0.16\n",
        "=============Done with epoch 63==============="
       ]
      },
      {
       "output_type": "stream",
       "stream": "stdout",
       "text": [
        "\n",
        "The error is 0.162\n",
        "=============Done with epoch 64==============="
       ]
      },
      {
       "output_type": "stream",
       "stream": "stdout",
       "text": [
        "\n",
        "The error is 0.168\n",
        "=============Done with epoch 65==============="
       ]
      },
      {
       "output_type": "stream",
       "stream": "stdout",
       "text": [
        "\n",
        "The error is 0.156\n",
        "=============Done with epoch 66==============="
       ]
      },
      {
       "output_type": "stream",
       "stream": "stdout",
       "text": [
        "\n",
        "The error is 0.156\n",
        "=============Done with epoch 67==============="
       ]
      },
      {
       "output_type": "stream",
       "stream": "stdout",
       "text": [
        "\n",
        "The error is 0.156\n",
        "=============Done with epoch 68==============="
       ]
      },
      {
       "output_type": "stream",
       "stream": "stdout",
       "text": [
        "\n",
        "The error is 0.156\n",
        "=============Done with epoch 69==============="
       ]
      },
      {
       "output_type": "stream",
       "stream": "stdout",
       "text": [
        "\n",
        "The error is 0.156\n",
        "=============Done with epoch 70==============="
       ]
      },
      {
       "output_type": "stream",
       "stream": "stdout",
       "text": [
        "\n",
        "The error is 0.148\n",
        "=============Done with epoch 71==============="
       ]
      },
      {
       "output_type": "stream",
       "stream": "stdout",
       "text": [
        "\n",
        "The error is 0.148\n",
        "=============Done with epoch 72==============="
       ]
      },
      {
       "output_type": "stream",
       "stream": "stdout",
       "text": [
        "\n",
        "The error is 0.158\n",
        "=============Done with epoch 73==============="
       ]
      },
      {
       "output_type": "stream",
       "stream": "stdout",
       "text": [
        "\n",
        "The error is 0.158\n",
        "=============Done with epoch 74==============="
       ]
      },
      {
       "output_type": "stream",
       "stream": "stdout",
       "text": [
        "\n",
        "The error is 0.158\n",
        "=============Done with epoch 75==============="
       ]
      },
      {
       "output_type": "stream",
       "stream": "stdout",
       "text": [
        "\n",
        "The error is 0.158\n",
        "=============Done with epoch 76==============="
       ]
      },
      {
       "output_type": "stream",
       "stream": "stdout",
       "text": [
        "\n",
        "The error is 0.158\n",
        "=============Done with epoch 77==============="
       ]
      },
      {
       "output_type": "stream",
       "stream": "stdout",
       "text": [
        "\n",
        "The error is 0.158\n",
        "=============Done with epoch 78==============="
       ]
      },
      {
       "output_type": "stream",
       "stream": "stdout",
       "text": [
        "\n",
        "The error is 0.158\n",
        "=============Done with epoch 79==============="
       ]
      },
      {
       "output_type": "stream",
       "stream": "stdout",
       "text": [
        "\n",
        "The error is 0.152\n",
        "=============Done with epoch 80==============="
       ]
      },
      {
       "output_type": "stream",
       "stream": "stdout",
       "text": [
        "\n",
        "The error is 0.152\n",
        "=============Done with epoch 81==============="
       ]
      },
      {
       "output_type": "stream",
       "stream": "stdout",
       "text": [
        "\n",
        "The error is 0.152\n",
        "=============Done with epoch 82==============="
       ]
      },
      {
       "output_type": "stream",
       "stream": "stdout",
       "text": [
        "\n",
        "The error is 0.152\n",
        "=============Done with epoch 83==============="
       ]
      },
      {
       "output_type": "stream",
       "stream": "stdout",
       "text": [
        "\n",
        "The error is 0.152\n",
        "=============Done with epoch 84==============="
       ]
      },
      {
       "output_type": "stream",
       "stream": "stdout",
       "text": [
        "\n",
        "The error is 0.15\n",
        "=============Done with epoch 85==============="
       ]
      },
      {
       "output_type": "stream",
       "stream": "stdout",
       "text": [
        "\n",
        "The error is 0.15\n",
        "=============Done with epoch 86==============="
       ]
      },
      {
       "output_type": "stream",
       "stream": "stdout",
       "text": [
        "\n",
        "The error is 0.15\n",
        "=============Done with epoch 87==============="
       ]
      },
      {
       "output_type": "stream",
       "stream": "stdout",
       "text": [
        "\n",
        "The error is 0.15\n",
        "=============Done with epoch 88==============="
       ]
      },
      {
       "output_type": "stream",
       "stream": "stdout",
       "text": [
        "\n",
        "The error is 0.166\n",
        "=============Done with epoch 89==============="
       ]
      },
      {
       "output_type": "stream",
       "stream": "stdout",
       "text": [
        "\n",
        "The error is 0.164\n",
        "=============Done with epoch 90==============="
       ]
      },
      {
       "output_type": "stream",
       "stream": "stdout",
       "text": [
        "\n",
        "The error is 0.16\n",
        "=============Done with epoch 91==============="
       ]
      },
      {
       "output_type": "stream",
       "stream": "stdout",
       "text": [
        "\n",
        "The error is 0.16\n",
        "=============Done with epoch 92==============="
       ]
      },
      {
       "output_type": "stream",
       "stream": "stdout",
       "text": [
        "\n",
        "The error is 0.16\n",
        "=============Done with epoch 93==============="
       ]
      },
      {
       "output_type": "stream",
       "stream": "stdout",
       "text": [
        "\n",
        "The error is 0.16\n",
        "=============Done with epoch 94==============="
       ]
      },
      {
       "output_type": "stream",
       "stream": "stdout",
       "text": [
        "\n",
        "The error is 0.16\n",
        "=============Done with epoch 95==============="
       ]
      },
      {
       "output_type": "stream",
       "stream": "stdout",
       "text": [
        "\n",
        "The error is 0.166\n",
        "=============Done with epoch 96==============="
       ]
      },
      {
       "output_type": "stream",
       "stream": "stdout",
       "text": [
        "\n",
        "The error is 0.16\n",
        "=============Done with epoch 97==============="
       ]
      },
      {
       "output_type": "stream",
       "stream": "stdout",
       "text": [
        "\n",
        "The error is 0.162\n",
        "=============Done with epoch 98==============="
       ]
      },
      {
       "output_type": "stream",
       "stream": "stdout",
       "text": [
        "\n",
        "The error is 0.162\n",
        "=============Done with epoch 99==============="
       ]
      },
      {
       "output_type": "stream",
       "stream": "stdout",
       "text": [
        "\n",
        "The error is 0.162\n",
        "=============Done with epoch 100==============="
       ]
      },
      {
       "output_type": "stream",
       "stream": "stdout",
       "text": [
        "\n",
        "The error is 0.162\n"
       ]
      }
     ],
     "prompt_number": 534
    },
    {
     "cell_type": "code",
     "collapsed": false,
     "input": [
      "plt.plot(range(100), errors_cw)"
     ],
     "language": "python",
     "metadata": {},
     "outputs": [
      {
       "metadata": {},
       "output_type": "pyout",
       "prompt_number": 535,
       "text": [
        "[<matplotlib.lines.Line2D at 0x1233ea710>]"
       ]
      },
      {
       "metadata": {},
       "output_type": "display_data",
       "png": "[encoded data removed]",
       "text": [
        "<matplotlib.figure.Figure at 0x123378f90>"
       ]
      }
     ],
     "prompt_number": 535
    },
    {
     "cell_type": "code",
     "collapsed": false,
     "input": [
      "percent_error(test_X_dict_cw,test_y,w_cw)"
     ],
     "language": "python",
     "metadata": {},
     "outputs": [
      {
       "metadata": {},
       "output_type": "pyout",
       "prompt_number": 536,
       "text": [
        "0.162"
       ]
      }
     ],
     "prompt_number": 536
    },
    {
     "cell_type": "heading",
     "level": 3,
     "metadata": {},
     "source": [
      "delete rare words"
     ]
    },
    {
     "cell_type": "code",
     "collapsed": false,
     "input": [
      "def list_to_dict_common_rare_words(li):\n",
      "    cnt = Counter()\n",
      "    for word in li:\n",
      "        if word not in common_words_2 and word not in rare_words:\n",
      "            cnt[word] += 1\n",
      "    return dict(cnt)"
     ],
     "language": "python",
     "metadata": {},
     "outputs": [],
     "prompt_number": 549
    },
    {
     "cell_type": "code",
     "collapsed": false,
     "input": [
      "train_X_dict_cw_rw = [list_to_dict_common_rare_words(li) for li in train_X]"
     ],
     "language": "python",
     "metadata": {},
     "outputs": [],
     "prompt_number": 550
    },
    {
     "cell_type": "code",
     "collapsed": false,
     "input": [
      "test_X_dict_cw_rw = [list_to_dict_common_rare_words(li) for li in test_X]"
     ],
     "language": "python",
     "metadata": {},
     "outputs": [],
     "prompt_number": 551
    },
    {
     "cell_type": "code",
     "collapsed": false,
     "input": [
      "w_cw_rw, errors_cw_rw = pegasos_svm_speedup(train_X_dict_cw_rw,train_y,test_X_dict_cw_rw,test_y,10**-3,100)"
     ],
     "language": "python",
     "metadata": {},
     "outputs": [
      {
       "output_type": "stream",
       "stream": "stdout",
       "text": [
        "=============Done with epoch 1===============\n",
        "The error is 0.312\n",
        "=============Done with epoch 2==============="
       ]
      },
      {
       "output_type": "stream",
       "stream": "stdout",
       "text": [
        "\n",
        "The error is 0.212\n",
        "=============Done with epoch 3==============="
       ]
      },
      {
       "output_type": "stream",
       "stream": "stdout",
       "text": [
        "\n",
        "The error is 0.198\n",
        "=============Done with epoch 4==============="
       ]
      },
      {
       "output_type": "stream",
       "stream": "stdout",
       "text": [
        "\n",
        "The error is 0.17\n",
        "=============Done with epoch 5==============="
       ]
      },
      {
       "output_type": "stream",
       "stream": "stdout",
       "text": [
        "\n",
        "The error is 0.194\n",
        "=============Done with epoch 6==============="
       ]
      },
      {
       "output_type": "stream",
       "stream": "stdout",
       "text": [
        "\n",
        "The error is 0.182\n",
        "=============Done with epoch 7==============="
       ]
      },
      {
       "output_type": "stream",
       "stream": "stdout",
       "text": [
        "\n",
        "The error is 0.172\n",
        "=============Done with epoch 8==============="
       ]
      },
      {
       "output_type": "stream",
       "stream": "stdout",
       "text": [
        "\n",
        "The error is 0.206\n",
        "=============Done with epoch 9==============="
       ]
      },
      {
       "output_type": "stream",
       "stream": "stdout",
       "text": [
        "\n",
        "The error is 0.174\n",
        "=============Done with epoch 10==============="
       ]
      },
      {
       "output_type": "stream",
       "stream": "stdout",
       "text": [
        "\n",
        "The error is 0.178\n",
        "=============Done with epoch 11==============="
       ]
      },
      {
       "output_type": "stream",
       "stream": "stdout",
       "text": [
        "\n",
        "The error is 0.19\n",
        "=============Done with epoch 12==============="
       ]
      },
      {
       "output_type": "stream",
       "stream": "stdout",
       "text": [
        "\n",
        "The error is 0.172\n",
        "=============Done with epoch 13==============="
       ]
      },
      {
       "output_type": "stream",
       "stream": "stdout",
       "text": [
        "\n",
        "The error is 0.174\n",
        "=============Done with epoch 14==============="
       ]
      },
      {
       "output_type": "stream",
       "stream": "stdout",
       "text": [
        "\n",
        "The error is 0.186\n",
        "=============Done with epoch 15==============="
       ]
      },
      {
       "output_type": "stream",
       "stream": "stdout",
       "text": [
        "\n",
        "The error is 0.186\n",
        "=============Done with epoch 16==============="
       ]
      },
      {
       "output_type": "stream",
       "stream": "stdout",
       "text": [
        "\n",
        "The error is 0.186\n",
        "=============Done with epoch 17==============="
       ]
      },
      {
       "output_type": "stream",
       "stream": "stdout",
       "text": [
        "\n",
        "The error is 0.186\n",
        "=============Done with epoch 18==============="
       ]
      },
      {
       "output_type": "stream",
       "stream": "stdout",
       "text": [
        "\n",
        "The error is 0.186\n",
        "=============Done with epoch 19==============="
       ]
      },
      {
       "output_type": "stream",
       "stream": "stdout",
       "text": [
        "\n",
        "The error is 0.186\n",
        "=============Done with epoch 20==============="
       ]
      },
      {
       "output_type": "stream",
       "stream": "stdout",
       "text": [
        "\n",
        "The error is 0.186\n",
        "=============Done with epoch 21==============="
       ]
      },
      {
       "output_type": "stream",
       "stream": "stdout",
       "text": [
        "\n",
        "The error is 0.186\n",
        "=============Done with epoch 22==============="
       ]
      },
      {
       "output_type": "stream",
       "stream": "stdout",
       "text": [
        "\n",
        "The error is 0.238\n",
        "=============Done with epoch 23==============="
       ]
      },
      {
       "output_type": "stream",
       "stream": "stdout",
       "text": [
        "\n",
        "The error is 0.184\n",
        "=============Done with epoch 24==============="
       ]
      },
      {
       "output_type": "stream",
       "stream": "stdout",
       "text": [
        "\n",
        "The error is 0.174\n",
        "=============Done with epoch 25==============="
       ]
      },
      {
       "output_type": "stream",
       "stream": "stdout",
       "text": [
        "\n",
        "The error is 0.176\n",
        "=============Done with epoch 26==============="
       ]
      },
      {
       "output_type": "stream",
       "stream": "stdout",
       "text": [
        "\n",
        "The error is 0.176\n",
        "=============Done with epoch 27==============="
       ]
      },
      {
       "output_type": "stream",
       "stream": "stdout",
       "text": [
        "\n",
        "The error is 0.18\n",
        "=============Done with epoch 28==============="
       ]
      },
      {
       "output_type": "stream",
       "stream": "stdout",
       "text": [
        "\n",
        "The error is 0.186\n",
        "=============Done with epoch 29==============="
       ]
      },
      {
       "output_type": "stream",
       "stream": "stdout",
       "text": [
        "\n",
        "The error is 0.174\n",
        "=============Done with epoch 30==============="
       ]
      },
      {
       "output_type": "stream",
       "stream": "stdout",
       "text": [
        "\n",
        "The error is 0.18\n",
        "=============Done with epoch 31==============="
       ]
      },
      {
       "output_type": "stream",
       "stream": "stdout",
       "text": [
        "\n",
        "The error is 0.18\n",
        "=============Done with epoch 32==============="
       ]
      },
      {
       "output_type": "stream",
       "stream": "stdout",
       "text": [
        "\n",
        "The error is 0.18\n",
        "=============Done with epoch 33==============="
       ]
      },
      {
       "output_type": "stream",
       "stream": "stdout",
       "text": [
        "\n",
        "The error is 0.18\n",
        "=============Done with epoch 34==============="
       ]
      },
      {
       "output_type": "stream",
       "stream": "stdout",
       "text": [
        "\n",
        "The error is 0.18\n",
        "=============Done with epoch 35==============="
       ]
      },
      {
       "output_type": "stream",
       "stream": "stdout",
       "text": [
        "\n",
        "The error is 0.18\n",
        "=============Done with epoch 36==============="
       ]
      },
      {
       "output_type": "stream",
       "stream": "stdout",
       "text": [
        "\n",
        "The error is 0.18\n",
        "=============Done with epoch 37==============="
       ]
      },
      {
       "output_type": "stream",
       "stream": "stdout",
       "text": [
        "\n",
        "The error is 0.18\n",
        "=============Done with epoch 38==============="
       ]
      },
      {
       "output_type": "stream",
       "stream": "stdout",
       "text": [
        "\n",
        "The error is 0.18\n",
        "=============Done with epoch 39==============="
       ]
      },
      {
       "output_type": "stream",
       "stream": "stdout",
       "text": [
        "\n",
        "The error is 0.18\n",
        "=============Done with epoch 40==============="
       ]
      },
      {
       "output_type": "stream",
       "stream": "stdout",
       "text": [
        "\n",
        "The error is 0.18\n",
        "=============Done with epoch 41==============="
       ]
      },
      {
       "output_type": "stream",
       "stream": "stdout",
       "text": [
        "\n",
        "The error is 0.18\n",
        "=============Done with epoch 42==============="
       ]
      },
      {
       "output_type": "stream",
       "stream": "stdout",
       "text": [
        "\n",
        "The error is 0.182\n",
        "=============Done with epoch 43==============="
       ]
      },
      {
       "output_type": "stream",
       "stream": "stdout",
       "text": [
        "\n",
        "The error is 0.182\n",
        "=============Done with epoch 44==============="
       ]
      },
      {
       "output_type": "stream",
       "stream": "stdout",
       "text": [
        "\n",
        "The error is 0.182\n",
        "=============Done with epoch 45==============="
       ]
      },
      {
       "output_type": "stream",
       "stream": "stdout",
       "text": [
        "\n",
        "The error is 0.182\n",
        "=============Done with epoch 46==============="
       ]
      },
      {
       "output_type": "stream",
       "stream": "stdout",
       "text": [
        "\n",
        "The error is 0.182\n",
        "=============Done with epoch 47==============="
       ]
      },
      {
       "output_type": "stream",
       "stream": "stdout",
       "text": [
        "\n",
        "The error is 0.182\n",
        "=============Done with epoch 48==============="
       ]
      },
      {
       "output_type": "stream",
       "stream": "stdout",
       "text": [
        "\n",
        "The error is 0.182\n",
        "=============Done with epoch 49==============="
       ]
      },
      {
       "output_type": "stream",
       "stream": "stdout",
       "text": [
        "\n",
        "The error is 0.182\n",
        "=============Done with epoch 50==============="
       ]
      },
      {
       "output_type": "stream",
       "stream": "stdout",
       "text": [
        "\n",
        "The error is 0.182\n",
        "=============Done with epoch 51==============="
       ]
      },
      {
       "output_type": "stream",
       "stream": "stdout",
       "text": [
        "\n",
        "The error is 0.182\n",
        "=============Done with epoch 52==============="
       ]
      },
      {
       "output_type": "stream",
       "stream": "stdout",
       "text": [
        "\n",
        "The error is 0.182\n",
        "=============Done with epoch 53==============="
       ]
      },
      {
       "output_type": "stream",
       "stream": "stdout",
       "text": [
        "\n",
        "The error is 0.182\n",
        "=============Done with epoch 54==============="
       ]
      },
      {
       "output_type": "stream",
       "stream": "stdout",
       "text": [
        "\n",
        "The error is 0.174\n",
        "=============Done with epoch 55==============="
       ]
      },
      {
       "output_type": "stream",
       "stream": "stdout",
       "text": [
        "\n",
        "The error is 0.174\n",
        "=============Done with epoch 56==============="
       ]
      },
      {
       "output_type": "stream",
       "stream": "stdout",
       "text": [
        "\n",
        "The error is 0.174\n",
        "=============Done with epoch 57==============="
       ]
      },
      {
       "output_type": "stream",
       "stream": "stdout",
       "text": [
        "\n",
        "The error is 0.174\n",
        "=============Done with epoch 58==============="
       ]
      },
      {
       "output_type": "stream",
       "stream": "stdout",
       "text": [
        "\n",
        "The error is 0.19\n",
        "=============Done with epoch 59==============="
       ]
      },
      {
       "output_type": "stream",
       "stream": "stdout",
       "text": [
        "\n",
        "The error is 0.178\n",
        "=============Done with epoch 60==============="
       ]
      },
      {
       "output_type": "stream",
       "stream": "stdout",
       "text": [
        "\n",
        "The error is 0.18\n",
        "=============Done with epoch 61==============="
       ]
      },
      {
       "output_type": "stream",
       "stream": "stdout",
       "text": [
        "\n",
        "The error is 0.202\n",
        "=============Done with epoch 62==============="
       ]
      },
      {
       "output_type": "stream",
       "stream": "stdout",
       "text": [
        "\n",
        "The error is 0.172\n",
        "=============Done with epoch 63==============="
       ]
      },
      {
       "output_type": "stream",
       "stream": "stdout",
       "text": [
        "\n",
        "The error is 0.178\n",
        "=============Done with epoch 64==============="
       ]
      },
      {
       "output_type": "stream",
       "stream": "stdout",
       "text": [
        "\n",
        "The error is 0.178\n",
        "=============Done with epoch 65==============="
       ]
      },
      {
       "output_type": "stream",
       "stream": "stdout",
       "text": [
        "\n",
        "The error is 0.178\n",
        "=============Done with epoch 66==============="
       ]
      },
      {
       "output_type": "stream",
       "stream": "stdout",
       "text": [
        "\n",
        "The error is 0.178\n",
        "=============Done with epoch 67==============="
       ]
      },
      {
       "output_type": "stream",
       "stream": "stdout",
       "text": [
        "\n",
        "The error is 0.176\n",
        "=============Done with epoch 68==============="
       ]
      },
      {
       "output_type": "stream",
       "stream": "stdout",
       "text": [
        "\n",
        "The error is 0.178\n",
        "=============Done with epoch 69==============="
       ]
      },
      {
       "output_type": "stream",
       "stream": "stdout",
       "text": [
        "\n",
        "The error is 0.196\n",
        "=============Done with epoch 70==============="
       ]
      },
      {
       "output_type": "stream",
       "stream": "stdout",
       "text": [
        "\n",
        "The error is 0.176\n",
        "=============Done with epoch 71==============="
       ]
      },
      {
       "output_type": "stream",
       "stream": "stdout",
       "text": [
        "\n",
        "The error is 0.17\n",
        "=============Done with epoch 72==============="
       ]
      },
      {
       "output_type": "stream",
       "stream": "stdout",
       "text": [
        "\n",
        "The error is 0.152\n",
        "=============Done with epoch 73==============="
       ]
      },
      {
       "output_type": "stream",
       "stream": "stdout",
       "text": [
        "\n",
        "The error is 0.186\n",
        "=============Done with epoch 74==============="
       ]
      },
      {
       "output_type": "stream",
       "stream": "stdout",
       "text": [
        "\n",
        "The error is 0.174\n",
        "=============Done with epoch 75==============="
       ]
      },
      {
       "output_type": "stream",
       "stream": "stdout",
       "text": [
        "\n",
        "The error is 0.156\n",
        "=============Done with epoch 76==============="
       ]
      },
      {
       "output_type": "stream",
       "stream": "stdout",
       "text": [
        "\n",
        "The error is 0.158\n",
        "=============Done with epoch 77==============="
       ]
      },
      {
       "output_type": "stream",
       "stream": "stdout",
       "text": [
        "\n",
        "The error is 0.17\n",
        "=============Done with epoch 78==============="
       ]
      },
      {
       "output_type": "stream",
       "stream": "stdout",
       "text": [
        "\n",
        "The error is 0.176\n",
        "=============Done with epoch 79==============="
       ]
      },
      {
       "output_type": "stream",
       "stream": "stdout",
       "text": [
        "\n",
        "The error is 0.176\n",
        "=============Done with epoch 80==============="
       ]
      },
      {
       "output_type": "stream",
       "stream": "stdout",
       "text": [
        "\n",
        "The error is 0.176\n",
        "=============Done with epoch 81==============="
       ]
      },
      {
       "output_type": "stream",
       "stream": "stdout",
       "text": [
        "\n",
        "The error is 0.176\n",
        "=============Done with epoch 82==============="
       ]
      },
      {
       "output_type": "stream",
       "stream": "stdout",
       "text": [
        "\n",
        "The error is 0.176\n",
        "=============Done with epoch 83==============="
       ]
      },
      {
       "output_type": "stream",
       "stream": "stdout",
       "text": [
        "\n",
        "The error is 0.176\n",
        "=============Done with epoch 84==============="
       ]
      },
      {
       "output_type": "stream",
       "stream": "stdout",
       "text": [
        "\n",
        "The error is 0.176\n",
        "=============Done with epoch 85==============="
       ]
      },
      {
       "output_type": "stream",
       "stream": "stdout",
       "text": [
        "\n",
        "The error is 0.176\n",
        "=============Done with epoch 86==============="
       ]
      },
      {
       "output_type": "stream",
       "stream": "stdout",
       "text": [
        "\n",
        "The error is 0.166\n",
        "=============Done with epoch 87==============="
       ]
      },
      {
       "output_type": "stream",
       "stream": "stdout",
       "text": [
        "\n",
        "The error is 0.162\n",
        "=============Done with epoch 88==============="
       ]
      },
      {
       "output_type": "stream",
       "stream": "stdout",
       "text": [
        "\n",
        "The error is 0.18\n",
        "=============Done with epoch 89==============="
       ]
      },
      {
       "output_type": "stream",
       "stream": "stdout",
       "text": [
        "\n",
        "The error is 0.17\n",
        "=============Done with epoch 90==============="
       ]
      },
      {
       "output_type": "stream",
       "stream": "stdout",
       "text": [
        "\n",
        "The error is 0.17\n",
        "=============Done with epoch 91==============="
       ]
      },
      {
       "output_type": "stream",
       "stream": "stdout",
       "text": [
        "\n",
        "The error is 0.17\n",
        "=============Done with epoch 92==============="
       ]
      },
      {
       "output_type": "stream",
       "stream": "stdout",
       "text": [
        "\n",
        "The error is 0.17\n",
        "=============Done with epoch 93==============="
       ]
      },
      {
       "output_type": "stream",
       "stream": "stdout",
       "text": [
        "\n",
        "The error is 0.17\n",
        "=============Done with epoch 94==============="
       ]
      },
      {
       "output_type": "stream",
       "stream": "stdout",
       "text": [
        "\n",
        "The error is 0.17\n",
        "=============Done with epoch 95==============="
       ]
      },
      {
       "output_type": "stream",
       "stream": "stdout",
       "text": [
        "\n",
        "The error is 0.174\n",
        "=============Done with epoch 96==============="
       ]
      },
      {
       "output_type": "stream",
       "stream": "stdout",
       "text": [
        "\n",
        "The error is 0.178\n",
        "=============Done with epoch 97==============="
       ]
      },
      {
       "output_type": "stream",
       "stream": "stdout",
       "text": [
        "\n",
        "The error is 0.17\n",
        "=============Done with epoch 98==============="
       ]
      },
      {
       "output_type": "stream",
       "stream": "stdout",
       "text": [
        "\n",
        "The error is 0.174\n",
        "=============Done with epoch 99==============="
       ]
      },
      {
       "output_type": "stream",
       "stream": "stdout",
       "text": [
        "\n",
        "The error is 0.18\n",
        "=============Done with epoch 100==============="
       ]
      },
      {
       "output_type": "stream",
       "stream": "stdout",
       "text": [
        "\n",
        "The error is 0.168\n"
       ]
      }
     ],
     "prompt_number": 555
    },
    {
     "cell_type": "code",
     "collapsed": false,
     "input": [
      "train_X_dict_cw_rw_tfidf = copy.deepcopy(train_X_dict_cw_rw)"
     ],
     "language": "python",
     "metadata": {},
     "outputs": [],
     "prompt_number": 556
    },
    {
     "cell_type": "code",
     "collapsed": false,
     "input": [
      "test_X_dict_cw_rw_tfidf = copy.deepcopy(test_X_dict_cw_rw)"
     ],
     "language": "python",
     "metadata": {},
     "outputs": [],
     "prompt_number": 557
    },
    {
     "cell_type": "code",
     "collapsed": false,
     "input": [
      "kdict_ratio_cw_rw = { k:v for k, v in kdict_ratio.items() if v < 1500 and k not in common_words_2 }"
     ],
     "language": "python",
     "metadata": {},
     "outputs": [],
     "prompt_number": 570
    },
    {
     "cell_type": "code",
     "collapsed": false,
     "input": [
      "len(kdict_ratio_cw_rw)"
     ],
     "language": "python",
     "metadata": {},
     "outputs": [
      {
       "metadata": {},
       "output_type": "pyout",
       "prompt_number": 572,
       "text": [
        "22439"
       ]
      }
     ],
     "prompt_number": 572
    },
    {
     "cell_type": "code",
     "collapsed": false,
     "input": [
      "#tf*idf(test)\n",
      "for i in range(len(test_X_dict_cw_rw_tfidf)):\n",
      "    for key in test_X_dict_cw_rw_tfidf[i].keys():\n",
      "        if key in kdict_ratio_cw_rw.keys():\n",
      "            test_X_dict_cw_rw_tfidf[i][key] *= math.log(kdict_ratio_cw_rw[key])"
     ],
     "language": "python",
     "metadata": {},
     "outputs": [],
     "prompt_number": 573
    },
    {
     "cell_type": "code",
     "collapsed": false,
     "input": [
      "#tf*idf(train)\n",
      "for i in range(len(train_X_dict_cw_rw_tfidf)):\n",
      "    for key in train_X_dict_cw_rw_tfidf[i].keys():\n",
      "        train_X_dict_cw_rw_tfidf[i][key] *= math.log(kdict_ratio_cw_rw[key])"
     ],
     "language": "python",
     "metadata": {},
     "outputs": [],
     "prompt_number": 574
    },
    {
     "cell_type": "code",
     "collapsed": false,
     "input": [
      "w_cw_rw_tfidf, errors_cw_rw_tfidf = pegasos_svm_speedup(train_X_dict_cw_rw_tfidf,train_y,test_X_dict_cw_rw_tfidf,test_y,10**-3,100)"
     ],
     "language": "python",
     "metadata": {},
     "outputs": [
      {
       "output_type": "stream",
       "stream": "stdout",
       "text": [
        "=============Done with epoch 1===============\n",
        "The error is 0.21\n",
        "=============Done with epoch 2==============="
       ]
      },
      {
       "output_type": "stream",
       "stream": "stdout",
       "text": [
        "\n",
        "The error is 0.186\n",
        "=============Done with epoch 3==============="
       ]
      },
      {
       "output_type": "stream",
       "stream": "stdout",
       "text": [
        "\n",
        "The error is 0.206\n",
        "=============Done with epoch 4==============="
       ]
      },
      {
       "output_type": "stream",
       "stream": "stdout",
       "text": [
        "\n",
        "The error is 0.204\n",
        "=============Done with epoch 5==============="
       ]
      },
      {
       "output_type": "stream",
       "stream": "stdout",
       "text": [
        "\n",
        "The error is 0.192\n",
        "=============Done with epoch 6==============="
       ]
      },
      {
       "output_type": "stream",
       "stream": "stdout",
       "text": [
        "\n",
        "The error is 0.192\n",
        "=============Done with epoch 7==============="
       ]
      },
      {
       "output_type": "stream",
       "stream": "stdout",
       "text": [
        "\n",
        "The error is 0.192\n",
        "=============Done with epoch 8==============="
       ]
      },
      {
       "output_type": "stream",
       "stream": "stdout",
       "text": [
        "\n",
        "The error is 0.192\n",
        "=============Done with epoch 9==============="
       ]
      },
      {
       "output_type": "stream",
       "stream": "stdout",
       "text": [
        "\n",
        "The error is 0.192\n",
        "=============Done with epoch 10==============="
       ]
      },
      {
       "output_type": "stream",
       "stream": "stdout",
       "text": [
        "\n",
        "The error is 0.192\n",
        "=============Done with epoch 11==============="
       ]
      },
      {
       "output_type": "stream",
       "stream": "stdout",
       "text": [
        "\n",
        "The error is 0.192\n",
        "=============Done with epoch 12==============="
       ]
      },
      {
       "output_type": "stream",
       "stream": "stdout",
       "text": [
        "\n",
        "The error is 0.192\n",
        "=============Done with epoch 13==============="
       ]
      },
      {
       "output_type": "stream",
       "stream": "stdout",
       "text": [
        "\n",
        "The error is 0.192\n",
        "=============Done with epoch 14==============="
       ]
      },
      {
       "output_type": "stream",
       "stream": "stdout",
       "text": [
        "\n",
        "The error is 0.192\n",
        "=============Done with epoch 15==============="
       ]
      },
      {
       "output_type": "stream",
       "stream": "stdout",
       "text": [
        "\n",
        "The error is 0.192\n",
        "=============Done with epoch 16==============="
       ]
      },
      {
       "output_type": "stream",
       "stream": "stdout",
       "text": [
        "\n",
        "The error is 0.192\n",
        "=============Done with epoch 17==============="
       ]
      },
      {
       "output_type": "stream",
       "stream": "stdout",
       "text": [
        "\n",
        "The error is 0.192\n",
        "=============Done with epoch 18==============="
       ]
      },
      {
       "output_type": "stream",
       "stream": "stdout",
       "text": [
        "\n",
        "The error is 0.192\n",
        "=============Done with epoch 19==============="
       ]
      },
      {
       "output_type": "stream",
       "stream": "stdout",
       "text": [
        "\n",
        "The error is 0.192\n",
        "=============Done with epoch 20==============="
       ]
      },
      {
       "output_type": "stream",
       "stream": "stdout",
       "text": [
        "\n",
        "The error is 0.192\n",
        "=============Done with epoch 21==============="
       ]
      },
      {
       "output_type": "stream",
       "stream": "stdout",
       "text": [
        "\n",
        "The error is 0.192\n",
        "=============Done with epoch 22==============="
       ]
      },
      {
       "output_type": "stream",
       "stream": "stdout",
       "text": [
        "\n",
        "The error is 0.192\n",
        "=============Done with epoch 23==============="
       ]
      },
      {
       "output_type": "stream",
       "stream": "stdout",
       "text": [
        "\n",
        "The error is 0.192\n",
        "=============Done with epoch 24==============="
       ]
      },
      {
       "output_type": "stream",
       "stream": "stdout",
       "text": [
        "\n",
        "The error is 0.192\n",
        "=============Done with epoch 25==============="
       ]
      },
      {
       "output_type": "stream",
       "stream": "stdout",
       "text": [
        "\n",
        "The error is 0.192\n",
        "=============Done with epoch 26==============="
       ]
      },
      {
       "output_type": "stream",
       "stream": "stdout",
       "text": [
        "\n",
        "The error is 0.192\n",
        "=============Done with epoch 27==============="
       ]
      },
      {
       "output_type": "stream",
       "stream": "stdout",
       "text": [
        "\n",
        "The error is 0.192\n",
        "=============Done with epoch 28==============="
       ]
      },
      {
       "output_type": "stream",
       "stream": "stdout",
       "text": [
        "\n",
        "The error is 0.192\n",
        "=============Done with epoch 29==============="
       ]
      },
      {
       "output_type": "stream",
       "stream": "stdout",
       "text": [
        "\n",
        "The error is 0.192\n",
        "=============Done with epoch 30==============="
       ]
      },
      {
       "output_type": "stream",
       "stream": "stdout",
       "text": [
        "\n",
        "The error is 0.192\n",
        "=============Done with epoch 31==============="
       ]
      },
      {
       "output_type": "stream",
       "stream": "stdout",
       "text": [
        "\n",
        "The error is 0.192\n",
        "=============Done with epoch 32==============="
       ]
      },
      {
       "output_type": "stream",
       "stream": "stdout",
       "text": [
        "\n",
        "The error is 0.192\n",
        "=============Done with epoch 33==============="
       ]
      },
      {
       "output_type": "stream",
       "stream": "stdout",
       "text": [
        "\n",
        "The error is 0.2\n",
        "=============Done with epoch 34==============="
       ]
      },
      {
       "output_type": "stream",
       "stream": "stdout",
       "text": [
        "\n",
        "The error is 0.194\n",
        "=============Done with epoch 35==============="
       ]
      },
      {
       "output_type": "stream",
       "stream": "stdout",
       "text": [
        "\n",
        "The error is 0.19\n",
        "=============Done with epoch 36==============="
       ]
      },
      {
       "output_type": "stream",
       "stream": "stdout",
       "text": [
        "\n",
        "The error is 0.19\n",
        "=============Done with epoch 37==============="
       ]
      },
      {
       "output_type": "stream",
       "stream": "stdout",
       "text": [
        "\n",
        "The error is 0.194\n",
        "=============Done with epoch 38==============="
       ]
      },
      {
       "output_type": "stream",
       "stream": "stdout",
       "text": [
        "\n",
        "The error is 0.194\n",
        "=============Done with epoch 39==============="
       ]
      },
      {
       "output_type": "stream",
       "stream": "stdout",
       "text": [
        "\n",
        "The error is 0.194\n",
        "=============Done with epoch 40==============="
       ]
      },
      {
       "output_type": "stream",
       "stream": "stdout",
       "text": [
        "\n",
        "The error is 0.194\n",
        "=============Done with epoch 41==============="
       ]
      },
      {
       "output_type": "stream",
       "stream": "stdout",
       "text": [
        "\n",
        "The error is 0.194\n",
        "=============Done with epoch 42==============="
       ]
      },
      {
       "output_type": "stream",
       "stream": "stdout",
       "text": [
        "\n",
        "The error is 0.194\n",
        "=============Done with epoch 43==============="
       ]
      },
      {
       "output_type": "stream",
       "stream": "stdout",
       "text": [
        "\n",
        "The error is 0.194\n",
        "=============Done with epoch 44==============="
       ]
      },
      {
       "output_type": "stream",
       "stream": "stdout",
       "text": [
        "\n",
        "The error is 0.194\n",
        "=============Done with epoch 45==============="
       ]
      },
      {
       "output_type": "stream",
       "stream": "stdout",
       "text": [
        "\n",
        "The error is 0.194\n",
        "=============Done with epoch 46==============="
       ]
      },
      {
       "output_type": "stream",
       "stream": "stdout",
       "text": [
        "\n",
        "The error is 0.194\n",
        "=============Done with epoch 47==============="
       ]
      },
      {
       "output_type": "stream",
       "stream": "stdout",
       "text": [
        "\n",
        "The error is 0.194\n",
        "=============Done with epoch 48==============="
       ]
      },
      {
       "output_type": "stream",
       "stream": "stdout",
       "text": [
        "\n",
        "The error is 0.194\n",
        "=============Done with epoch 49==============="
       ]
      },
      {
       "output_type": "stream",
       "stream": "stdout",
       "text": [
        "\n",
        "The error is 0.194\n",
        "=============Done with epoch 50==============="
       ]
      },
      {
       "output_type": "stream",
       "stream": "stdout",
       "text": [
        "\n",
        "The error is 0.194\n",
        "=============Done with epoch 51==============="
       ]
      },
      {
       "output_type": "stream",
       "stream": "stdout",
       "text": [
        "\n",
        "The error is 0.194\n",
        "=============Done with epoch 52==============="
       ]
      },
      {
       "output_type": "stream",
       "stream": "stdout",
       "text": [
        "\n",
        "The error is 0.194\n",
        "=============Done with epoch 53==============="
       ]
      },
      {
       "output_type": "stream",
       "stream": "stdout",
       "text": [
        "\n",
        "The error is 0.194\n",
        "=============Done with epoch 54==============="
       ]
      },
      {
       "output_type": "stream",
       "stream": "stdout",
       "text": [
        "\n",
        "The error is 0.194\n",
        "=============Done with epoch 55==============="
       ]
      },
      {
       "output_type": "stream",
       "stream": "stdout",
       "text": [
        "\n",
        "The error is 0.194\n",
        "=============Done with epoch 56==============="
       ]
      },
      {
       "output_type": "stream",
       "stream": "stdout",
       "text": [
        "\n",
        "The error is 0.194\n",
        "=============Done with epoch 57==============="
       ]
      },
      {
       "output_type": "stream",
       "stream": "stdout",
       "text": [
        "\n",
        "The error is 0.194\n",
        "=============Done with epoch 58==============="
       ]
      },
      {
       "output_type": "stream",
       "stream": "stdout",
       "text": [
        "\n",
        "The error is 0.194\n",
        "=============Done with epoch 59==============="
       ]
      },
      {
       "output_type": "stream",
       "stream": "stdout",
       "text": [
        "\n",
        "The error is 0.194\n",
        "=============Done with epoch 60==============="
       ]
      },
      {
       "output_type": "stream",
       "stream": "stdout",
       "text": [
        "\n",
        "The error is 0.194\n",
        "=============Done with epoch 61==============="
       ]
      },
      {
       "output_type": "stream",
       "stream": "stdout",
       "text": [
        "\n",
        "The error is 0.194\n",
        "=============Done with epoch 62==============="
       ]
      },
      {
       "output_type": "stream",
       "stream": "stdout",
       "text": [
        "\n",
        "The error is 0.194\n",
        "=============Done with epoch 63==============="
       ]
      },
      {
       "output_type": "stream",
       "stream": "stdout",
       "text": [
        "\n",
        "The error is 0.194\n",
        "=============Done with epoch 64==============="
       ]
      },
      {
       "output_type": "stream",
       "stream": "stdout",
       "text": [
        "\n",
        "The error is 0.194\n",
        "=============Done with epoch 65==============="
       ]
      },
      {
       "output_type": "stream",
       "stream": "stdout",
       "text": [
        "\n",
        "The error is 0.194\n",
        "=============Done with epoch 66==============="
       ]
      },
      {
       "output_type": "stream",
       "stream": "stdout",
       "text": [
        "\n",
        "The error is 0.194\n",
        "=============Done with epoch 67==============="
       ]
      },
      {
       "output_type": "stream",
       "stream": "stdout",
       "text": [
        "\n",
        "The error is 0.194\n",
        "=============Done with epoch 68==============="
       ]
      },
      {
       "output_type": "stream",
       "stream": "stdout",
       "text": [
        "\n",
        "The error is 0.194\n",
        "=============Done with epoch 69==============="
       ]
      },
      {
       "output_type": "stream",
       "stream": "stdout",
       "text": [
        "\n",
        "The error is 0.194\n",
        "=============Done with epoch 70==============="
       ]
      },
      {
       "output_type": "stream",
       "stream": "stdout",
       "text": [
        "\n",
        "The error is 0.194\n",
        "=============Done with epoch 71==============="
       ]
      },
      {
       "output_type": "stream",
       "stream": "stdout",
       "text": [
        "\n",
        "The error is 0.194\n",
        "=============Done with epoch 72==============="
       ]
      },
      {
       "output_type": "stream",
       "stream": "stdout",
       "text": [
        "\n",
        "The error is 0.194\n",
        "=============Done with epoch 73==============="
       ]
      },
      {
       "output_type": "stream",
       "stream": "stdout",
       "text": [
        "\n",
        "The error is 0.194\n",
        "=============Done with epoch 74==============="
       ]
      },
      {
       "output_type": "stream",
       "stream": "stdout",
       "text": [
        "\n",
        "The error is 0.194\n",
        "=============Done with epoch 75==============="
       ]
      },
      {
       "output_type": "stream",
       "stream": "stdout",
       "text": [
        "\n",
        "The error is 0.194\n",
        "=============Done with epoch 76==============="
       ]
      },
      {
       "output_type": "stream",
       "stream": "stdout",
       "text": [
        "\n",
        "The error is 0.194\n",
        "=============Done with epoch 77==============="
       ]
      },
      {
       "output_type": "stream",
       "stream": "stdout",
       "text": [
        "\n",
        "The error is 0.194\n",
        "=============Done with epoch 78==============="
       ]
      },
      {
       "output_type": "stream",
       "stream": "stdout",
       "text": [
        "\n",
        "The error is 0.194\n",
        "=============Done with epoch 79==============="
       ]
      },
      {
       "output_type": "stream",
       "stream": "stdout",
       "text": [
        "\n",
        "The error is 0.194\n",
        "=============Done with epoch 80==============="
       ]
      },
      {
       "output_type": "stream",
       "stream": "stdout",
       "text": [
        "\n",
        "The error is 0.194\n",
        "=============Done with epoch 81==============="
       ]
      },
      {
       "output_type": "stream",
       "stream": "stdout",
       "text": [
        "\n",
        "The error is 0.194\n",
        "=============Done with epoch 82==============="
       ]
      },
      {
       "output_type": "stream",
       "stream": "stdout",
       "text": [
        "\n",
        "The error is 0.194\n",
        "=============Done with epoch 83==============="
       ]
      },
      {
       "output_type": "stream",
       "stream": "stdout",
       "text": [
        "\n",
        "The error is 0.194\n",
        "=============Done with epoch 84==============="
       ]
      },
      {
       "output_type": "stream",
       "stream": "stdout",
       "text": [
        "\n",
        "The error is 0.194\n",
        "=============Done with epoch 85==============="
       ]
      },
      {
       "output_type": "stream",
       "stream": "stdout",
       "text": [
        "\n",
        "The error is 0.194\n",
        "=============Done with epoch 86==============="
       ]
      },
      {
       "output_type": "stream",
       "stream": "stdout",
       "text": [
        "\n",
        "The error is 0.194\n",
        "=============Done with epoch 87==============="
       ]
      },
      {
       "output_type": "stream",
       "stream": "stdout",
       "text": [
        "\n",
        "The error is 0.194\n",
        "=============Done with epoch 88==============="
       ]
      },
      {
       "output_type": "stream",
       "stream": "stdout",
       "text": [
        "\n",
        "The error is 0.194\n",
        "=============Done with epoch 89==============="
       ]
      },
      {
       "output_type": "stream",
       "stream": "stdout",
       "text": [
        "\n",
        "The error is 0.198\n",
        "=============Done with epoch 90==============="
       ]
      },
      {
       "output_type": "stream",
       "stream": "stdout",
       "text": [
        "\n",
        "The error is 0.2\n",
        "=============Done with epoch 91==============="
       ]
      },
      {
       "output_type": "stream",
       "stream": "stdout",
       "text": [
        "\n",
        "The error is 0.2\n",
        "=============Done with epoch 92==============="
       ]
      },
      {
       "output_type": "stream",
       "stream": "stdout",
       "text": [
        "\n",
        "The error is 0.2\n",
        "=============Done with epoch 93==============="
       ]
      },
      {
       "output_type": "stream",
       "stream": "stdout",
       "text": [
        "\n",
        "The error is 0.2\n",
        "=============Done with epoch 94==============="
       ]
      },
      {
       "output_type": "stream",
       "stream": "stdout",
       "text": [
        "\n",
        "The error is 0.2\n",
        "=============Done with epoch 95==============="
       ]
      },
      {
       "output_type": "stream",
       "stream": "stdout",
       "text": [
        "\n",
        "The error is 0.2\n",
        "=============Done with epoch 96==============="
       ]
      },
      {
       "output_type": "stream",
       "stream": "stdout",
       "text": [
        "\n",
        "The error is 0.2\n",
        "=============Done with epoch 97==============="
       ]
      },
      {
       "output_type": "stream",
       "stream": "stdout",
       "text": [
        "\n",
        "The error is 0.2\n",
        "=============Done with epoch 98==============="
       ]
      },
      {
       "output_type": "stream",
       "stream": "stdout",
       "text": [
        "\n",
        "The error is 0.2\n",
        "=============Done with epoch 99==============="
       ]
      },
      {
       "output_type": "stream",
       "stream": "stdout",
       "text": [
        "\n",
        "The error is 0.2\n",
        "=============Done with epoch 100==============="
       ]
      },
      {
       "output_type": "stream",
       "stream": "stdout",
       "text": [
        "\n",
        "The error is 0.2\n"
       ]
      }
     ],
     "prompt_number": 579
    },
    {
     "cell_type": "heading",
     "level": 3,
     "metadata": {},
     "source": [
      "considering negtive words"
     ]
    },
    {
     "cell_type": "code",
     "collapsed": false,
     "input": [
      "neg_words = ['not','no','too',\"don't\",\"isn't\",\"didn't\"]"
     ],
     "language": "python",
     "metadata": {},
     "outputs": [],
     "prompt_number": 423
    },
    {
     "cell_type": "code",
     "collapsed": false,
     "input": [
      "def list_to_dict_common_neg(li):\n",
      "    cnt = Counter()\n",
      "    i = 0\n",
      "    while i < len(li):\n",
      "        if li[i] not in common_words_2:\n",
      "            if li[i] in neg_words and i < len(li)-1:\n",
      "                cnt[li[i]+li[i+1]] +=1\n",
      "                i +=2\n",
      "            else:\n",
      "                cnt[li[i]] += 1\n",
      "                i +=1\n",
      "        else:\n",
      "            i +=1\n",
      "    return dict(cnt)"
     ],
     "language": "python",
     "metadata": {},
     "outputs": [],
     "prompt_number": 792
    },
    {
     "cell_type": "code",
     "collapsed": false,
     "input": [
      "def list_to_dict_neg(li):\n",
      "    cnt = Counter()\n",
      "    i = 0\n",
      "    while i < len(li):\n",
      "        if li[i] in neg_words and i < len(li)-1:\n",
      "            cnt[li[i]+li[i+1]] +=1\n",
      "            i +=2\n",
      "        else:\n",
      "            cnt[li[i]] += 1\n",
      "            i +=1\n",
      "    return dict(cnt)"
     ],
     "language": "python",
     "metadata": {},
     "outputs": [],
     "prompt_number": 791
    },
    {
     "cell_type": "code",
     "collapsed": false,
     "input": [
      "train_X_dict_ng = [list_to_dict_neg(li) for li in train_X]"
     ],
     "language": "python",
     "metadata": {},
     "outputs": [],
     "prompt_number": 793
    },
    {
     "cell_type": "code",
     "collapsed": false,
     "input": [
      "test_X_dict_ng = [list_to_dict_neg(li) for li in test_X]"
     ],
     "language": "python",
     "metadata": {},
     "outputs": [],
     "prompt_number": 794
    },
    {
     "cell_type": "code",
     "collapsed": false,
     "input": [
      "w_ng1, errors_ng1 = pegasos_svm_speedup(train_X_dict_ng,train_y,test_X_dict_ng,test_y,10**-3,100)"
     ],
     "language": "python",
     "metadata": {},
     "outputs": [],
     "prompt_number": 808
    },
    {
     "cell_type": "code",
     "collapsed": false,
     "input": [
      "len(w_ng1)"
     ],
     "language": "python",
     "metadata": {},
     "outputs": [
      {
       "metadata": {},
       "output_type": "pyout",
       "prompt_number": 1035,
       "text": [
        "41663"
       ]
      }
     ],
     "prompt_number": 1035
    },
    {
     "cell_type": "code",
     "collapsed": false,
     "input": [
      "print errors_ng1[-1]"
     ],
     "language": "python",
     "metadata": {},
     "outputs": [
      {
       "output_type": "stream",
       "stream": "stdout",
       "text": [
        "0.178\n"
       ]
      }
     ],
     "prompt_number": 809
    },
    {
     "cell_type": "heading",
     "level": 3,
     "metadata": {},
     "source": [
      "delete common words + consider neg words"
     ]
    },
    {
     "cell_type": "code",
     "collapsed": false,
     "input": [
      "#freq+neg+cw\n",
      "train_X_dict_cw_ng = [list_to_dict_common_neg(li) for li in train_X]"
     ],
     "language": "python",
     "metadata": {},
     "outputs": [],
     "prompt_number": 581
    },
    {
     "cell_type": "code",
     "collapsed": false,
     "input": [
      "test_X_dict_cw_ng = [list_to_dict_common_neg(li) for li in test_X]"
     ],
     "language": "python",
     "metadata": {},
     "outputs": [],
     "prompt_number": 582
    },
    {
     "cell_type": "code",
     "collapsed": false,
     "input": [
      "w_cw_ng1, errors_cw_ng1 = pegasos_svm_speedup(train_X_dict_cw_ng,train_y,test_X_dict_cw_ng,test_y,10**-3,100)"
     ],
     "language": "python",
     "metadata": {},
     "outputs": [
      {
       "output_type": "stream",
       "stream": "stdout",
       "text": [
        "=============Done with epoch 1===============\n",
        "The error is 0.498\n",
        "=============Done with epoch 2==============="
       ]
      },
      {
       "output_type": "stream",
       "stream": "stdout",
       "text": [
        "\n",
        "The error is 0.206\n",
        "=============Done with epoch 3==============="
       ]
      },
      {
       "output_type": "stream",
       "stream": "stdout",
       "text": [
        "\n",
        "The error is 0.198\n",
        "=============Done with epoch 4==============="
       ]
      },
      {
       "output_type": "stream",
       "stream": "stdout",
       "text": [
        "\n",
        "The error is 0.16\n",
        "=============Done with epoch 5==============="
       ]
      },
      {
       "output_type": "stream",
       "stream": "stdout",
       "text": [
        "\n",
        "The error is 0.174\n",
        "=============Done with epoch 6==============="
       ]
      },
      {
       "output_type": "stream",
       "stream": "stdout",
       "text": [
        "\n",
        "The error is 0.2\n",
        "=============Done with epoch 7==============="
       ]
      },
      {
       "output_type": "stream",
       "stream": "stdout",
       "text": [
        "\n",
        "The error is 0.166\n",
        "=============Done with epoch 8==============="
       ]
      },
      {
       "output_type": "stream",
       "stream": "stdout",
       "text": [
        "\n",
        "The error is 0.186\n",
        "=============Done with epoch 9==============="
       ]
      },
      {
       "output_type": "stream",
       "stream": "stdout",
       "text": [
        "\n",
        "The error is 0.152\n",
        "=============Done with epoch 10==============="
       ]
      },
      {
       "output_type": "stream",
       "stream": "stdout",
       "text": [
        "\n",
        "The error is 0.16\n",
        "=============Done with epoch 11==============="
       ]
      },
      {
       "output_type": "stream",
       "stream": "stdout",
       "text": [
        "\n",
        "The error is 0.17\n",
        "=============Done with epoch 12==============="
       ]
      },
      {
       "output_type": "stream",
       "stream": "stdout",
       "text": [
        "\n",
        "The error is 0.154\n",
        "=============Done with epoch 13==============="
       ]
      },
      {
       "output_type": "stream",
       "stream": "stdout",
       "text": [
        "\n",
        "The error is 0.152\n",
        "=============Done with epoch 14==============="
       ]
      },
      {
       "output_type": "stream",
       "stream": "stdout",
       "text": [
        "\n",
        "The error is 0.198\n",
        "=============Done with epoch 15==============="
       ]
      },
      {
       "output_type": "stream",
       "stream": "stdout",
       "text": [
        "\n",
        "The error is 0.162\n",
        "=============Done with epoch 16==============="
       ]
      },
      {
       "output_type": "stream",
       "stream": "stdout",
       "text": [
        "\n",
        "The error is 0.154\n",
        "=============Done with epoch 17==============="
       ]
      },
      {
       "output_type": "stream",
       "stream": "stdout",
       "text": [
        "\n",
        "The error is 0.15\n",
        "=============Done with epoch 18==============="
       ]
      },
      {
       "output_type": "stream",
       "stream": "stdout",
       "text": [
        "\n",
        "The error is 0.15\n",
        "=============Done with epoch 19==============="
       ]
      },
      {
       "output_type": "stream",
       "stream": "stdout",
       "text": [
        "\n",
        "The error is 0.15\n",
        "=============Done with epoch 20==============="
       ]
      },
      {
       "output_type": "stream",
       "stream": "stdout",
       "text": [
        "\n",
        "The error is 0.15\n",
        "=============Done with epoch 21==============="
       ]
      },
      {
       "output_type": "stream",
       "stream": "stdout",
       "text": [
        "\n",
        "The error is 0.15\n",
        "=============Done with epoch 22==============="
       ]
      },
      {
       "output_type": "stream",
       "stream": "stdout",
       "text": [
        "\n",
        "The error is 0.15\n",
        "=============Done with epoch 23==============="
       ]
      },
      {
       "output_type": "stream",
       "stream": "stdout",
       "text": [
        "\n",
        "The error is 0.15\n",
        "=============Done with epoch 24==============="
       ]
      },
      {
       "output_type": "stream",
       "stream": "stdout",
       "text": [
        "\n",
        "The error is 0.154\n",
        "=============Done with epoch 25==============="
       ]
      },
      {
       "output_type": "stream",
       "stream": "stdout",
       "text": [
        "\n",
        "The error is 0.154\n",
        "=============Done with epoch 26==============="
       ]
      },
      {
       "output_type": "stream",
       "stream": "stdout",
       "text": [
        "\n",
        "The error is 0.154\n",
        "=============Done with epoch 27==============="
       ]
      },
      {
       "output_type": "stream",
       "stream": "stdout",
       "text": [
        "\n",
        "The error is 0.154\n",
        "=============Done with epoch 28==============="
       ]
      },
      {
       "output_type": "stream",
       "stream": "stdout",
       "text": [
        "\n",
        "The error is 0.154\n",
        "=============Done with epoch 29==============="
       ]
      },
      {
       "output_type": "stream",
       "stream": "stdout",
       "text": [
        "\n",
        "The error is 0.154\n",
        "=============Done with epoch 30==============="
       ]
      },
      {
       "output_type": "stream",
       "stream": "stdout",
       "text": [
        "\n",
        "The error is 0.154\n",
        "=============Done with epoch 31==============="
       ]
      },
      {
       "output_type": "stream",
       "stream": "stdout",
       "text": [
        "\n",
        "The error is 0.152\n",
        "=============Done with epoch 32==============="
       ]
      },
      {
       "output_type": "stream",
       "stream": "stdout",
       "text": [
        "\n",
        "The error is 0.152\n",
        "=============Done with epoch 33==============="
       ]
      },
      {
       "output_type": "stream",
       "stream": "stdout",
       "text": [
        "\n",
        "The error is 0.152\n",
        "=============Done with epoch 34==============="
       ]
      },
      {
       "output_type": "stream",
       "stream": "stdout",
       "text": [
        "\n",
        "The error is 0.154\n",
        "=============Done with epoch 35==============="
       ]
      },
      {
       "output_type": "stream",
       "stream": "stdout",
       "text": [
        "\n",
        "The error is 0.154\n",
        "=============Done with epoch 36==============="
       ]
      },
      {
       "output_type": "stream",
       "stream": "stdout",
       "text": [
        "\n",
        "The error is 0.154\n",
        "=============Done with epoch 37==============="
       ]
      },
      {
       "output_type": "stream",
       "stream": "stdout",
       "text": [
        "\n",
        "The error is 0.16\n",
        "=============Done with epoch 38==============="
       ]
      },
      {
       "output_type": "stream",
       "stream": "stdout",
       "text": [
        "\n",
        "The error is 0.162\n",
        "=============Done with epoch 39==============="
       ]
      },
      {
       "output_type": "stream",
       "stream": "stdout",
       "text": [
        "\n",
        "The error is 0.162\n",
        "=============Done with epoch 40==============="
       ]
      },
      {
       "output_type": "stream",
       "stream": "stdout",
       "text": [
        "\n",
        "The error is 0.162\n",
        "=============Done with epoch 41==============="
       ]
      },
      {
       "output_type": "stream",
       "stream": "stdout",
       "text": [
        "\n",
        "The error is 0.162\n",
        "=============Done with epoch 42==============="
       ]
      },
      {
       "output_type": "stream",
       "stream": "stdout",
       "text": [
        "\n",
        "The error is 0.162\n",
        "=============Done with epoch 43==============="
       ]
      },
      {
       "output_type": "stream",
       "stream": "stdout",
       "text": [
        "\n",
        "The error is 0.162\n",
        "=============Done with epoch 44==============="
       ]
      },
      {
       "output_type": "stream",
       "stream": "stdout",
       "text": [
        "\n",
        "The error is 0.164\n",
        "=============Done with epoch 45==============="
       ]
      },
      {
       "output_type": "stream",
       "stream": "stdout",
       "text": [
        "\n",
        "The error is 0.164\n",
        "=============Done with epoch 46==============="
       ]
      },
      {
       "output_type": "stream",
       "stream": "stdout",
       "text": [
        "\n",
        "The error is 0.164\n",
        "=============Done with epoch 47==============="
       ]
      },
      {
       "output_type": "stream",
       "stream": "stdout",
       "text": [
        "\n",
        "The error is 0.164\n",
        "=============Done with epoch 48==============="
       ]
      },
      {
       "output_type": "stream",
       "stream": "stdout",
       "text": [
        "\n",
        "The error is 0.164\n",
        "=============Done with epoch 49==============="
       ]
      },
      {
       "output_type": "stream",
       "stream": "stdout",
       "text": [
        "\n",
        "The error is 0.164\n",
        "=============Done with epoch 50==============="
       ]
      },
      {
       "output_type": "stream",
       "stream": "stdout",
       "text": [
        "\n",
        "The error is 0.164\n",
        "=============Done with epoch 51==============="
       ]
      },
      {
       "output_type": "stream",
       "stream": "stdout",
       "text": [
        "\n",
        "The error is 0.164\n",
        "=============Done with epoch 52==============="
       ]
      },
      {
       "output_type": "stream",
       "stream": "stdout",
       "text": [
        "\n",
        "The error is 0.164\n",
        "=============Done with epoch 53==============="
       ]
      },
      {
       "output_type": "stream",
       "stream": "stdout",
       "text": [
        "\n",
        "The error is 0.164\n",
        "=============Done with epoch 54==============="
       ]
      },
      {
       "output_type": "stream",
       "stream": "stdout",
       "text": [
        "\n",
        "The error is 0.164\n",
        "=============Done with epoch 55==============="
       ]
      },
      {
       "output_type": "stream",
       "stream": "stdout",
       "text": [
        "\n",
        "The error is 0.164\n",
        "=============Done with epoch 56==============="
       ]
      },
      {
       "output_type": "stream",
       "stream": "stdout",
       "text": [
        "\n",
        "The error is 0.162\n",
        "=============Done with epoch 57==============="
       ]
      },
      {
       "output_type": "stream",
       "stream": "stdout",
       "text": [
        "\n",
        "The error is 0.162\n",
        "=============Done with epoch 58==============="
       ]
      },
      {
       "output_type": "stream",
       "stream": "stdout",
       "text": [
        "\n",
        "The error is 0.162\n",
        "=============Done with epoch 59==============="
       ]
      },
      {
       "output_type": "stream",
       "stream": "stdout",
       "text": [
        "\n",
        "The error is 0.162\n",
        "=============Done with epoch 60==============="
       ]
      },
      {
       "output_type": "stream",
       "stream": "stdout",
       "text": [
        "\n",
        "The error is 0.166\n",
        "=============Done with epoch 61==============="
       ]
      },
      {
       "output_type": "stream",
       "stream": "stdout",
       "text": [
        "\n",
        "The error is 0.19\n",
        "=============Done with epoch 62==============="
       ]
      },
      {
       "output_type": "stream",
       "stream": "stdout",
       "text": [
        "\n",
        "The error is 0.162\n",
        "=============Done with epoch 63==============="
       ]
      },
      {
       "output_type": "stream",
       "stream": "stdout",
       "text": [
        "\n",
        "The error is 0.162\n",
        "=============Done with epoch 64==============="
       ]
      },
      {
       "output_type": "stream",
       "stream": "stdout",
       "text": [
        "\n",
        "The error is 0.152\n",
        "=============Done with epoch 65==============="
       ]
      },
      {
       "output_type": "stream",
       "stream": "stdout",
       "text": [
        "\n",
        "The error is 0.158\n",
        "=============Done with epoch 66==============="
       ]
      },
      {
       "output_type": "stream",
       "stream": "stdout",
       "text": [
        "\n",
        "The error is 0.178\n",
        "=============Done with epoch 67==============="
       ]
      },
      {
       "output_type": "stream",
       "stream": "stdout",
       "text": [
        "\n",
        "The error is 0.172\n",
        "=============Done with epoch 68==============="
       ]
      },
      {
       "output_type": "stream",
       "stream": "stdout",
       "text": [
        "\n",
        "The error is 0.168\n",
        "=============Done with epoch 69==============="
       ]
      },
      {
       "output_type": "stream",
       "stream": "stdout",
       "text": [
        "\n",
        "The error is 0.156\n",
        "=============Done with epoch 70==============="
       ]
      },
      {
       "output_type": "stream",
       "stream": "stdout",
       "text": [
        "\n",
        "The error is 0.158\n",
        "=============Done with epoch 71==============="
       ]
      },
      {
       "output_type": "stream",
       "stream": "stdout",
       "text": [
        "\n",
        "The error is 0.158\n",
        "=============Done with epoch 72==============="
       ]
      },
      {
       "output_type": "stream",
       "stream": "stdout",
       "text": [
        "\n",
        "The error is 0.164\n",
        "=============Done with epoch 73==============="
       ]
      },
      {
       "output_type": "stream",
       "stream": "stdout",
       "text": [
        "\n",
        "The error is 0.224\n",
        "=============Done with epoch 74==============="
       ]
      },
      {
       "output_type": "stream",
       "stream": "stdout",
       "text": [
        "\n",
        "The error is 0.16\n",
        "=============Done with epoch 75==============="
       ]
      },
      {
       "output_type": "stream",
       "stream": "stdout",
       "text": [
        "\n",
        "The error is 0.17\n",
        "=============Done with epoch 76==============="
       ]
      },
      {
       "output_type": "stream",
       "stream": "stdout",
       "text": [
        "\n",
        "The error is 0.168\n",
        "=============Done with epoch 77==============="
       ]
      },
      {
       "output_type": "stream",
       "stream": "stdout",
       "text": [
        "\n",
        "The error is 0.164\n",
        "=============Done with epoch 78==============="
       ]
      },
      {
       "output_type": "stream",
       "stream": "stdout",
       "text": [
        "\n",
        "The error is 0.18\n",
        "=============Done with epoch 79==============="
       ]
      },
      {
       "output_type": "stream",
       "stream": "stdout",
       "text": [
        "\n",
        "The error is 0.166\n",
        "=============Done with epoch 80==============="
       ]
      },
      {
       "output_type": "stream",
       "stream": "stdout",
       "text": [
        "\n",
        "The error is 0.152\n",
        "=============Done with epoch 81==============="
       ]
      },
      {
       "output_type": "stream",
       "stream": "stdout",
       "text": [
        "\n",
        "The error is 0.166\n",
        "=============Done with epoch 82==============="
       ]
      },
      {
       "output_type": "stream",
       "stream": "stdout",
       "text": [
        "\n",
        "The error is 0.156\n",
        "=============Done with epoch 83==============="
       ]
      },
      {
       "output_type": "stream",
       "stream": "stdout",
       "text": [
        "\n",
        "The error is 0.172\n",
        "=============Done with epoch 84==============="
       ]
      },
      {
       "output_type": "stream",
       "stream": "stdout",
       "text": [
        "\n",
        "The error is 0.172\n",
        "=============Done with epoch 85==============="
       ]
      },
      {
       "output_type": "stream",
       "stream": "stdout",
       "text": [
        "\n",
        "The error is 0.172\n",
        "=============Done with epoch 86==============="
       ]
      },
      {
       "output_type": "stream",
       "stream": "stdout",
       "text": [
        "\n",
        "The error is 0.172\n",
        "=============Done with epoch 87==============="
       ]
      },
      {
       "output_type": "stream",
       "stream": "stdout",
       "text": [
        "\n",
        "The error is 0.17\n",
        "=============Done with epoch 88==============="
       ]
      },
      {
       "output_type": "stream",
       "stream": "stdout",
       "text": [
        "\n",
        "The error is 0.17\n",
        "=============Done with epoch 89==============="
       ]
      },
      {
       "output_type": "stream",
       "stream": "stdout",
       "text": [
        "\n",
        "The error is 0.16\n",
        "=============Done with epoch 90==============="
       ]
      },
      {
       "output_type": "stream",
       "stream": "stdout",
       "text": [
        "\n",
        "The error is 0.16\n",
        "=============Done with epoch 91==============="
       ]
      },
      {
       "output_type": "stream",
       "stream": "stdout",
       "text": [
        "\n",
        "The error is 0.16\n",
        "=============Done with epoch 92==============="
       ]
      },
      {
       "output_type": "stream",
       "stream": "stdout",
       "text": [
        "\n",
        "The error is 0.16\n",
        "=============Done with epoch 93==============="
       ]
      },
      {
       "output_type": "stream",
       "stream": "stdout",
       "text": [
        "\n",
        "The error is 0.16\n",
        "=============Done with epoch 94==============="
       ]
      },
      {
       "output_type": "stream",
       "stream": "stdout",
       "text": [
        "\n",
        "The error is 0.16\n",
        "=============Done with epoch 95==============="
       ]
      },
      {
       "output_type": "stream",
       "stream": "stdout",
       "text": [
        "\n",
        "The error is 0.16\n",
        "=============Done with epoch 96==============="
       ]
      },
      {
       "output_type": "stream",
       "stream": "stdout",
       "text": [
        "\n",
        "The error is 0.166\n",
        "=============Done with epoch 97==============="
       ]
      },
      {
       "output_type": "stream",
       "stream": "stdout",
       "text": [
        "\n",
        "The error is 0.156\n",
        "=============Done with epoch 98==============="
       ]
      },
      {
       "output_type": "stream",
       "stream": "stdout",
       "text": [
        "\n",
        "The error is 0.156\n",
        "=============Done with epoch 99==============="
       ]
      },
      {
       "output_type": "stream",
       "stream": "stdout",
       "text": [
        "\n",
        "The error is 0.152\n",
        "=============Done with epoch 100==============="
       ]
      },
      {
       "output_type": "stream",
       "stream": "stdout",
       "text": [
        "\n",
        "The error is 0.152\n"
       ]
      }
     ],
     "prompt_number": 598
    },
    {
     "cell_type": "code",
     "collapsed": false,
     "input": [
      "len(w_cw_ng1)"
     ],
     "language": "python",
     "metadata": {},
     "outputs": [
      {
       "metadata": {},
       "output_type": "pyout",
       "prompt_number": 1036,
       "text": [
        "36159"
       ]
      }
     ],
     "prompt_number": 1036
    },
    {
     "cell_type": "code",
     "collapsed": false,
     "input": [
      "plt.plot(range(100), errors_cw_ng1)"
     ],
     "language": "python",
     "metadata": {},
     "outputs": [
      {
       "metadata": {},
       "output_type": "pyout",
       "prompt_number": 599,
       "text": [
        "[<matplotlib.lines.Line2D at 0x123ac64d0>]"
       ]
      },
      {
       "metadata": {},
       "output_type": "display_data",
       "png": "[encoded data removed]",
       "text": [
        "<matplotlib.figure.Figure at 0x124f576d0>"
       ]
      }
     ],
     "prompt_number": 599
    },
    {
     "cell_type": "code",
     "collapsed": false,
     "input": [
      "percent_error(test_X_dict_cw_ng,test_y,w_cw_ng1)"
     ],
     "language": "python",
     "metadata": {},
     "outputs": [
      {
       "metadata": {},
       "output_type": "pyout",
       "prompt_number": 600,
       "text": [
        "0.152"
       ]
      }
     ],
     "prompt_number": 600
    },
    {
     "cell_type": "heading",
     "level": 3,
     "metadata": {},
     "source": [
      "2 words combination"
     ]
    },
    {
     "cell_type": "code",
     "collapsed": false,
     "input": [
      "def list_to_dict_2_words(li):\n",
      "    cnt = Counter()\n",
      "    i = 0\n",
      "    while i < len(li)-1:\n",
      "        if li[i] not in common_words_2 and li[i+1] not in common_words_2:\n",
      "            cnt[(li[i],li[i+1])] +=1\n",
      "            cnt[li[i]] += 1\n",
      "        i += 1\n",
      "    return dict(cnt)"
     ],
     "language": "python",
     "metadata": {},
     "outputs": [],
     "prompt_number": 666
    },
    {
     "cell_type": "code",
     "collapsed": false,
     "input": [
      "def list_to_dict_pres_2_words_neg(li):\n",
      "    cnt = Counter()\n",
      "    i = 0\n",
      "    while i < len(li): \n",
      "        if i < len(li)-1:\n",
      "            if li[i] in neg_words:\n",
      "                cnt[(li[i],li[i+1])] = 1\n",
      "                i+=2\n",
      "            elif li[i+1] in neg_words:\n",
      "                cnt[li[i]] = 1\n",
      "                i+=1\n",
      "            else:\n",
      "                cnt[(li[i],li[i+1])] = 1\n",
      "                cnt[li[i]] = 1\n",
      "                i+=1\n",
      "        else:\n",
      "            if li[i] not in neg_words:\n",
      "                cnt[li[i]] = 1\n",
      "            i += 1\n",
      "    return dict(cnt)"
     ],
     "language": "python",
     "metadata": {},
     "outputs": [],
     "prompt_number": 865
    },
    {
     "cell_type": "code",
     "collapsed": false,
     "input": [
      "def list_to_dict_pres_2_words(li):\n",
      "    cnt = Counter()\n",
      "    i = 0\n",
      "    while i < len(li): \n",
      "        if i < len(li)-1:\n",
      "            cnt[(li[i],li[i+1])] = 1\n",
      "            cnt[li[i]] = 1\n",
      "            i+=1\n",
      "        else:\n",
      "            cnt[li[i]] = 1\n",
      "            i += 1\n",
      "    return dict(cnt)"
     ],
     "language": "python",
     "metadata": {},
     "outputs": [],
     "prompt_number": 866
    },
    {
     "cell_type": "code",
     "collapsed": false,
     "input": [
      "train_X_pres_2_words = [list_to_dict_pres_2_words(li) for li in train_X]"
     ],
     "language": "python",
     "metadata": {},
     "outputs": [],
     "prompt_number": 1030
    },
    {
     "cell_type": "code",
     "collapsed": false,
     "input": [
      "test_X_pres_2_words = [list_to_dict_pres_2_words(li) for li in test_X]"
     ],
     "language": "python",
     "metadata": {},
     "outputs": [],
     "prompt_number": 868
    },
    {
     "cell_type": "code",
     "collapsed": false,
     "input": [
      "w_pres_2_words, errors_pres_2_words = pegasos_svm_speedup(train_X_pres_2_words,train_y,test_X_pres_2_words,test_y,10**-3,100)"
     ],
     "language": "python",
     "metadata": {},
     "outputs": [],
     "prompt_number": 845
    },
    {
     "cell_type": "code",
     "collapsed": false,
     "input": [
      "#2 words + present\n",
      "opt_error2[-1]"
     ],
     "language": "python",
     "metadata": {},
     "outputs": [
      {
       "metadata": {},
       "output_type": "pyout",
       "prompt_number": 969,
       "text": [
        "0.122"
       ]
      }
     ],
     "prompt_number": 969
    },
    {
     "cell_type": "code",
     "collapsed": false,
     "input": [
      "opt22=0.15\n",
      "opt_error22 = []\n",
      "for i in range(50):\n",
      "    w_pres_2_words22, errors_pres_2_words22 = pegasos_svm_speedup(train_X_pres_2_words,train_y,test_X_pres_2_words,test_y,10**-3,100)\n",
      "    if errors_pres_2_words22[-1] < opt22:\n",
      "        opt22 = errors_pres_2_words22[-1]\n",
      "        opt_error22 = errors_pres_2_words22\n",
      "        print opt22\n",
      "    print i"
     ],
     "language": "python",
     "metadata": {},
     "outputs": [
      {
       "output_type": "stream",
       "stream": "stdout",
       "text": [
        "0.146\n",
        "0\n",
        "0.134"
       ]
      },
      {
       "output_type": "stream",
       "stream": "stdout",
       "text": [
        "\n",
        "1\n",
        "2"
       ]
      },
      {
       "output_type": "stream",
       "stream": "stdout",
       "text": [
        "\n",
        "3"
       ]
      },
      {
       "output_type": "stream",
       "stream": "stdout",
       "text": [
        "\n",
        "0.13"
       ]
      },
      {
       "output_type": "stream",
       "stream": "stdout",
       "text": [
        "\n",
        "4\n",
        "5"
       ]
      },
      {
       "output_type": "stream",
       "stream": "stdout",
       "text": [
        "\n",
        "6"
       ]
      },
      {
       "output_type": "stream",
       "stream": "stdout",
       "text": [
        "\n",
        "7"
       ]
      },
      {
       "output_type": "stream",
       "stream": "stdout",
       "text": [
        "\n",
        "8"
       ]
      },
      {
       "output_type": "stream",
       "stream": "stdout",
       "text": [
        "\n",
        "9"
       ]
      },
      {
       "output_type": "stream",
       "stream": "stdout",
       "text": [
        "\n",
        "10"
       ]
      },
      {
       "output_type": "stream",
       "stream": "stdout",
       "text": [
        "\n",
        "11"
       ]
      },
      {
       "output_type": "stream",
       "stream": "stdout",
       "text": [
        "\n",
        "12"
       ]
      },
      {
       "output_type": "stream",
       "stream": "stdout",
       "text": [
        "\n",
        "13"
       ]
      },
      {
       "output_type": "stream",
       "stream": "stdout",
       "text": [
        "\n",
        "14"
       ]
      },
      {
       "output_type": "stream",
       "stream": "stdout",
       "text": [
        "\n",
        "15"
       ]
      },
      {
       "output_type": "stream",
       "stream": "stdout",
       "text": [
        "\n",
        "16"
       ]
      },
      {
       "output_type": "stream",
       "stream": "stdout",
       "text": [
        "\n",
        "17"
       ]
      },
      {
       "output_type": "stream",
       "stream": "stdout",
       "text": [
        "\n",
        "18"
       ]
      },
      {
       "output_type": "stream",
       "stream": "stdout",
       "text": [
        "\n",
        "0.128"
       ]
      },
      {
       "output_type": "stream",
       "stream": "stdout",
       "text": [
        "\n",
        "19\n",
        "20"
       ]
      },
      {
       "output_type": "stream",
       "stream": "stdout",
       "text": [
        "\n",
        "21"
       ]
      },
      {
       "output_type": "stream",
       "stream": "stdout",
       "text": [
        "\n",
        "22"
       ]
      },
      {
       "output_type": "stream",
       "stream": "stdout",
       "text": [
        "\n",
        "23"
       ]
      },
      {
       "output_type": "stream",
       "stream": "stdout",
       "text": [
        "\n",
        "24"
       ]
      },
      {
       "output_type": "stream",
       "stream": "stdout",
       "text": [
        "\n",
        "25"
       ]
      },
      {
       "output_type": "stream",
       "stream": "stdout",
       "text": [
        "\n",
        "26"
       ]
      },
      {
       "output_type": "stream",
       "stream": "stdout",
       "text": [
        "\n",
        "27"
       ]
      },
      {
       "output_type": "stream",
       "stream": "stdout",
       "text": [
        "\n",
        "28"
       ]
      },
      {
       "output_type": "stream",
       "stream": "stdout",
       "text": [
        "\n",
        "29"
       ]
      },
      {
       "output_type": "stream",
       "stream": "stdout",
       "text": [
        "\n",
        "30"
       ]
      },
      {
       "output_type": "stream",
       "stream": "stdout",
       "text": [
        "\n",
        "31"
       ]
      },
      {
       "output_type": "stream",
       "stream": "stdout",
       "text": [
        "\n",
        "32"
       ]
      },
      {
       "output_type": "stream",
       "stream": "stdout",
       "text": [
        "\n",
        "33"
       ]
      },
      {
       "output_type": "stream",
       "stream": "stdout",
       "text": [
        "\n",
        "34"
       ]
      },
      {
       "output_type": "stream",
       "stream": "stdout",
       "text": [
        "\n",
        "35"
       ]
      },
      {
       "output_type": "stream",
       "stream": "stdout",
       "text": [
        "\n",
        "36"
       ]
      },
      {
       "output_type": "stream",
       "stream": "stdout",
       "text": [
        "\n",
        "37"
       ]
      },
      {
       "output_type": "stream",
       "stream": "stdout",
       "text": [
        "\n",
        "38"
       ]
      },
      {
       "output_type": "stream",
       "stream": "stdout",
       "text": [
        "\n",
        "39"
       ]
      },
      {
       "output_type": "stream",
       "stream": "stdout",
       "text": [
        "\n",
        "40"
       ]
      },
      {
       "output_type": "stream",
       "stream": "stdout",
       "text": [
        "\n",
        "41"
       ]
      },
      {
       "output_type": "stream",
       "stream": "stdout",
       "text": [
        "\n",
        "42"
       ]
      },
      {
       "output_type": "stream",
       "stream": "stdout",
       "text": [
        "\n",
        "43"
       ]
      },
      {
       "output_type": "stream",
       "stream": "stdout",
       "text": [
        "\n",
        "44"
       ]
      },
      {
       "output_type": "stream",
       "stream": "stdout",
       "text": [
        "\n",
        "45"
       ]
      },
      {
       "output_type": "stream",
       "stream": "stdout",
       "text": [
        "\n",
        "46"
       ]
      },
      {
       "output_type": "stream",
       "stream": "stdout",
       "text": [
        "\n",
        "47"
       ]
      },
      {
       "output_type": "stream",
       "stream": "stdout",
       "text": [
        "\n",
        "48"
       ]
      },
      {
       "output_type": "stream",
       "stream": "stdout",
       "text": [
        "\n",
        "49"
       ]
      },
      {
       "output_type": "stream",
       "stream": "stdout",
       "text": [
        "\n"
       ]
      }
     ],
     "prompt_number": 869
    },
    {
     "cell_type": "code",
     "collapsed": false,
     "input": [
      "errors_pres_2_words"
     ],
     "language": "python",
     "metadata": {},
     "outputs": [
      {
       "metadata": {},
       "output_type": "pyout",
       "prompt_number": 846,
       "text": [
        "[0.164,\n",
        " 0.208,\n",
        " 0.148,\n",
        " 0.168,\n",
        " 0.136,\n",
        " 0.148,\n",
        " 0.14,\n",
        " 0.146,\n",
        " 0.136,\n",
        " 0.142,\n",
        " 0.134,\n",
        " 0.134,\n",
        " 0.134,\n",
        " 0.134,\n",
        " 0.134,\n",
        " 0.134,\n",
        " 0.134,\n",
        " 0.134,\n",
        " 0.134,\n",
        " 0.142,\n",
        " 0.144,\n",
        " 0.134,\n",
        " 0.134,\n",
        " 0.134,\n",
        " 0.134,\n",
        " 0.154,\n",
        " 0.138,\n",
        " 0.138,\n",
        " 0.146,\n",
        " 0.144,\n",
        " 0.142,\n",
        " 0.142,\n",
        " 0.142,\n",
        " 0.15,\n",
        " 0.146,\n",
        " 0.148,\n",
        " 0.148,\n",
        " 0.148,\n",
        " 0.148,\n",
        " 0.148,\n",
        " 0.172,\n",
        " 0.148,\n",
        " 0.144,\n",
        " 0.146,\n",
        " 0.146,\n",
        " 0.146,\n",
        " 0.146,\n",
        " 0.146,\n",
        " 0.146,\n",
        " 0.146,\n",
        " 0.146,\n",
        " 0.146,\n",
        " 0.144,\n",
        " 0.148,\n",
        " 0.148,\n",
        " 0.148,\n",
        " 0.148,\n",
        " 0.148,\n",
        " 0.142,\n",
        " 0.138,\n",
        " 0.138,\n",
        " 0.14,\n",
        " 0.14,\n",
        " 0.142,\n",
        " 0.142,\n",
        " 0.142,\n",
        " 0.142,\n",
        " 0.142,\n",
        " 0.142,\n",
        " 0.142,\n",
        " 0.142,\n",
        " 0.142,\n",
        " 0.142,\n",
        " 0.142,\n",
        " 0.142,\n",
        " 0.142,\n",
        " 0.142,\n",
        " 0.142,\n",
        " 0.132,\n",
        " 0.134,\n",
        " 0.134,\n",
        " 0.138,\n",
        " 0.128,\n",
        " 0.128,\n",
        " 0.128,\n",
        " 0.126,\n",
        " 0.126,\n",
        " 0.126,\n",
        " 0.126,\n",
        " 0.126,\n",
        " 0.142,\n",
        " 0.126,\n",
        " 0.154,\n",
        " 0.138,\n",
        " 0.138,\n",
        " 0.138,\n",
        " 0.138,\n",
        " 0.138,\n",
        " 0.13,\n",
        " 0.13]"
       ]
      }
     ],
     "prompt_number": 846
    },
    {
     "cell_type": "code",
     "collapsed": false,
     "input": [
      "train_X_2_words = [list_to_dict_2_words(li) for li in train_X]"
     ],
     "language": "python",
     "metadata": {},
     "outputs": [],
     "prompt_number": 667
    },
    {
     "cell_type": "code",
     "collapsed": false,
     "input": [
      "test_X_2_words = [list_to_dict_2_words(li) for li in test_X]"
     ],
     "language": "python",
     "metadata": {},
     "outputs": [],
     "prompt_number": 668
    },
    {
     "cell_type": "code",
     "collapsed": false,
     "input": [
      "w_2_words, errors_2_words = pegasos_svm_speedup(train_X_2_words,train_y,test_X_2_words,test_y,10**-3,100)"
     ],
     "language": "python",
     "metadata": {},
     "outputs": [
      {
       "output_type": "stream",
       "stream": "stdout",
       "text": [
        "=============Done with epoch 1===============\n",
        "The error is 0.268\n",
        "=============Done with epoch 2==============="
       ]
      },
      {
       "output_type": "stream",
       "stream": "stdout",
       "text": [
        "\n",
        "The error is 0.24\n",
        "=============Done with epoch 3==============="
       ]
      },
      {
       "output_type": "stream",
       "stream": "stdout",
       "text": [
        "\n",
        "The error is 0.226\n",
        "=============Done with epoch 4==============="
       ]
      },
      {
       "output_type": "stream",
       "stream": "stdout",
       "text": [
        "\n",
        "The error is 0.234\n",
        "=============Done with epoch 5==============="
       ]
      },
      {
       "output_type": "stream",
       "stream": "stdout",
       "text": [
        "\n",
        "The error is 0.232\n",
        "=============Done with epoch 6==============="
       ]
      },
      {
       "output_type": "stream",
       "stream": "stdout",
       "text": [
        "\n",
        "The error is 0.224\n",
        "=============Done with epoch 7==============="
       ]
      },
      {
       "output_type": "stream",
       "stream": "stdout",
       "text": [
        "\n",
        "The error is 0.216\n",
        "=============Done with epoch 8==============="
       ]
      },
      {
       "output_type": "stream",
       "stream": "stdout",
       "text": [
        "\n",
        "The error is 0.214\n",
        "=============Done with epoch 9==============="
       ]
      },
      {
       "output_type": "stream",
       "stream": "stdout",
       "text": [
        "\n",
        "The error is 0.214\n",
        "=============Done with epoch 10==============="
       ]
      },
      {
       "output_type": "stream",
       "stream": "stdout",
       "text": [
        "\n",
        "The error is 0.202\n",
        "=============Done with epoch 11==============="
       ]
      },
      {
       "output_type": "stream",
       "stream": "stdout",
       "text": [
        "\n",
        "The error is 0.202\n",
        "=============Done with epoch 12==============="
       ]
      },
      {
       "output_type": "stream",
       "stream": "stdout",
       "text": [
        "\n",
        "The error is 0.202\n",
        "=============Done with epoch 13==============="
       ]
      },
      {
       "output_type": "stream",
       "stream": "stdout",
       "text": [
        "\n",
        "The error is 0.202\n",
        "=============Done with epoch 14==============="
       ]
      },
      {
       "output_type": "stream",
       "stream": "stdout",
       "text": [
        "\n",
        "The error is 0.202\n",
        "=============Done with epoch 15==============="
       ]
      },
      {
       "output_type": "stream",
       "stream": "stdout",
       "text": [
        "\n",
        "The error is 0.196\n",
        "=============Done with epoch 16==============="
       ]
      },
      {
       "output_type": "stream",
       "stream": "stdout",
       "text": [
        "\n",
        "The error is 0.216\n",
        "=============Done with epoch 17==============="
       ]
      },
      {
       "output_type": "stream",
       "stream": "stdout",
       "text": [
        "\n",
        "The error is 0.192\n",
        "=============Done with epoch 18==============="
       ]
      },
      {
       "output_type": "stream",
       "stream": "stdout",
       "text": [
        "\n",
        "The error is 0.206\n",
        "=============Done with epoch 19==============="
       ]
      },
      {
       "output_type": "stream",
       "stream": "stdout",
       "text": [
        "\n",
        "The error is 0.204\n",
        "=============Done with epoch 20==============="
       ]
      },
      {
       "output_type": "stream",
       "stream": "stdout",
       "text": [
        "\n",
        "The error is 0.196\n",
        "=============Done with epoch 21==============="
       ]
      },
      {
       "output_type": "stream",
       "stream": "stdout",
       "text": [
        "\n",
        "The error is 0.196\n",
        "=============Done with epoch 22==============="
       ]
      },
      {
       "output_type": "stream",
       "stream": "stdout",
       "text": [
        "\n",
        "The error is 0.196\n",
        "=============Done with epoch 23==============="
       ]
      },
      {
       "output_type": "stream",
       "stream": "stdout",
       "text": [
        "\n",
        "The error is 0.196\n",
        "=============Done with epoch 24==============="
       ]
      },
      {
       "output_type": "stream",
       "stream": "stdout",
       "text": [
        "\n",
        "The error is 0.196\n",
        "=============Done with epoch 25==============="
       ]
      },
      {
       "output_type": "stream",
       "stream": "stdout",
       "text": [
        "\n",
        "The error is 0.196\n",
        "=============Done with epoch 26==============="
       ]
      },
      {
       "output_type": "stream",
       "stream": "stdout",
       "text": [
        "\n",
        "The error is 0.196\n",
        "=============Done with epoch 27==============="
       ]
      },
      {
       "output_type": "stream",
       "stream": "stdout",
       "text": [
        "\n",
        "The error is 0.246\n",
        "=============Done with epoch 28==============="
       ]
      },
      {
       "output_type": "stream",
       "stream": "stdout",
       "text": [
        "\n",
        "The error is 0.194\n",
        "=============Done with epoch 29==============="
       ]
      },
      {
       "output_type": "stream",
       "stream": "stdout",
       "text": [
        "\n",
        "The error is 0.202\n",
        "=============Done with epoch 30==============="
       ]
      },
      {
       "output_type": "stream",
       "stream": "stdout",
       "text": [
        "\n",
        "The error is 0.212\n",
        "=============Done with epoch 31==============="
       ]
      },
      {
       "output_type": "stream",
       "stream": "stdout",
       "text": [
        "\n",
        "The error is 0.208\n",
        "=============Done with epoch 32==============="
       ]
      },
      {
       "output_type": "stream",
       "stream": "stdout",
       "text": [
        "\n",
        "The error is 0.206\n",
        "=============Done with epoch 33==============="
       ]
      },
      {
       "output_type": "stream",
       "stream": "stdout",
       "text": [
        "\n",
        "The error is 0.214\n",
        "=============Done with epoch 34==============="
       ]
      },
      {
       "output_type": "stream",
       "stream": "stdout",
       "text": [
        "\n",
        "The error is 0.208\n",
        "=============Done with epoch 35==============="
       ]
      },
      {
       "output_type": "stream",
       "stream": "stdout",
       "text": [
        "\n",
        "The error is 0.206\n",
        "=============Done with epoch 36==============="
       ]
      },
      {
       "output_type": "stream",
       "stream": "stdout",
       "text": [
        "\n",
        "The error is 0.206\n",
        "=============Done with epoch 37==============="
       ]
      },
      {
       "output_type": "stream",
       "stream": "stdout",
       "text": [
        "\n",
        "The error is 0.206\n",
        "=============Done with epoch 38==============="
       ]
      },
      {
       "output_type": "stream",
       "stream": "stdout",
       "text": [
        "\n",
        "The error is 0.206\n",
        "=============Done with epoch 39==============="
       ]
      },
      {
       "output_type": "stream",
       "stream": "stdout",
       "text": [
        "\n",
        "The error is 0.204\n",
        "=============Done with epoch 40==============="
       ]
      },
      {
       "output_type": "stream",
       "stream": "stdout",
       "text": [
        "\n",
        "The error is 0.204\n",
        "=============Done with epoch 41==============="
       ]
      },
      {
       "output_type": "stream",
       "stream": "stdout",
       "text": [
        "\n",
        "The error is 0.204\n",
        "=============Done with epoch 42==============="
       ]
      },
      {
       "output_type": "stream",
       "stream": "stdout",
       "text": [
        "\n",
        "The error is 0.204\n",
        "=============Done with epoch 43==============="
       ]
      },
      {
       "output_type": "stream",
       "stream": "stdout",
       "text": [
        "\n",
        "The error is 0.204\n",
        "=============Done with epoch 44==============="
       ]
      },
      {
       "output_type": "stream",
       "stream": "stdout",
       "text": [
        "\n",
        "The error is 0.204\n",
        "=============Done with epoch 45==============="
       ]
      },
      {
       "output_type": "stream",
       "stream": "stdout",
       "text": [
        "\n",
        "The error is 0.204\n",
        "=============Done with epoch 46==============="
       ]
      },
      {
       "output_type": "stream",
       "stream": "stdout",
       "text": [
        "\n",
        "The error is 0.204\n",
        "=============Done with epoch 47==============="
       ]
      },
      {
       "output_type": "stream",
       "stream": "stdout",
       "text": [
        "\n",
        "The error is 0.204\n",
        "=============Done with epoch 48==============="
       ]
      },
      {
       "output_type": "stream",
       "stream": "stdout",
       "text": [
        "\n",
        "The error is 0.204\n",
        "=============Done with epoch 49==============="
       ]
      },
      {
       "output_type": "stream",
       "stream": "stdout",
       "text": [
        "\n",
        "The error is 0.196\n",
        "=============Done with epoch 50==============="
       ]
      },
      {
       "output_type": "stream",
       "stream": "stdout",
       "text": [
        "\n",
        "The error is 0.196\n",
        "=============Done with epoch 51==============="
       ]
      },
      {
       "output_type": "stream",
       "stream": "stdout",
       "text": [
        "\n",
        "The error is 0.196\n",
        "=============Done with epoch 52==============="
       ]
      },
      {
       "output_type": "stream",
       "stream": "stdout",
       "text": [
        "\n",
        "The error is 0.196\n",
        "=============Done with epoch 53==============="
       ]
      },
      {
       "output_type": "stream",
       "stream": "stdout",
       "text": [
        "\n",
        "The error is 0.196\n",
        "=============Done with epoch 54==============="
       ]
      },
      {
       "output_type": "stream",
       "stream": "stdout",
       "text": [
        "\n",
        "The error is 0.196\n",
        "=============Done with epoch 55==============="
       ]
      },
      {
       "output_type": "stream",
       "stream": "stdout",
       "text": [
        "\n",
        "The error is 0.21\n",
        "=============Done with epoch 56==============="
       ]
      },
      {
       "output_type": "stream",
       "stream": "stdout",
       "text": [
        "\n",
        "The error is 0.2\n",
        "=============Done with epoch 57==============="
       ]
      },
      {
       "output_type": "stream",
       "stream": "stdout",
       "text": [
        "\n",
        "The error is 0.2\n",
        "=============Done with epoch 58==============="
       ]
      },
      {
       "output_type": "stream",
       "stream": "stdout",
       "text": [
        "\n",
        "The error is 0.192\n",
        "=============Done with epoch 59==============="
       ]
      },
      {
       "output_type": "stream",
       "stream": "stdout",
       "text": [
        "\n",
        "The error is 0.192\n",
        "=============Done with epoch 60==============="
       ]
      },
      {
       "output_type": "stream",
       "stream": "stdout",
       "text": [
        "\n",
        "The error is 0.22\n",
        "=============Done with epoch 61==============="
       ]
      },
      {
       "output_type": "stream",
       "stream": "stdout",
       "text": [
        "\n",
        "The error is 0.2\n",
        "=============Done with epoch 62==============="
       ]
      },
      {
       "output_type": "stream",
       "stream": "stdout",
       "text": [
        "\n",
        "The error is 0.234\n",
        "=============Done with epoch 63==============="
       ]
      },
      {
       "output_type": "stream",
       "stream": "stdout",
       "text": [
        "\n",
        "The error is 0.216\n",
        "=============Done with epoch 64==============="
       ]
      },
      {
       "output_type": "stream",
       "stream": "stdout",
       "text": [
        "\n",
        "The error is 0.202\n",
        "=============Done with epoch 65==============="
       ]
      },
      {
       "output_type": "stream",
       "stream": "stdout",
       "text": [
        "\n",
        "The error is 0.202\n",
        "=============Done with epoch 66==============="
       ]
      },
      {
       "output_type": "stream",
       "stream": "stdout",
       "text": [
        "\n",
        "The error is 0.208\n",
        "=============Done with epoch 67==============="
       ]
      },
      {
       "output_type": "stream",
       "stream": "stdout",
       "text": [
        "\n",
        "The error is 0.206\n",
        "=============Done with epoch 68==============="
       ]
      },
      {
       "output_type": "stream",
       "stream": "stdout",
       "text": [
        "\n",
        "The error is 0.198\n",
        "=============Done with epoch 69==============="
       ]
      },
      {
       "output_type": "stream",
       "stream": "stdout",
       "text": [
        "\n",
        "The error is 0.198\n",
        "=============Done with epoch 70==============="
       ]
      },
      {
       "output_type": "stream",
       "stream": "stdout",
       "text": [
        "\n",
        "The error is 0.198\n",
        "=============Done with epoch 71==============="
       ]
      },
      {
       "output_type": "stream",
       "stream": "stdout",
       "text": [
        "\n",
        "The error is 0.198\n",
        "=============Done with epoch 72==============="
       ]
      },
      {
       "output_type": "stream",
       "stream": "stdout",
       "text": [
        "\n",
        "The error is 0.2\n",
        "=============Done with epoch 73==============="
       ]
      },
      {
       "output_type": "stream",
       "stream": "stdout",
       "text": [
        "\n",
        "The error is 0.192\n",
        "=============Done with epoch 74==============="
       ]
      },
      {
       "output_type": "stream",
       "stream": "stdout",
       "text": [
        "\n",
        "The error is 0.212\n",
        "=============Done with epoch 75==============="
       ]
      },
      {
       "output_type": "stream",
       "stream": "stdout",
       "text": [
        "\n",
        "The error is 0.222\n",
        "=============Done with epoch 76==============="
       ]
      },
      {
       "output_type": "stream",
       "stream": "stdout",
       "text": [
        "\n",
        "The error is 0.2\n",
        "=============Done with epoch 77==============="
       ]
      },
      {
       "output_type": "stream",
       "stream": "stdout",
       "text": [
        "\n",
        "The error is 0.2\n",
        "=============Done with epoch 78==============="
       ]
      },
      {
       "output_type": "stream",
       "stream": "stdout",
       "text": [
        "\n",
        "The error is 0.2\n",
        "=============Done with epoch 79==============="
       ]
      },
      {
       "output_type": "stream",
       "stream": "stdout",
       "text": [
        "\n",
        "The error is 0.2\n",
        "=============Done with epoch 80==============="
       ]
      },
      {
       "output_type": "stream",
       "stream": "stdout",
       "text": [
        "\n",
        "The error is 0.2\n",
        "=============Done with epoch 81==============="
       ]
      },
      {
       "output_type": "stream",
       "stream": "stdout",
       "text": [
        "\n",
        "The error is 0.2\n",
        "=============Done with epoch 82==============="
       ]
      },
      {
       "output_type": "stream",
       "stream": "stdout",
       "text": [
        "\n",
        "The error is 0.2\n",
        "=============Done with epoch 83==============="
       ]
      },
      {
       "output_type": "stream",
       "stream": "stdout",
       "text": [
        "\n",
        "The error is 0.206\n",
        "=============Done with epoch 84==============="
       ]
      },
      {
       "output_type": "stream",
       "stream": "stdout",
       "text": [
        "\n",
        "The error is 0.206\n",
        "=============Done with epoch 85==============="
       ]
      },
      {
       "output_type": "stream",
       "stream": "stdout",
       "text": [
        "\n",
        "The error is 0.206\n",
        "=============Done with epoch 86==============="
       ]
      },
      {
       "output_type": "stream",
       "stream": "stdout",
       "text": [
        "\n",
        "The error is 0.206\n",
        "=============Done with epoch 87==============="
       ]
      },
      {
       "output_type": "stream",
       "stream": "stdout",
       "text": [
        "\n",
        "The error is 0.206\n",
        "=============Done with epoch 88==============="
       ]
      },
      {
       "output_type": "stream",
       "stream": "stdout",
       "text": [
        "\n",
        "The error is 0.206\n",
        "=============Done with epoch 89==============="
       ]
      },
      {
       "output_type": "stream",
       "stream": "stdout",
       "text": [
        "\n",
        "The error is 0.196\n",
        "=============Done with epoch 90==============="
       ]
      },
      {
       "output_type": "stream",
       "stream": "stdout",
       "text": [
        "\n",
        "The error is 0.202\n",
        "=============Done with epoch 91==============="
       ]
      },
      {
       "output_type": "stream",
       "stream": "stdout",
       "text": [
        "\n",
        "The error is 0.206\n",
        "=============Done with epoch 92==============="
       ]
      },
      {
       "output_type": "stream",
       "stream": "stdout",
       "text": [
        "\n",
        "The error is 0.218\n",
        "=============Done with epoch 93==============="
       ]
      },
      {
       "output_type": "stream",
       "stream": "stdout",
       "text": [
        "\n",
        "The error is 0.218\n",
        "=============Done with epoch 94==============="
       ]
      },
      {
       "output_type": "stream",
       "stream": "stdout",
       "text": [
        "\n",
        "The error is 0.23\n",
        "=============Done with epoch 95==============="
       ]
      },
      {
       "output_type": "stream",
       "stream": "stdout",
       "text": [
        "\n",
        "The error is 0.192\n",
        "=============Done with epoch 96==============="
       ]
      },
      {
       "output_type": "stream",
       "stream": "stdout",
       "text": [
        "\n",
        "The error is 0.208\n",
        "=============Done with epoch 97==============="
       ]
      },
      {
       "output_type": "stream",
       "stream": "stdout",
       "text": [
        "\n",
        "The error is 0.204\n",
        "=============Done with epoch 98==============="
       ]
      },
      {
       "output_type": "stream",
       "stream": "stdout",
       "text": [
        "\n",
        "The error is 0.206\n",
        "=============Done with epoch 99==============="
       ]
      },
      {
       "output_type": "stream",
       "stream": "stdout",
       "text": [
        "\n",
        "The error is 0.206\n",
        "=============Done with epoch 100==============="
       ]
      },
      {
       "output_type": "stream",
       "stream": "stdout",
       "text": [
        "\n",
        "The error is 0.206\n"
       ]
      }
     ],
     "prompt_number": 671
    },
    {
     "cell_type": "code",
     "collapsed": false,
     "input": [
      "#2 words + freqency\n",
      "errors_2_words[-1]"
     ],
     "language": "python",
     "metadata": {},
     "outputs": [
      {
       "metadata": {},
       "output_type": "pyout",
       "prompt_number": 971,
       "text": [
        "0.206"
       ]
      }
     ],
     "prompt_number": 971
    },
    {
     "cell_type": "code",
     "collapsed": false,
     "input": [
      "kdict_2_words = {}\n",
      "for i in range(len(train_X_2_words)):\n",
      "    for key in train_X_2_words[i].keys():\n",
      "        if key in kdict_2_words:\n",
      "            kdict_2_words[key] +=1\n",
      "        else:\n",
      "            kdict_2_words[key] = 1"
     ],
     "language": "python",
     "metadata": {},
     "outputs": [],
     "prompt_number": 623
    },
    {
     "cell_type": "code",
     "collapsed": false,
     "input": [
      "sorted(kdict_2_words.items(), key=lambda x: x[1], reverse=True)"
     ],
     "language": "python",
     "metadata": {},
     "outputs": [
      {
       "metadata": {},
       "output_type": "pyout",
       "prompt_number": 624,
       "text": [
        "[(('it', 'is'), 720),\n",
        " (('film', 'is'), 495),\n",
        " (('is', 'not'), 438),\n",
        " (('is', 'an'), 342),\n",
        " (('has', 'been'), 313),\n",
        " (('they', 'are'), 312),\n",
        " (('who', 'is'), 311),\n",
        " (('which', 'is'), 290),\n",
        " (('would', 'be'), 279),\n",
        " (('movie', 'is'), 267),\n",
        " (('played', 'by'), 247),\n",
        " (('can', 'be'), 232),\n",
        " (('who', 'has'), 225),\n",
        " (('for', 'his'), 210),\n",
        " (('she', 'is'), 199),\n",
        " (('his', 'own'), 198),\n",
        " (('will', 'be'), 196),\n",
        " (('is', 'just'), 180),\n",
        " (('special', 'effects'), 178),\n",
        " (('does', 'not'), 174),\n",
        " (('i', \"don't\"), 161),\n",
        " (('it', 'would'), 160),\n",
        " (('each', 'other'), 158),\n",
        " (('it', 'seems'), 157),\n",
        " (('may', 'be'), 155),\n",
        " (('should', 'be'), 154),\n",
        " (('it', \"doesn't\"), 151),\n",
        " (('i', 'think'), 148),\n",
        " (('characters', 'are'), 146),\n",
        " (('story', 'is'), 142),\n",
        " (('too', 'much'), 141),\n",
        " (('man', 'who'), 141),\n",
        " (('we', 'are'), 140),\n",
        " (('rather', 'than'), 140),\n",
        " (('even', 'though'), 139),\n",
        " (('i', 'can'), 138),\n",
        " (('is', 'about'), 136),\n",
        " (('his', 'wife'), 136),\n",
        " (('character', 'is'), 135),\n",
        " (('it', 'has'), 133),\n",
        " (('his', 'character'), 132),\n",
        " (('who', 'are'), 130),\n",
        " (('i', 'would'), 128),\n",
        " (('i', 'had'), 127),\n",
        " (('because', 'it'), 125),\n",
        " (('for', 'her'), 125),\n",
        " (('is', 'very'), 124),\n",
        " (('directed', 'by'), 123),\n",
        " (('when', 'they'), 123),\n",
        " (('it', 'does'), 120),\n",
        " (('are', 'not'), 119),\n",
        " ((\"i'm\", 'not'), 117),\n",
        " (('i', \"didn't\"), 116),\n",
        " (('for', 'it'), 116),\n",
        " (('new', 'york'), 116),\n",
        " (('plot', 'is'), 111),\n",
        " (('those', 'who'), 109),\n",
        " (('when', 'it'), 109),\n",
        " (('for', 'some'), 108),\n",
        " (('i', 'know'), 108),\n",
        " (('when', 'i'), 107),\n",
        " (('for', 'example'), 107),\n",
        " (('film', 'has'), 107),\n",
        " (('she', 'has'), 106),\n",
        " (('we', 'get'), 106),\n",
        " (('about', 'it'), 106),\n",
        " (('turns', 'out'), 106),\n",
        " (('their', 'own'), 105),\n",
        " (('they', 'were'), 105),\n",
        " (('for', 'him'), 105),\n",
        " (('people', 'who'), 104),\n",
        " (('is', 'it'), 104),\n",
        " (('better', 'than'), 102),\n",
        " (('his', 'life'), 102),\n",
        " (('by', 'his'), 100),\n",
        " (('looking', 'for'), 100),\n",
        " (('i', 'am'), 98),\n",
        " (('other', 'than'), 97),\n",
        " (('not', 'even'), 97),\n",
        " (('for', 'those'), 95),\n",
        " (('not', 'be'), 94),\n",
        " (('i', \"can't\"), 94),\n",
        " (('looks', 'like'), 91),\n",
        " (('they', 'can'), 91),\n",
        " (('very', 'good'), 91),\n",
        " (('do', 'not'), 90),\n",
        " (('make', 'it'), 90),\n",
        " (('is', 'going'), 90),\n",
        " (('for', 'their'), 89),\n",
        " (('is', 'still'), 88),\n",
        " (('is', 'actually'), 88),\n",
        " (('film', 'i'), 87),\n",
        " (('scene', 'where'), 87),\n",
        " (('?', 'i'), 87),\n",
        " (('had', 'been'), 85),\n",
        " (('are', 'some'), 84),\n",
        " (('written', 'by'), 84),\n",
        " (('by', 'an'), 83),\n",
        " (('they', 'do'), 83),\n",
        " (('supporting', 'cast'), 81),\n",
        " (('it', 'just'), 80),\n",
        " (('takes', 'place'), 80),\n",
        " (('high', 'school'), 80),\n",
        " (('might', 'be'), 80),\n",
        " (('movie', 'i'), 79),\n",
        " (('be', 'able'), 79),\n",
        " (('for', 'an'), 79),\n",
        " (('life', 'is'), 78),\n",
        " (('when', 'she'), 78),\n",
        " (('scenes', 'are'), 77),\n",
        " (('is', 'nothing'), 77),\n",
        " (('other', 'hand'), 77),\n",
        " (('like', 'it'), 77),\n",
        " (('too', 'many'), 76),\n",
        " (('film', 'it'), 76),\n",
        " (('i', 'guess'), 76),\n",
        " (('running', 'time'), 76),\n",
        " (('performance', 'is'), 76),\n",
        " (('is', 'quite'), 76),\n",
        " (('is', 'almost'), 75),\n",
        " (('must', 'be'), 74),\n",
        " (('years', 'ago'), 74),\n",
        " (('i', 'will'), 73),\n",
        " (('i', 'saw'), 73),\n",
        " (('film', 'which'), 73),\n",
        " (('find', 'out'), 73),\n",
        " (('which', 'are'), 72),\n",
        " (('problem', 'is'), 72),\n",
        " (('who', 'plays'), 72),\n",
        " ((\"don't\", 'know'), 72),\n",
        " (('is', 'really'), 71),\n",
        " (('her', 'character'), 71),\n",
        " (('did', 'not'), 71),\n",
        " (('makes', 'it'), 70),\n",
        " ((\"i've\", 'seen'), 70),\n",
        " (('once', 'again'), 70),\n",
        " (('films', 'like'), 69),\n",
        " (('is', 'too'), 69),\n",
        " (('be', 'an'), 69),\n",
        " (('not', 'just'), 69),\n",
        " (('ever', 'seen'), 69),\n",
        " (('an', 'interesting'), 68),\n",
        " (('it', 'may'), 68),\n",
        " (('it', 'will'), 68),\n",
        " (('about', 'his'), 68),\n",
        " (('acting', 'is'), 68),\n",
        " (('i', 'found'), 68),\n",
        " (('action', 'sequences'), 68),\n",
        " (('look', 'like'), 68),\n",
        " (('same', 'time'), 68),\n",
        " (('is', 'given'), 67),\n",
        " (('its', 'own'), 67),\n",
        " (('is', 'never'), 67),\n",
        " (('his', 'best'), 67),\n",
        " (('is', 'probably'), 67),\n",
        " (('is', 'his'), 67),\n",
        " (('here', 'is'), 67),\n",
        " (('i', 'mean'), 66),\n",
        " (('i', 'thought'), 66),\n",
        " (('it', 'for'), 66),\n",
        " (('for', 'me'), 66),\n",
        " (('we', \"don't\"), 66),\n",
        " (('his', 'performance'), 66),\n",
        " (('we', 'know'), 66),\n",
        " (('much', 'better'), 65),\n",
        " (('effects', 'are'), 65),\n",
        " (('pretty', 'much'), 65),\n",
        " (('script', 'is'), 64),\n",
        " (('seems', 'like'), 64),\n",
        " (('i', 'suppose'), 64),\n",
        " (('is', 'something'), 64),\n",
        " (('it', '?'), 63),\n",
        " (('such', 'an'), 63),\n",
        " (('i', 'did'), 63),\n",
        " (('it', 'i'), 63),\n",
        " (('is', 'based'), 63),\n",
        " (('it', 'comes'), 63),\n",
        " ((\"he's\", 'not'), 63),\n",
        " (('guy', 'who'), 63),\n",
        " (('is', 'supposed'), 62),\n",
        " (('it', 'takes'), 62),\n",
        " (('first', 'time'), 62),\n",
        " (('very', 'little'), 62),\n",
        " (('an', 'hour'), 62),\n",
        " (('like', 'an'), 61),\n",
        " (('best', 'friend'), 61),\n",
        " (('motion', 'picture'), 60),\n",
        " (('his', 'new'), 60),\n",
        " (('may', 'not'), 59),\n",
        " (('is', 'pretty'), 59),\n",
        " (('are', 'just'), 59),\n",
        " (('it', \"isn't\"), 59),\n",
        " (('cast', 'is'), 59),\n",
        " (('!', '!'), 58),\n",
        " (('less', 'than'), 58),\n",
        " (('his', 'role'), 58),\n",
        " (('i', 'just'), 58),\n",
        " (('woman', 'who'), 57),\n",
        " (('big', 'screen'), 57),\n",
        " (('is', 'now'), 57),\n",
        " (('because', 'they'), 57),\n",
        " (('into', 'an'), 56),\n",
        " (('will', 'not'), 56),\n",
        " (('u', 's'), 56),\n",
        " (('screen', 'time'), 56),\n",
        " (('his', 'father'), 56),\n",
        " (('much', 'like'), 56),\n",
        " (('which', 'i'), 56),\n",
        " (('just', 'like'), 56),\n",
        " (('yet', 'another'), 56),\n",
        " (('into', 'his'), 56),\n",
        " (('her', 'husband'), 56),\n",
        " (('we', 'can'), 56),\n",
        " (('though', 'it'), 56),\n",
        " (('it', 'off'), 55),\n",
        " (('has', 'some'), 55),\n",
        " (('first', 'film'), 55),\n",
        " (('by', 'her'), 55),\n",
        " (('box', 'office'), 55),\n",
        " (('an', 'old'), 55),\n",
        " (('it', 'might'), 55),\n",
        " (('has', 'an'), 55),\n",
        " (('thing', 'about'), 55),\n",
        " (('than', 'it'), 54),\n",
        " (('give', 'it'), 54),\n",
        " (('her', 'own'), 54),\n",
        " (('film', 'are'), 54),\n",
        " (('these', 'are'), 54),\n",
        " (('it', \"wasn't\"), 54),\n",
        " ((\"that's\", 'not'), 54),\n",
        " (('i', 'really'), 54),\n",
        " (('films', 'are'), 54),\n",
        " (('their', 'lives'), 54),\n",
        " (('main', 'characters'), 53),\n",
        " (('can', 'do'), 53),\n",
        " (('long', 'time'), 53),\n",
        " (('it', 'out'), 53),\n",
        " (('result', 'is'), 53),\n",
        " (('does', 'it'), 53),\n",
        " (('which', 'has'), 53),\n",
        " (('every', 'scene'), 53),\n",
        " (('these', 'days'), 53),\n",
        " (('not', 'sure'), 53),\n",
        " (('an', 'actor'), 53),\n",
        " (('pretty', 'good'), 53),\n",
        " (('dialogue', 'is'), 53),\n",
        " (('scene', 'is'), 52),\n",
        " (('his', 'first'), 52),\n",
        " (('it', 'should'), 52),\n",
        " (('they', \"don't\"), 52),\n",
        " (('movie', 'has'), 52),\n",
        " (('film', 'about'), 52),\n",
        " (('is', 'good'), 52),\n",
        " (('i', 'must'), 52),\n",
        " (('about', 'how'), 52),\n",
        " (('his', 'career'), 52),\n",
        " (('has', 'become'), 52),\n",
        " (('everyone', 'else'), 51),\n",
        " (('do', 'it'), 51),\n",
        " (('is', 'trying'), 51),\n",
        " (('people', 'are'), 51),\n",
        " (('bad', 'movie'), 51),\n",
        " (('just', 'about'), 51),\n",
        " (('his', 'girlfriend'), 51),\n",
        " (('just', 'plain'), 51),\n",
        " (('not', 'really'), 51),\n",
        " (('is', 'being'), 51),\n",
        " (('these', 'characters'), 51),\n",
        " (('it', 'makes'), 51),\n",
        " (('how', 'much'), 50),\n",
        " (('anyone', 'who'), 50),\n",
        " (('these', 'two'), 50),\n",
        " (('who', 'wants'), 50),\n",
        " (('led', 'by'), 50),\n",
        " (('which', 'makes'), 50),\n",
        " (('too', 'long'), 50),\n",
        " (('is', 'even'), 50),\n",
        " (('two', 'hours'), 50),\n",
        " (('too', 'bad'), 50),\n",
        " (('who', 'can'), 50),\n",
        " (('performance', 'by'), 50),\n",
        " (('is', 'much'), 50),\n",
        " ((\"don't\", 'get'), 50),\n",
        " (('clich', '?'), 50),\n",
        " (('care', 'about'), 50),\n",
        " (('it', 'really'), 49),\n",
        " (('let', 'me'), 49),\n",
        " (('she', 'can'), 49),\n",
        " (('though', 'i'), 49),\n",
        " (('film', 'for'), 49),\n",
        " ((\"doesn't\", 'seem'), 49),\n",
        " (('bad', 'guy'), 49),\n",
        " (('i', 'do'), 49),\n",
        " (('is', 'played'), 49),\n",
        " (('an', 'action'), 49),\n",
        " (('bad', 'guys'), 49),\n",
        " (('although', 'it'), 48),\n",
        " (('out', 'for'), 48),\n",
        " (('action', 'scenes'), 48),\n",
        " (('even', 'when'), 48),\n",
        " (('movie', 'for'), 48),\n",
        " (('subject', 'matter'), 48),\n",
        " (('gives', 'us'), 48),\n",
        " (('is', 'simply'), 48),\n",
        " (('science', 'fiction'), 48),\n",
        " (('i', 'still'), 47),\n",
        " (('real', 'life'), 47),\n",
        " (('it', 'turns'), 47),\n",
        " (('entire', 'film'), 47),\n",
        " (('it', 'had'), 47),\n",
        " (('she', 'does'), 47),\n",
        " (('love', 'interest'), 47),\n",
        " (('is', 'like'), 47),\n",
        " (('for', 'them'), 47),\n",
        " (('some', 'sort'), 46),\n",
        " (('i', \"won't\"), 46),\n",
        " (('star', 'wars'), 46),\n",
        " (('is', 'far'), 46),\n",
        " (('every', 'time'), 46),\n",
        " (('when', 'we'), 46),\n",
        " (('feels', 'like'), 46),\n",
        " (('movie', '?'), 46),\n",
        " (('very', 'funny'), 46),\n",
        " (('is', 'certainly'), 46),\n",
        " (('comes', 'off'), 45),\n",
        " (('are', 'very'), 45),\n",
        " (('be', 'seen'), 45),\n",
        " (('except', 'for'), 45),\n",
        " (('an', 'american'), 45),\n",
        " (('film', 'opens'), 45),\n",
        " (('never', 'really'), 45),\n",
        " (('they', 'get'), 45),\n",
        " (('is', 'able'), 45),\n",
        " (('it', 'gets'), 45),\n",
        " (('romantic', 'comedy'), 45),\n",
        " (('rated', 'r'), 45),\n",
        " (('movie', 'it'), 45),\n",
        " (('for', 'its'), 44),\n",
        " (('some', 'kind'), 44),\n",
        " (('is', 'completely'), 44),\n",
        " (('can', 'get'), 44),\n",
        " (('then', 'again'), 44),\n",
        " (('something', 'about'), 44),\n",
        " (('it', 'can'), 44),\n",
        " (('character', 'development'), 44),\n",
        " (('comic', 'relief'), 43),\n",
        " (('where', 'they'), 43),\n",
        " ((\"i've\", 'ever'), 43),\n",
        " (('her', 'life'), 43),\n",
        " (('figure', 'out'), 43),\n",
        " (('starts', 'off'), 43),\n",
        " (('who', 'will'), 43),\n",
        " (('has', 'made'), 43),\n",
        " (('they', 'had'), 43),\n",
        " (('years', 'later'), 43),\n",
        " (('not', 'much'), 43),\n",
        " (('responsible', 'for'), 42),\n",
        " (('my', 'mind'), 42),\n",
        " ((\"you've\", 'got'), 42),\n",
        " (('even', 'worse'), 42),\n",
        " (('year', 'old'), 42),\n",
        " (('is', 'how'), 42),\n",
        " (('made', 'me'), 42),\n",
        " (('first', 'place'), 42),\n",
        " (('before', 'it'), 42),\n",
        " (('is', 'made'), 42),\n",
        " ((\"don't\", 'think'), 42),\n",
        " (('his', 'friends'), 42),\n",
        " (('direction', 'is'), 42),\n",
        " (('i', 'said'), 42),\n",
        " (('anything', 'else'), 42),\n",
        " (('for', 'instance'), 42),\n",
        " (('relationship', 'between'), 42),\n",
        " (('who', 'would'), 42),\n",
        " (('actors', 'are'), 41),\n",
        " (('great', 'deal'), 41),\n",
        " (('character', 'who'), 41),\n",
        " (('they', 'would'), 41),\n",
        " (('his', 'family'), 41),\n",
        " (('never', 'been'), 41),\n",
        " (('come', 'out'), 41),\n",
        " (('then', \"there's\"), 41),\n",
        " (('?', 'is'), 41),\n",
        " (('not', 'for'), 41),\n",
        " (('we', 'learn'), 40),\n",
        " (('little', 'too'), 40),\n",
        " ((\"can't\", 'help'), 40),\n",
        " (('think', 'about'), 40),\n",
        " (('i', 'liked'), 40),\n",
        " (('i', 'like'), 40),\n",
        " (('finds', 'himself'), 40),\n",
        " (('united', 'states'), 40),\n",
        " (('because', 'she'), 40),\n",
        " (('world', 'is'), 40),\n",
        " (('is', 'set'), 40),\n",
        " (('are', 'both'), 40),\n",
        " (('?', 'it'), 40),\n",
        " (('is', 'absolutely'), 40),\n",
        " (('is', 'basically'), 40),\n",
        " (('film', 'would'), 40),\n",
        " (('his', 'job'), 40),\n",
        " (('i', 'love'), 40),\n",
        " (('something', 'like'), 40),\n",
        " (('good', 'movie'), 40),\n",
        " (('his', 'son'), 39),\n",
        " (('be', 'made'), 39),\n",
        " (('main', 'character'), 39),\n",
        " (('by', 'some'), 39),\n",
        " (('his', 'work'), 39),\n",
        " (('is', 'rated'), 39),\n",
        " (('i', 'felt'), 39),\n",
        " (('it', 'looks'), 39),\n",
        " (('his', 'name'), 39),\n",
        " (('search', 'for'), 39),\n",
        " (('far', 'too'), 39),\n",
        " (('first', 'half'), 39),\n",
        " (('performances', 'are'), 39),\n",
        " (('these', 'people'), 39),\n",
        " (('worse', 'than'), 39),\n",
        " (('waiting', 'for'), 39),\n",
        " (('action', 'film'), 39),\n",
        " (('is', 'its'), 39),\n",
        " ((\"there's\", 'nothing'), 39),\n",
        " (('are', 'two'), 39),\n",
        " ((\"haven't\", 'seen'), 39),\n",
        " (('be', 'found'), 39),\n",
        " (('who', \"doesn't\"), 39),\n",
        " (('two', 'years'), 38),\n",
        " (('known', 'for'), 38),\n",
        " (('their', 'characters'), 38),\n",
        " (('it', 'never'), 38),\n",
        " (('action', 'movie'), 38),\n",
        " (('who', 'had'), 38),\n",
        " (('my', 'favorite'), 38),\n",
        " (('his', 'head'), 38),\n",
        " (('is', 'always'), 38),\n",
        " (('than', 'anything'), 38),\n",
        " (('is', 'by'), 38),\n",
        " (('young', 'man'), 38),\n",
        " (('ever', 'made'), 38),\n",
        " (('who', 'gets'), 38),\n",
        " (('bruce', 'willis'), 38),\n",
        " (('very', 'much'), 37),\n",
        " (('because', 'i'), 37),\n",
        " (('reason', 'for'), 37),\n",
        " (('when', 'his'), 37),\n",
        " (('an', 'attempt'), 37),\n",
        " (('while', 'i'), 37),\n",
        " (('good', 'time'), 37),\n",
        " (('get', 'into'), 37),\n",
        " (('good', 'film'), 37),\n",
        " (('about', 'her'), 37),\n",
        " (('is', 'forced'), 37),\n",
        " (('take', 'over'), 37),\n",
        " (('my', 'opinion'), 37),\n",
        " (('can', 'tell'), 36),\n",
        " (('is', 'filled'), 36),\n",
        " (('scenes', 'which'), 36),\n",
        " (('matter', 'how'), 36),\n",
        " (('movie', 'which'), 36),\n",
        " (('really', 'is'), 36),\n",
        " (('by', 'john'), 36),\n",
        " (('his', 'latest'), 36),\n",
        " (('find', 'it'), 36),\n",
        " (('not', 'too'), 36),\n",
        " (('five', 'minutes'), 36),\n",
        " (('!', 'i'), 36),\n",
        " (('although', 'i'), 36),\n",
        " (('many', 'times'), 36),\n",
        " (('film', \"doesn't\"), 36),\n",
        " (('we', 'never'), 36),\n",
        " (('seen', 'it'), 36),\n",
        " (('after', 'seeing'), 36),\n",
        " (('movie', 'about'), 36),\n",
        " (('however', 'is'), 36),\n",
        " (('they', 'will'), 36),\n",
        " (('little', 'bit'), 36),\n",
        " (('finds', 'out'), 36),\n",
        " (('how', 'it'), 36),\n",
        " (('it', 'becomes'), 35),\n",
        " (('is', 'some'), 35),\n",
        " (('film', 'does'), 35),\n",
        " (('last', 'year'), 35),\n",
        " (('not', 'enough'), 35),\n",
        " (('some', 'reason'), 35),\n",
        " (('be', 'said'), 35),\n",
        " (('not', 'an'), 35),\n",
        " (('love', 'story'), 35),\n",
        " (('where', 'it'), 35),\n",
        " (('are', 'given'), 35),\n",
        " (('i', \"couldn't\"), 35),\n",
        " (('time', 'i'), 35),\n",
        " (('it', 'still'), 35),\n",
        " (('while', 'watching'), 35),\n",
        " (('man', 'is'), 35),\n",
        " (('talk', 'about'), 35),\n",
        " (('it', 'not'), 35),\n",
        " (('where', 'she'), 35),\n",
        " (('has', 'done'), 35),\n",
        " (('go', 'through'), 35),\n",
        " (('like', 'i'), 35),\n",
        " (('role', 'is'), 35),\n",
        " (('go', 'out'), 34),\n",
        " (('?', '?'), 34),\n",
        " (('horror', 'film'), 34),\n",
        " (('how', 'many'), 34),\n",
        " (('chemistry', 'between'), 34),\n",
        " (('been', 'done'), 34),\n",
        " (('has', 'never'), 34),\n",
        " (('do', 'anything'), 34),\n",
        " (('get', 'out'), 34),\n",
        " (('thing', 'is'), 34),\n",
        " (('movie', 'like'), 34),\n",
        " (('especially', 'when'), 34),\n",
        " (('audience', 'is'), 34),\n",
        " (('him', 'for'), 34),\n",
        " (('over', 'his'), 34),\n",
        " (('they', 'should'), 34),\n",
        " (('his', 'mother'), 34),\n",
        " ((\"doesn't\", 'know'), 34),\n",
        " (('is', 'both'), 34),\n",
        " ((\"doesn't\", 'work'), 34),\n",
        " (('revolves', 'around'), 34),\n",
        " (('it', 'goes'), 34),\n",
        " (('never', 'seen'), 34),\n",
        " (('it', 'were'), 34),\n",
        " (('it', 'it'), 34),\n",
        " (('i', 'say'), 34),\n",
        " (('will', 'probably'), 33),\n",
        " (('get', 'me'), 33),\n",
        " (('it', 'works'), 33),\n",
        " (('film', 'had'), 33),\n",
        " (('i', 'wish'), 33),\n",
        " (('his', 'face'), 33),\n",
        " (('been', 'made'), 33),\n",
        " (('is', 'when'), 33),\n",
        " (('wait', 'for'), 33),\n",
        " (('is', 'definitely'), 33),\n",
        " (('an', 'alien'), 33),\n",
        " (('good', 'job'), 33),\n",
        " (('york', 'city'), 33),\n",
        " (('is', 'funny'), 33),\n",
        " (('its', 'characters'), 33),\n",
        " (('for', 'each'), 33),\n",
        " (('are', 'going'), 33),\n",
        " (('are', 'about'), 33),\n",
        " (('sounds', 'like'), 33),\n",
        " (('is', 'truly'), 33),\n",
        " (('made', 'it'), 33),\n",
        " (('film', 'takes'), 33),\n",
        " (('characters', 'who'), 33),\n",
        " (('love', 'for'), 33),\n",
        " (('going', 'through'), 33),\n",
        " (('bottom', 'line'), 32),\n",
        " (('make', 'him'), 32),\n",
        " (('it', \"didn't\"), 32),\n",
        " (('film', '?'), 32),\n",
        " (('bit', 'too'), 32),\n",
        " (('turned', 'out'), 32),\n",
        " (('them', 'are'), 32),\n",
        " (('comes', 'across'), 32),\n",
        " (('than', 'i'), 32),\n",
        " (('i', \"wouldn't\"), 32),\n",
        " (('other', 'characters'), 32),\n",
        " (('her', 'role'), 32),\n",
        " (('making', 'it'), 32),\n",
        " (('itself', 'is'), 32),\n",
        " (('an', 'oscar'), 32),\n",
        " (('film', 'like'), 32),\n",
        " (('why', '?'), 32),\n",
        " (('i', \"haven't\"), 32),\n",
        " (('everything', 'is'), 32),\n",
        " (('who', 'knows'), 32),\n",
        " (('his', 'time'), 32),\n",
        " ((\"won't\", 'be'), 32),\n",
        " ((\"i'm\", 'sure'), 32),\n",
        " (('young', 'woman'), 32),\n",
        " (('talking', 'about'), 32),\n",
        " (('wonder', 'why'), 32),\n",
        " (('she', 'gets'), 32),\n",
        " (('his', 'brother'), 32),\n",
        " (('be', 'funny'), 32),\n",
        " (('because', \"he's\"), 32),\n",
        " ((\"can't\", 'be'), 32),\n",
        " (('almost', 'every'), 32),\n",
        " (('not', 'very'), 31),\n",
        " (('is', 'because'), 31),\n",
        " (('make', 'sense'), 31),\n",
        " (('entire', 'movie'), 31),\n",
        " (('is', 'having'), 31),\n",
        " (('about', 'an'), 31),\n",
        " (('do', 'i'), 31),\n",
        " (('is', 'such'), 31),\n",
        " (('him', 'into'), 31),\n",
        " (('seem', 'like'), 31),\n",
        " (('than', 'just'), 31),\n",
        " (('are', 'still'), 31),\n",
        " (('many', 'people'), 31),\n",
        " (('going', 'for'), 31),\n",
        " (('make', 'an'), 31),\n",
        " (('family', 'is'), 31),\n",
        " (('time', 'for'), 31),\n",
        " (('do', 'we'), 31),\n",
        " (('his', 'daughter'), 31),\n",
        " (('ten', 'minutes'), 31),\n",
        " (('her', 'mother'), 31),\n",
        " (('they', 'just'), 31),\n",
        " (('story', 'about'), 31),\n",
        " (('not', 'quite'), 31),\n",
        " (('some', 'people'), 31),\n",
        " (('she', 'wants'), 31),\n",
        " (('watching', 'it'), 31),\n",
        " (('it', 'shows'), 31),\n",
        " (('plot', 'twists'), 31),\n",
        " (('is', 'where'), 31),\n",
        " (('makes', 'him'), 31),\n",
        " (('film', 'will'), 31),\n",
        " (('actor', 'who'), 31),\n",
        " (('?', '!'), 31),\n",
        " (('film', 'by'), 30),\n",
        " (('watch', 'it'), 30),\n",
        " (('is', 'extremely'), 30),\n",
        " (('work', 'is'), 30),\n",
        " (('is', 'i'), 30),\n",
        " (('few', 'years'), 30),\n",
        " (('comic', 'book'), 30),\n",
        " (('after', 'his'), 30),\n",
        " (('can', 'say'), 30),\n",
        " (('certainly', 'not'), 30),\n",
        " (('i', 'got'), 30),\n",
        " (('an', 'excellent'), 30),\n",
        " (('we', 'meet'), 30),\n",
        " (('out', 'his'), 30),\n",
        " (('care', 'for'), 30),\n",
        " (('john', 'travolta'), 30),\n",
        " (('i', 'never'), 30),\n",
        " (('every', 'single'), 30),\n",
        " ((\"they're\", 'not'), 30),\n",
        " (('would', 'like'), 30),\n",
        " (('is', 'for'), 30),\n",
        " (('hong', 'kong'), 30),\n",
        " (('twenty', 'minutes'), 30),\n",
        " (('she', \"doesn't\"), 30),\n",
        " (('last', \"year's\"), 30),\n",
        " (('is', 'told'), 30),\n",
        " (('i', 'believe'), 30),\n",
        " (('an', 'extremely'), 30),\n",
        " (('know', 'how'), 30),\n",
        " (('other', 'films'), 30),\n",
        " (('get', 'it'), 30),\n",
        " (('are', 'too'), 30),\n",
        " (('person', 'who'), 29),\n",
        " (('starts', 'out'), 29),\n",
        " (('?', 's'), 29),\n",
        " (('their', 'first'), 29),\n",
        " (('through', 'his'), 29),\n",
        " (('tv', 'series'), 29),\n",
        " ((\"doesn't\", 'even'), 29),\n",
        " (('small', 'town'), 29),\n",
        " (('film', 'where'), 29),\n",
        " (('think', 'it'), 29),\n",
        " (('it', 'appears'), 29),\n",
        " (('who', 'seems'), 29),\n",
        " (('time', 'around'), 29),\n",
        " (('r', 'for'), 29),\n",
        " (('sit', 'through'), 29),\n",
        " (('someone', 'who'), 29),\n",
        " ((\"there's\", 'not'), 29),\n",
        " (('then', 'it'), 29),\n",
        " (('root', 'for'), 29),\n",
        " (('just', 'because'), 29),\n",
        " (('pulp', 'fiction'), 29),\n",
        " (('back', 'into'), 29),\n",
        " (('name', 'is'), 29),\n",
        " (('know', 'it'), 29),\n",
        " (('90', 'minutes'), 29),\n",
        " (('it', 'even'), 29),\n",
        " ((\"wouldn't\", 'be'), 29),\n",
        " (('her', 'father'), 29),\n",
        " (('before', 'i'), 29),\n",
        " (('academy', 'award'), 29),\n",
        " (('look', 'for'), 29),\n",
        " (('while', 'it'), 29),\n",
        " (('after', 'another'), 29),\n",
        " (('star', 'trek'), 29),\n",
        " (('come', 'off'), 29),\n",
        " (('many', 'other'), 29),\n",
        " (('is', 'her'), 29),\n",
        " (('can', 'make'), 29),\n",
        " (('believe', 'it'), 29),\n",
        " (('best', 'performance'), 29),\n",
        " (('story', 'line'), 28),\n",
        " (('screenplay', 'by'), 28),\n",
        " (('been', 'better'), 28),\n",
        " (('do', 'is'), 28),\n",
        " (('is', 'surprisingly'), 28),\n",
        " (('just', \"don't\"), 28),\n",
        " (('has', 'always'), 28),\n",
        " (('her', 'son'), 28),\n",
        " (('are', 'good'), 28),\n",
        " ((\"there's\", 'something'), 28),\n",
        " (('go', 'into'), 28),\n",
        " (('would', 'not'), 28),\n",
        " (('who', 'just'), 28),\n",
        " (('it', 'certainly'), 28),\n",
        " (('it', 'when'), 28),\n",
        " (('made', 'for'), 28),\n",
        " (('say', 'it'), 28),\n",
        " (('like', 'they'), 28),\n",
        " (('end', 'it'), 28),\n",
        " (('searching', 'for'), 28),\n",
        " (('feel', 'like'), 28),\n",
        " (('when', \"he's\"), 28),\n",
        " (('best', 'known'), 28),\n",
        " (('they', 'want'), 28),\n",
        " (('has', 'just'), 28),\n",
        " (('not', 'going'), 28),\n",
        " (('which', 'they'), 28),\n",
        " (('horror', 'films'), 28),\n",
        " (('serial', 'killer'), 28),\n",
        " (('turns', 'into'), 28),\n",
        " (('they', 'find'), 28),\n",
        " (('has', 'ever'), 28),\n",
        " (('turned', 'into'), 28),\n",
        " (('film', 'itself'), 28),\n",
        " (('call', 'it'), 28),\n",
        " (('because', 'his'), 28),\n",
        " (('things', 'about'), 28),\n",
        " (('opening', 'credits'), 28),\n",
        " (('best', 'films'), 28),\n",
        " ((\"you've\", 'seen'), 28),\n",
        " (('say', 'about'), 28),\n",
        " (('is', 'left'), 27),\n",
        " (('be', 'taken'), 27),\n",
        " (('nothing', 'else'), 27),\n",
        " (('since', 'i'), 27),\n",
        " (('novel', 'by'), 27),\n",
        " (('should', 'not'), 27),\n",
        " (('how', 'they'), 27),\n",
        " (('who', 'may'), 27),\n",
        " (('which', 'will'), 27),\n",
        " (('difference', 'between'), 27),\n",
        " (('an', 'audience'), 27),\n",
        " (('had', 'some'), 27),\n",
        " (('old', 'man'), 27),\n",
        " (('excuse', 'for'), 27),\n",
        " (('saturday', 'night'), 27),\n",
        " (('much', 'for'), 27),\n",
        " (('give', 'him'), 27),\n",
        " (('even', 'better'), 27),\n",
        " (('its', 'story'), 27),\n",
        " (('last', 'summer'), 27),\n",
        " (('an', 'early'), 27),\n",
        " (('however', 'i'), 27),\n",
        " (('production', 'design'), 27),\n",
        " (('music', 'is'), 27),\n",
        " (('whole', 'film'), 27),\n",
        " (('guy', 'is'), 27),\n",
        " (('it', 'again'), 27),\n",
        " (('great', 'film'), 27),\n",
        " (('?', 'why'), 27),\n",
        " (('i', 'hate'), 27),\n",
        " (('by', 'far'), 27),\n",
        " (('thought', 'it'), 27),\n",
        " (('did', 'it'), 27),\n",
        " (('always', 'been'), 27),\n",
        " (('take', 'place'), 27),\n",
        " (('makes', 'his'), 27),\n",
        " (('film', 'starts'), 27),\n",
        " (('for', 'about'), 27),\n",
        " (('over', 'again'), 27),\n",
        " (('why', 'i'), 27),\n",
        " ((\"doesn't\", 'make'), 27),\n",
        " ((\"don't\", 'even'), 27),\n",
        " (('just', \"doesn't\"), 27),\n",
        " (('nearly', 'every'), 27),\n",
        " (('his', 'films'), 26),\n",
        " (('i', 'even'), 26),\n",
        " (('we', 'watch'), 26),\n",
        " ((\"there's\", 'an'), 26),\n",
        " (('just', 'another'), 26),\n",
        " (('an', 'almost'), 26),\n",
        " (('is', 'over'), 26),\n",
        " ((\"don't\", 'want'), 26),\n",
        " (('off', 'his'), 26),\n",
        " (('they', 'seem'), 26),\n",
        " (('an', 'entertaining'), 26),\n",
        " (('will', 'make'), 26),\n",
        " (('they', 'go'), 26),\n",
        " (('whole', 'movie'), 26),\n",
        " (('put', 'it'), 26),\n",
        " (('these', 'films'), 26),\n",
        " (('question', 'is'), 26),\n",
        " (('sequences', 'are'), 26),\n",
        " ((\"you'll\", 'be'), 26),\n",
        " (('two', 'films'), 26),\n",
        " (('film', 'however'), 26),\n",
        " (('is', 'great'), 26),\n",
        " (('performances', 'by'), 26),\n",
        " (('these', 'scenes'), 26),\n",
        " (('first', 'movie'), 26),\n",
        " (('their', 'relationship'), 26),\n",
        " (('ending', 'is'), 26),\n",
        " (('is', 'bad'), 26),\n",
        " (('by', 'their'), 26),\n",
        " (('right', 'now'), 26),\n",
        " (('they', 'both'), 26),\n",
        " ((\"doesn't\", 'want'), 26),\n",
        " (('why', 'they'), 26),\n",
        " ((\"you're\", 'not'), 26),\n",
        " (('i', 'knew'), 26),\n",
        " (('film', 'we'), 26),\n",
        " (('los', 'angeles'), 26),\n",
        " (('just', 'how'), 26),\n",
        " (('fbi', 'agent'), 26),\n",
        " (('feature', 'film'), 26),\n",
        " ((\"don't\", 'care'), 26),\n",
        " (('i', 'feel'), 26),\n",
        " (('his', 'mind'), 26),\n",
        " (('how', 'do'), 26),\n",
        " (('eddie', 'murphy'), 26),\n",
        " (('why', 'is'), 26),\n",
        " (('for', 'another'), 26),\n",
        " (('since', 'it'), 26),\n",
        " (('those', 'films'), 26),\n",
        " (('out', 'loud'), 25),\n",
        " (('are', 'introduced'), 25),\n",
        " (('it', 'did'), 25),\n",
        " (('time', 'is'), 25),\n",
        " (('director', 'john'), 25),\n",
        " (('their', 'roles'), 25),\n",
        " (('me', 'wrong'), 25),\n",
        " (('around', 'him'), 25),\n",
        " (('is', 'perfect'), 25),\n",
        " (('for', 'anyone'), 25),\n",
        " (('which', 'would'), 25),\n",
        " (('keanu', 'reeves'), 25),\n",
        " (('makes', 'an'), 25),\n",
        " (('has', 'not'), 25),\n",
        " (('they', 'did'), 25),\n",
        " (('is', 'getting'), 25),\n",
        " (('are', 'supposed'), 25),\n",
        " (('father', 'is'), 25),\n",
        " (('some', 'may'), 25),\n",
        " (('jurassic', 'park'), 25),\n",
        " (('which', 'it'), 25),\n",
        " (('found', 'myself'), 25),\n",
        " (('i', 'enjoyed'), 25),\n",
        " (('do', 'they'), 25),\n",
        " (('who', \"can't\"), 25),\n",
        " (('new', 'film'), 25),\n",
        " (('movie', 'where'), 25),\n",
        " (('film', 'begins'), 25),\n",
        " (('however', 'it'), 25),\n",
        " (('it', '!'), 25),\n",
        " (('other', 'words'), 25),\n",
        " (('they', 'make'), 25),\n",
        " (('?', 'not'), 25),\n",
        " (('jim', 'carrey'), 25),\n",
        " (('get', 'him'), 25),\n",
        " (('million', 'dollars'), 25),\n",
        " (('knows', 'how'), 25),\n",
        " (('his', 'car'), 25),\n",
        " (('is', 'why'), 25),\n",
        " (('some', 'good'), 25),\n",
        " (('did', 'last'), 25),\n",
        " (('halfway', 'through'), 25),\n",
        " (('will', 'find'), 25),\n",
        " (('into', 'their'), 25),\n",
        " (('two', 'people'), 25),\n",
        " (('we', 'do'), 25),\n",
        " (('not', 'nearly'), 25),\n",
        " (('pull', 'off'), 25),\n",
        " (('is', 'used'), 25),\n",
        " (('an', 'intelligent'), 25),\n",
        " (('two', 'leads'), 25),\n",
        " (('surrounded', 'by'), 25),\n",
        " (('camera', 'work'), 25),\n",
        " (('really', 'bad'), 25),\n",
        " (('be', 'some'), 25),\n",
        " (('an', 'entire'), 24),\n",
        " (('who', 'were'), 24),\n",
        " (('off', 'by'), 24),\n",
        " (('james', 'bond'), 24),\n",
        " (('few', 'minutes'), 24),\n",
        " (('good', 'guys'), 24),\n",
        " (('thing', 'i'), 24),\n",
        " (('independence', 'day'), 24),\n",
        " (('make', 'sure'), 24),\n",
        " (('than', 'an'), 24),\n",
        " (('an', 'important'), 24),\n",
        " (('just', 'not'), 24),\n",
        " (('fight', 'scenes'), 24),\n",
        " (('into', 'her'), 24),\n",
        " (('real', 'people'), 24),\n",
        " (('for', 'himself'), 24),\n",
        " (('her', 'first'), 24),\n",
        " (('into', 'it'), 24),\n",
        " (('for', 'kids'), 24),\n",
        " (('find', 'themselves'), 24),\n",
        " (('robin', 'williams'), 24),\n",
        " (('his', 'last'), 24),\n",
        " (('young', 'boy'), 24),\n",
        " (('next', 'day'), 24),\n",
        " (('just', 'too'), 24),\n",
        " (('are', 'actually'), 24),\n",
        " (('would', 'make'), 24),\n",
        " (('fifteen', 'minutes'), 24),\n",
        " (('are', 'many'), 24),\n",
        " (('how', 'about'), 24),\n",
        " (('score', 'by'), 24),\n",
        " (('is', 'merely'), 24),\n",
        " (('then', 'i'), 24),\n",
        " (('it', 'seemed'), 24),\n",
        " (('are', 'never'), 24),\n",
        " (('has', 'its'), 24),\n",
        " (('tv', 'show'), 24),\n",
        " (('by', 'michael'), 24),\n",
        " (('before', 'they'), 24),\n",
        " (('get', 'away'), 24),\n",
        " (('it', 'feels'), 24),\n",
        " (('will', 'do'), 24),\n",
        " (('makes', 'for'), 24),\n",
        " (('his', 'body'), 24),\n",
        " (('be', 'just'), 24),\n",
        " (('has', 'had'), 24),\n",
        " (('?', 'how'), 24),\n",
        " (('has', 'his'), 24),\n",
        " (('like', 'him'), 24),\n",
        " (('about', 'their'), 24),\n",
        " (('comes', 'back'), 24),\n",
        " (('will', 'go'), 24),\n",
        " (('is', 'another'), 24),\n",
        " (('believe', 'me'), 24),\n",
        " (('fact', 'it'), 24),\n",
        " (('years', 'after'), 24),\n",
        " (('would', 'probably'), 24),\n",
        " (('some', 'very'), 24),\n",
        " (('i', \"wasn't\"), 24),\n",
        " (('few', 'scenes'), 24),\n",
        " (('voiced', 'by'), 24),\n",
        " (('is', 'out'), 24),\n",
        " (('half', 'hour'), 24),\n",
        " (('be', 'his'), 24),\n",
        " (('i', 'doubt'), 24),\n",
        " (('looked', 'like'), 24),\n",
        " (('credit', 'for'), 24),\n",
        " (('why', 'do'), 24),\n",
        " (('run', 'by'), 24),\n",
        " (('are', 'we'), 24),\n",
        " (('is', 'especially'), 23),\n",
        " (('tells', 'her'), 23),\n",
        " (('me', 'i'), 23),\n",
        " (('20', 'minutes'), 23),\n",
        " ((\"i've\", 'never'), 23),\n",
        " (('they', 'come'), 23),\n",
        " (('they', \"didn't\"), 23),\n",
        " (('script', 'by'), 23),\n",
        " (('i', 'went'), 23),\n",
        " (('i', 'e'), 23),\n",
        " (('help', 'him'), 23),\n",
        " ((\"doesn't\", 'really'), 23),\n",
        " (('him', 'out'), 23),\n",
        " (('action', 'is'), 23),\n",
        " (('goes', 'for'), 23),\n",
        " (('his', 'story'), 23),\n",
        " (('same', 'name'), 23),\n",
        " (('set', 'pieces'), 23),\n",
        " (('go', 'wrong'), 23),\n",
        " (('shows', 'us'), 23),\n",
        " (('las', 'vegas'), 23),\n",
        " (('an', 'emotional'), 23),\n",
        " (('is', 'killed'), 23),\n",
        " (('is', 'perhaps'), 23),\n",
        " (('best', 'film'), 23),\n",
        " (('comes', 'out'), 23),\n",
        " ((\"can't\", 'even'), 23),\n",
        " (('someone', 'else'), 23),\n",
        " (('private', 'ryan'), 23),\n",
        " (('his', 'home'), 23),\n",
        " (('much', 'time'), 23),\n",
        " (('reminded', 'me'), 23),\n",
        " (('who', 'do'), 23),\n",
        " (('good', 'performance'), 23),\n",
        " (('for', 'every'), 23),\n",
        " (('get', 'his'), 23),\n",
        " ((\"what's\", 'going'), 23),\n",
        " (('give', 'us'), 23),\n",
        " (('musical', 'score'), 23),\n",
        " (('people', 'will'), 23),\n",
        " (('whole', 'lot'), 23),\n",
        " (('fact', 'i'), 23),\n",
        " (('after', 'being'), 23),\n",
        " (('last', 'time'), 23),\n",
        " (('who', 'does'), 23),\n",
        " (('your', 'life'), 23),\n",
        " (('some', 'other'), 23),\n",
        " (('perhaps', 'it'), 23),\n",
        " (('many', 'scenes'), 23),\n",
        " (('has', 'created'), 23),\n",
        " ...]"
       ]
      }
     ],
     "prompt_number": 624
    },
    {
     "cell_type": "heading",
     "level": 3,
     "metadata": {},
     "source": [
      "freqency vs. appearence"
     ]
    },
    {
     "cell_type": "code",
     "collapsed": false,
     "input": [
      "#pres + common+neg\n",
      "def list_to_dict_common_neg_freq(li):\n",
      "    cnt = Counter()\n",
      "    i = 0\n",
      "    while i < len(li):\n",
      "        if li[i] not in common_words_pres:\n",
      "            if li[i] in neg_words and i < len(li)-1:\n",
      "                cnt[li[i]+li[i+1]] =1\n",
      "                i +=2\n",
      "            else:\n",
      "                cnt[li[i]] = 1\n",
      "                i +=1\n",
      "        else:\n",
      "            i +=1\n",
      "    return dict(cnt)"
     ],
     "language": "python",
     "metadata": {},
     "outputs": [],
     "prompt_number": 744
    },
    {
     "cell_type": "code",
     "collapsed": false,
     "input": [
      "#pres\n",
      "def list_to_dict_common_neg_freq2(li):\n",
      "    cnt = Counter()\n",
      "    for word in li:\n",
      "        cnt[word] = 1\n",
      "    return dict(cnt)"
     ],
     "language": "python",
     "metadata": {},
     "outputs": [],
     "prompt_number": 707
    },
    {
     "cell_type": "code",
     "collapsed": false,
     "input": [
      "#pres+neg\n",
      "def list_to_dict_common_neg_freq3(li):\n",
      "    cnt = Counter()\n",
      "    i = 0\n",
      "    while i < len(li):\n",
      "        if li[i] in neg_words and i < len(li)-1:\n",
      "            cnt[li[i]+li[i+1]] =1\n",
      "            i +=2\n",
      "        else:\n",
      "            cnt[li[i]] = 1\n",
      "            i +=1\n",
      "    return dict(cnt)"
     ],
     "language": "python",
     "metadata": {},
     "outputs": [],
     "prompt_number": 713
    },
    {
     "cell_type": "code",
     "collapsed": false,
     "input": [
      "train_X_dict_cw_ng_freq = [list_to_dict_common_neg_freq3(li) for li in train_X]"
     ],
     "language": "python",
     "metadata": {},
     "outputs": [],
     "prompt_number": 714
    },
    {
     "cell_type": "code",
     "collapsed": false,
     "input": [
      "test_X_dict_cw_ng_freq = [list_to_dict_common_neg_freq3(li) for li in test_X]"
     ],
     "language": "python",
     "metadata": {},
     "outputs": [],
     "prompt_number": 715
    },
    {
     "cell_type": "code",
     "collapsed": false,
     "input": [
      "train_X_dict_cw_ng_freq_new = [list_to_dict_common_neg_freq(li) for li in train_X]"
     ],
     "language": "python",
     "metadata": {},
     "outputs": []
    },
    {
     "cell_type": "code",
     "collapsed": false,
     "input": [
      "test_X_dict_cw_ng_freq_new = [list_to_dict_common_neg_freq(li) for li in test_X]"
     ],
     "language": "python",
     "metadata": {},
     "outputs": []
    },
    {
     "cell_type": "code",
     "collapsed": false,
     "input": [
      "#pres + neg + common words\n",
      "opt=0.16\n",
      "opt_error = []\n",
      "for i in range(50):\n",
      "    w_cw_ng_freq4, errors_cw_ng_freq4 = pegasos_svm_speedup(train_X_dict_cw_ng_freq_new,train_y,test_X_dict_cw_ng_freq_new,test_y,10**-3,100)\n",
      "    if errors_cw_ng_freq4[-1] < opt:\n",
      "        opt = errors_cw_ng_freq4[-1]\n",
      "        opt_error = errors_cw_ng_freq4\n",
      "        print opt\n",
      "    print i"
     ],
     "language": "python",
     "metadata": {},
     "outputs": [
      {
       "output_type": "stream",
       "stream": "stdout",
       "text": [
        "0.15\n",
        "0\n",
        "1"
       ]
      },
      {
       "output_type": "stream",
       "stream": "stdout",
       "text": [
        "\n",
        "2"
       ]
      },
      {
       "output_type": "stream",
       "stream": "stdout",
       "text": [
        "\n",
        "3"
       ]
      },
      {
       "output_type": "stream",
       "stream": "stdout",
       "text": [
        "\n",
        "4"
       ]
      },
      {
       "output_type": "stream",
       "stream": "stdout",
       "text": [
        "\n",
        "5"
       ]
      },
      {
       "output_type": "stream",
       "stream": "stdout",
       "text": [
        "\n",
        "6"
       ]
      },
      {
       "output_type": "stream",
       "stream": "stdout",
       "text": [
        "\n",
        "7"
       ]
      },
      {
       "output_type": "stream",
       "stream": "stdout",
       "text": [
        "\n",
        "8"
       ]
      },
      {
       "output_type": "stream",
       "stream": "stdout",
       "text": [
        "\n",
        "9"
       ]
      },
      {
       "output_type": "stream",
       "stream": "stdout",
       "text": [
        "\n",
        "10"
       ]
      },
      {
       "output_type": "stream",
       "stream": "stdout",
       "text": [
        "\n",
        "11"
       ]
      },
      {
       "output_type": "stream",
       "stream": "stdout",
       "text": [
        "\n",
        "12"
       ]
      },
      {
       "output_type": "stream",
       "stream": "stdout",
       "text": [
        "\n",
        "13"
       ]
      },
      {
       "output_type": "stream",
       "stream": "stdout",
       "text": [
        "\n",
        "14"
       ]
      },
      {
       "output_type": "stream",
       "stream": "stdout",
       "text": [
        "\n",
        "15"
       ]
      },
      {
       "output_type": "stream",
       "stream": "stdout",
       "text": [
        "\n",
        "16"
       ]
      },
      {
       "output_type": "stream",
       "stream": "stdout",
       "text": [
        "\n",
        "17"
       ]
      },
      {
       "output_type": "stream",
       "stream": "stdout",
       "text": [
        "\n",
        "18"
       ]
      },
      {
       "output_type": "stream",
       "stream": "stdout",
       "text": [
        "\n",
        "19"
       ]
      },
      {
       "output_type": "stream",
       "stream": "stdout",
       "text": [
        "\n",
        "20"
       ]
      },
      {
       "output_type": "stream",
       "stream": "stdout",
       "text": [
        "\n",
        "21"
       ]
      },
      {
       "output_type": "stream",
       "stream": "stdout",
       "text": [
        "\n",
        "22"
       ]
      },
      {
       "output_type": "stream",
       "stream": "stdout",
       "text": [
        "\n",
        "23"
       ]
      },
      {
       "output_type": "stream",
       "stream": "stdout",
       "text": [
        "\n",
        "24"
       ]
      },
      {
       "output_type": "stream",
       "stream": "stdout",
       "text": [
        "\n",
        "25"
       ]
      },
      {
       "output_type": "stream",
       "stream": "stdout",
       "text": [
        "\n",
        "26"
       ]
      },
      {
       "output_type": "stream",
       "stream": "stdout",
       "text": [
        "\n",
        "27"
       ]
      },
      {
       "output_type": "stream",
       "stream": "stdout",
       "text": [
        "\n",
        "0.148"
       ]
      },
      {
       "output_type": "stream",
       "stream": "stdout",
       "text": [
        "\n",
        "28\n",
        "29"
       ]
      },
      {
       "output_type": "stream",
       "stream": "stdout",
       "text": [
        "\n",
        "30"
       ]
      },
      {
       "output_type": "stream",
       "stream": "stdout",
       "text": [
        "\n",
        "31"
       ]
      },
      {
       "output_type": "stream",
       "stream": "stdout",
       "text": [
        "\n",
        "32"
       ]
      },
      {
       "output_type": "stream",
       "stream": "stdout",
       "text": [
        "\n",
        "33"
       ]
      },
      {
       "output_type": "stream",
       "stream": "stdout",
       "text": [
        "\n",
        "34"
       ]
      },
      {
       "output_type": "stream",
       "stream": "stdout",
       "text": [
        "\n",
        "35"
       ]
      },
      {
       "output_type": "stream",
       "stream": "stdout",
       "text": [
        "\n",
        "36"
       ]
      },
      {
       "output_type": "stream",
       "stream": "stdout",
       "text": [
        "\n",
        "0.144"
       ]
      },
      {
       "output_type": "stream",
       "stream": "stdout",
       "text": [
        "\n",
        "37\n",
        "38"
       ]
      },
      {
       "output_type": "stream",
       "stream": "stdout",
       "text": [
        "\n",
        "0.142"
       ]
      },
      {
       "output_type": "stream",
       "stream": "stdout",
       "text": [
        "\n",
        "39\n",
        "40"
       ]
      },
      {
       "output_type": "stream",
       "stream": "stdout",
       "text": [
        "\n",
        "41"
       ]
      },
      {
       "output_type": "stream",
       "stream": "stdout",
       "text": [
        "\n",
        "42"
       ]
      },
      {
       "output_type": "stream",
       "stream": "stdout",
       "text": [
        "\n",
        "43"
       ]
      },
      {
       "output_type": "stream",
       "stream": "stdout",
       "text": [
        "\n",
        "44"
       ]
      },
      {
       "output_type": "stream",
       "stream": "stdout",
       "text": [
        "\n",
        "45"
       ]
      },
      {
       "output_type": "stream",
       "stream": "stdout",
       "text": [
        "\n",
        "46"
       ]
      },
      {
       "output_type": "stream",
       "stream": "stdout",
       "text": [
        "\n",
        "47"
       ]
      },
      {
       "output_type": "stream",
       "stream": "stdout",
       "text": [
        "\n",
        "48"
       ]
      },
      {
       "output_type": "stream",
       "stream": "stdout",
       "text": [
        "\n",
        "49"
       ]
      },
      {
       "output_type": "stream",
       "stream": "stdout",
       "text": [
        "\n"
       ]
      }
     ],
     "prompt_number": 760
    },
    {
     "cell_type": "code",
     "collapsed": false,
     "input": [
      "#pres + neg + common words\n",
      "opt_error[-1]"
     ],
     "language": "python",
     "metadata": {},
     "outputs": [
      {
       "metadata": {},
       "output_type": "pyout",
       "prompt_number": 973,
       "text": [
        "0.142"
       ]
      }
     ],
     "prompt_number": 973
    },
    {
     "cell_type": "code",
     "collapsed": false,
     "input": [
      "#pres + neg\n",
      "opt1=0.16\n",
      "opt_error1 = []\n",
      "for i in range(50):\n",
      "    w_cw_ng_freq6, errors_cw_ng_freq6 = pegasos_svm_speedup(train_X_dict_cw_ng_freq,train_y,test_X_dict_cw_ng_freq,test_y,10**-3,100)\n",
      "    if errors_cw_ng_freq6[-1] < opt1:\n",
      "        opt1 = errors_cw_ng_freq6[-1]\n",
      "        opt_error1 = errors_cw_ng_freq6\n",
      "        print opt1\n",
      "    print i\n"
     ],
     "language": "python",
     "metadata": {},
     "outputs": [
      {
       "output_type": "stream",
       "stream": "stdout",
       "text": [
        "0.154\n",
        "0\n",
        "1"
       ]
      },
      {
       "output_type": "stream",
       "stream": "stdout",
       "text": [
        "\n",
        "2"
       ]
      },
      {
       "output_type": "stream",
       "stream": "stdout",
       "text": [
        "\n",
        "3"
       ]
      },
      {
       "output_type": "stream",
       "stream": "stdout",
       "text": [
        "\n",
        "4"
       ]
      },
      {
       "output_type": "stream",
       "stream": "stdout",
       "text": [
        "\n",
        "5"
       ]
      },
      {
       "output_type": "stream",
       "stream": "stdout",
       "text": [
        "\n",
        "0.148"
       ]
      },
      {
       "output_type": "stream",
       "stream": "stdout",
       "text": [
        "\n",
        "6\n",
        "0.138"
       ]
      },
      {
       "output_type": "stream",
       "stream": "stdout",
       "text": [
        "\n",
        "7\n",
        "8"
       ]
      },
      {
       "output_type": "stream",
       "stream": "stdout",
       "text": [
        "\n",
        "9"
       ]
      },
      {
       "output_type": "stream",
       "stream": "stdout",
       "text": [
        "\n",
        "10"
       ]
      },
      {
       "output_type": "stream",
       "stream": "stdout",
       "text": [
        "\n",
        "11"
       ]
      },
      {
       "output_type": "stream",
       "stream": "stdout",
       "text": [
        "\n",
        "12"
       ]
      },
      {
       "output_type": "stream",
       "stream": "stdout",
       "text": [
        "\n",
        "13"
       ]
      },
      {
       "output_type": "stream",
       "stream": "stdout",
       "text": [
        "\n",
        "14"
       ]
      },
      {
       "output_type": "stream",
       "stream": "stdout",
       "text": [
        "\n",
        "15"
       ]
      },
      {
       "output_type": "stream",
       "stream": "stdout",
       "text": [
        "\n",
        "16"
       ]
      },
      {
       "output_type": "stream",
       "stream": "stdout",
       "text": [
        "\n",
        "17"
       ]
      },
      {
       "output_type": "stream",
       "stream": "stdout",
       "text": [
        "\n",
        "18"
       ]
      },
      {
       "output_type": "stream",
       "stream": "stdout",
       "text": [
        "\n",
        "19"
       ]
      },
      {
       "output_type": "stream",
       "stream": "stdout",
       "text": [
        "\n",
        "20"
       ]
      },
      {
       "output_type": "stream",
       "stream": "stdout",
       "text": [
        "\n",
        "21"
       ]
      },
      {
       "output_type": "stream",
       "stream": "stdout",
       "text": [
        "\n",
        "22"
       ]
      },
      {
       "output_type": "stream",
       "stream": "stdout",
       "text": [
        "\n",
        "23"
       ]
      },
      {
       "output_type": "stream",
       "stream": "stdout",
       "text": [
        "\n",
        "24"
       ]
      },
      {
       "output_type": "stream",
       "stream": "stdout",
       "text": [
        "\n",
        "25"
       ]
      },
      {
       "output_type": "stream",
       "stream": "stdout",
       "text": [
        "\n",
        "26"
       ]
      },
      {
       "output_type": "stream",
       "stream": "stdout",
       "text": [
        "\n",
        "27"
       ]
      },
      {
       "output_type": "stream",
       "stream": "stdout",
       "text": [
        "\n",
        "28"
       ]
      },
      {
       "output_type": "stream",
       "stream": "stdout",
       "text": [
        "\n",
        "29"
       ]
      },
      {
       "output_type": "stream",
       "stream": "stdout",
       "text": [
        "\n",
        "30"
       ]
      },
      {
       "output_type": "stream",
       "stream": "stdout",
       "text": [
        "\n",
        "31"
       ]
      },
      {
       "output_type": "stream",
       "stream": "stdout",
       "text": [
        "\n",
        "32"
       ]
      },
      {
       "output_type": "stream",
       "stream": "stdout",
       "text": [
        "\n",
        "33"
       ]
      },
      {
       "output_type": "stream",
       "stream": "stdout",
       "text": [
        "\n",
        "34"
       ]
      },
      {
       "output_type": "stream",
       "stream": "stdout",
       "text": [
        "\n",
        "35"
       ]
      },
      {
       "output_type": "stream",
       "stream": "stdout",
       "text": [
        "\n",
        "36"
       ]
      },
      {
       "output_type": "stream",
       "stream": "stdout",
       "text": [
        "\n",
        "37"
       ]
      },
      {
       "output_type": "stream",
       "stream": "stdout",
       "text": [
        "\n",
        "38"
       ]
      },
      {
       "output_type": "stream",
       "stream": "stdout",
       "text": [
        "\n",
        "39"
       ]
      },
      {
       "output_type": "stream",
       "stream": "stdout",
       "text": [
        "\n",
        "40"
       ]
      },
      {
       "output_type": "stream",
       "stream": "stdout",
       "text": [
        "\n",
        "41"
       ]
      },
      {
       "output_type": "stream",
       "stream": "stdout",
       "text": [
        "\n",
        "42"
       ]
      },
      {
       "output_type": "stream",
       "stream": "stdout",
       "text": [
        "\n",
        "43"
       ]
      },
      {
       "output_type": "stream",
       "stream": "stdout",
       "text": [
        "\n",
        "44"
       ]
      },
      {
       "output_type": "stream",
       "stream": "stdout",
       "text": [
        "\n",
        "45"
       ]
      },
      {
       "output_type": "stream",
       "stream": "stdout",
       "text": [
        "\n",
        "46"
       ]
      },
      {
       "output_type": "stream",
       "stream": "stdout",
       "text": [
        "\n",
        "47"
       ]
      },
      {
       "output_type": "stream",
       "stream": "stdout",
       "text": [
        "\n",
        "48"
       ]
      },
      {
       "output_type": "stream",
       "stream": "stdout",
       "text": [
        "\n",
        "49"
       ]
      },
      {
       "output_type": "stream",
       "stream": "stdout",
       "text": [
        "\n"
       ]
      }
     ],
     "prompt_number": 766
    },
    {
     "cell_type": "code",
     "collapsed": false,
     "input": [
      "#pres+neg\n",
      "opt_error1[-1]"
     ],
     "language": "python",
     "metadata": {},
     "outputs": [
      {
       "metadata": {},
       "output_type": "pyout",
       "prompt_number": 972,
       "text": [
        "0.138"
       ]
      }
     ],
     "prompt_number": 972
    },
    {
     "cell_type": "code",
     "collapsed": false,
     "input": [
      "#basic pres\n",
      "train_X_dict_cw_ng_pres_basic = [list_to_dict_common_neg_freq2(li) for li in train_X]"
     ],
     "language": "python",
     "metadata": {},
     "outputs": [],
     "prompt_number": 773
    },
    {
     "cell_type": "code",
     "collapsed": false,
     "input": [
      "test_X_dict_cw_ng_pres_basic = [list_to_dict_common_neg_freq2(li) for li in test_X]"
     ],
     "language": "python",
     "metadata": {},
     "outputs": [],
     "prompt_number": 774
    },
    {
     "cell_type": "code",
     "collapsed": false,
     "input": [
      "w_cw_ng_pres_basic, errors_cw_ng_pres_basic = pegasos_svm_speedup(train_X_dict_cw_ng_pres_basic,train_y,test_X_dict_cw_ng_pres_basic,test_y,10**-3,100)"
     ],
     "language": "python",
     "metadata": {},
     "outputs": [],
     "prompt_number": 782
    },
    {
     "cell_type": "code",
     "collapsed": false,
     "input": [
      "#basic pres\n",
      "print errors_cw_ng_pres_basic[-1]"
     ],
     "language": "python",
     "metadata": {},
     "outputs": [
      {
       "output_type": "stream",
       "stream": "stdout",
       "text": [
        "0.168\n"
       ]
      }
     ],
     "prompt_number": 786
    },
    {
     "cell_type": "heading",
     "level": 3,
     "metadata": {},
     "source": [
      "compare"
     ]
    },
    {
     "cell_type": "code",
     "collapsed": false,
     "input": [
      "#plt.plot(range(100), errors_tfidf)\n",
      "plt.plot(range(100), ers) #basic freq\n",
      "#plt.plot(range(100), errors_cw) #freq + common words deleted\n",
      "plt.plot(range(100), errors_cw_ng) #freq + common words + neg words\n",
      "#plt.plot(range(100), errors_cw_ng_freq)\n",
      "#plt.plot(range(100), opt_error)\n",
      "plt.plot(range(100), opt_error1)\n",
      "plt.plot(range(100), opt_error2)\n",
      "plt.xlabel('epoch')\n",
      "plt.ylabel('error')\n",
      "plt.legend(['basic freq',  'freq + common words + negation','pres + negation', 'pres + bigrams'])\n",
      "plt.title('sentiment analysis error with different epoches')\n",
      "plt.savefig('6_compare.png', dpi=200)"
     ],
     "language": "python",
     "metadata": {},
     "outputs": [
      {
       "metadata": {},
       "output_type": "display_data",
       "png": "[encoded data removed]",
       "text": [
        "<matplotlib.figure.Figure at 0x13c7cded0>"
       ]
      }
     ],
     "prompt_number": 1042
    },
    {
     "cell_type": "code",
     "collapsed": false,
     "input": [
      "#plt.plot(range(100), errors_tfidf)\n",
      "plt.plot(range(100), ers)\n",
      "plt.plot(range(100), errors_cw)\n",
      "plt.plot(range(100), errors_cw_ng)\n",
      "plt.plot(range(100), errors_cw_ng_freq)\n",
      "plt.plot(range(100), opt_error)\n",
      "plt.plot(range(100), opt_error1)\n",
      "plt.plot(range(100), opt_error2)\n",
      "plt.xlabel('epoch')\n",
      "plt.ylabel('error')\n",
      "plt.legend(['tfidf','Just frequency', 'deleted common words', 'dealt with neg words','use pres','pres+cw+ng','pres+ng','2 words+pres'])\n",
      "plt.title('tfidf in text mining with different epoches')\n",
      "#plt.savefig('6_tfidf.png', dpi=200)"
     ],
     "language": "python",
     "metadata": {},
     "outputs": [
      {
       "metadata": {},
       "output_type": "pyout",
       "prompt_number": 975,
       "text": [
        "<matplotlib.text.Text at 0x13689fb90>"
       ]
      },
      {
       "metadata": {},
       "output_type": "display_data",
       "png": "[encoded data removed]",
       "text": [
        "<matplotlib.figure.Figure at 0x139ccc2d0>"
       ]
      }
     ],
     "prompt_number": 975
    },
    {
     "cell_type": "code",
     "collapsed": false,
     "input": [],
     "language": "python",
     "metadata": {},
     "outputs": [],
     "prompt_number": 1041
    },
    {
     "cell_type": "code",
     "collapsed": false,
     "input": [],
     "language": "python",
     "metadata": {},
     "outputs": []
    }
   ],
   "metadata": {}
  }
 ]
}