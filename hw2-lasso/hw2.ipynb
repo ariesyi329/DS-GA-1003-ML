{
 "metadata": {
  "name": "",
  "signature": "sha256:4f3d9d20bc8b6ae25a4438967ca4979cdc03a0a1a640d5c350e2dc0c9c8766ec"
 },
 "nbformat": 3,
 "nbformat_minor": 0,
 "worksheets": [
  {
   "cells": [
    {
     "cell_type": "heading",
     "level": 2,
     "metadata": {},
     "source": [
      "Machine Learning HW2"
     ]
    },
    {
     "cell_type": "heading",
     "level": 3,
     "metadata": {},
     "source": [
      "Yi Liu (yl3068)"
     ]
    },
    {
     "cell_type": "code",
     "collapsed": false,
     "input": [
      "import numpy as np"
     ],
     "language": "python",
     "metadata": {},
     "outputs": [],
     "prompt_number": 523
    },
    {
     "cell_type": "code",
     "collapsed": false,
     "input": [
      "import pandas as pd\n",
      "import matplotlib.pyplot as plt\n",
      "%matplotlib inline"
     ],
     "language": "python",
     "metadata": {},
     "outputs": [],
     "prompt_number": 524
    },
    {
     "cell_type": "heading",
     "level": 1,
     "metadata": {},
     "source": [
      "Dataset Construction"
     ]
    },
    {
     "cell_type": "code",
     "collapsed": false,
     "input": [
      "m = 150\n",
      "d = 75"
     ],
     "language": "python",
     "metadata": {},
     "outputs": [],
     "prompt_number": 525
    },
    {
     "cell_type": "code",
     "collapsed": false,
     "input": [
      "def data_construction(m,d):\n",
      "    \n",
      "    #construct a random design matrix\n",
      "    X = np.random.rand(m,d)\n",
      "    #construct a weight vector\n",
      "    theta = np.zeros((d,1))\n",
      "    theta[:5] = 10\n",
      "    theta[5:10] = -10\n",
      "    #construct a response\n",
      "    epsilon = 0.1*np.random.randn(m,1)\n",
      "    y = X.dot(theta) + epsilon\n",
      "    \n",
      "    return X, y, theta"
     ],
     "language": "python",
     "metadata": {},
     "outputs": [],
     "prompt_number": 526
    },
    {
     "cell_type": "code",
     "collapsed": false,
     "input": [
      "X, y, theta = data_construction(m,d)"
     ],
     "language": "python",
     "metadata": {},
     "outputs": [],
     "prompt_number": 527
    },
    {
     "cell_type": "code",
     "collapsed": false,
     "input": [
      "def split_data(X,y):\n",
      "    data = np.concatenate((X,y),axis=1)\n",
      "    train = data[:80]\n",
      "    validation = data[80:100]\n",
      "    test = data[-50:]\n",
      "    train_X = train[:,:-1]\n",
      "    train_y = train[:,-1]\n",
      "    validation_X = validation[:,:-1]\n",
      "    validation_y = validation[:,-1]\n",
      "    test_X = test[:,:-1]\n",
      "    test_y = test[:,-1]\n",
      "    return train_X, train_y, validation_X, validation_y, test_X, test_y"
     ],
     "language": "python",
     "metadata": {},
     "outputs": [],
     "prompt_number": 528
    },
    {
     "cell_type": "code",
     "collapsed": false,
     "input": [
      "train_X, train_y, validation_X, validation_y, test_X, test_y = split_data(X,y)"
     ],
     "language": "python",
     "metadata": {},
     "outputs": [],
     "prompt_number": 529
    },
    {
     "cell_type": "heading",
     "level": 3,
     "metadata": {},
     "source": [
      "Experiments with Ridge Regression"
     ]
    },
    {
     "cell_type": "code",
     "collapsed": false,
     "input": [
      "#load ridge_skeleton.py"
     ],
     "language": "python",
     "metadata": {},
     "outputs": [],
     "prompt_number": 531
    },
    {
     "cell_type": "code",
     "collapsed": false,
     "input": [
      "\n",
      "from scipy.optimize import minimize\n",
      "\n",
      "(N,D) = X.shape\n",
      "\n",
      "w = np.random.rand(D,1)\n",
      "\n",
      "def ridge(X, y, Lambda):\n",
      "    (N,D) = X.shape\n",
      "    def ridge_obj(theta):\n",
      "        return ((np.linalg.norm(np.dot(X,theta) - y))**2)/(2*N) + Lambda*(np.linalg.norm(theta))**2\n",
      "    return ridge_obj\n",
      "\n",
      "def compute_loss(X, y, Lambda, theta):\n",
      "    (N,D) = X.shape\n",
      "    return ((np.linalg.norm(np.dot(X,theta) - y))**2)/(2*N)"
     ],
     "language": "python",
     "metadata": {},
     "outputs": [],
     "prompt_number": 818
    },
    {
     "cell_type": "code",
     "collapsed": false,
     "input": [
      "loss=[]\n",
      "Lambda=[]\n",
      "k=0\n",
      "for i in range(-10,1):\n",
      "    Lambda.append(10**i)\n",
      "    w_opt = minimize(ridge(train_X, train_y, Lambda[k]), w)\n",
      "    loss.append(compute_loss(validation_X, validation_y, Lambda[k], w_opt.x))\n",
      "    print Lambda[k], loss[k]\n",
      "    k=k+1\n",
      "plt.plot(Lambda, loss)\n",
      "plt.gca().set_xscale(\"log\")\n",
      "plt.gca().set_yscale(\"log\")\n",
      "plt.xlabel('lambda')\n",
      "plt.ylabel('loss')\n",
      "plt.title('Ridge regression with different lambdas')\n",
      "#plt.savefig('1_2.png', dpi=200)"
     ],
     "language": "python",
     "metadata": {},
     "outputs": [
      {
       "output_type": "stream",
       "stream": "stdout",
       "text": [
        "1e-10 0.0375840544014\n",
        "1e-09"
       ]
      },
      {
       "output_type": "stream",
       "stream": "stdout",
       "text": [
        " 0.0375835933394\n",
        "1e-08"
       ]
      },
      {
       "output_type": "stream",
       "stream": "stdout",
       "text": [
        " 0.0375789875754\n",
        "1e-07"
       ]
      },
      {
       "output_type": "stream",
       "stream": "stdout",
       "text": [
        " 0.037533276803\n",
        "1e-06"
       ]
      },
      {
       "output_type": "stream",
       "stream": "stdout",
       "text": [
        " 0.037093591909\n",
        "1e-05"
       ]
      },
      {
       "output_type": "stream",
       "stream": "stdout",
       "text": [
        " 0.0343587265074\n",
        "0.0001"
       ]
      },
      {
       "output_type": "stream",
       "stream": "stdout",
       "text": [
        " 0.10974406383\n",
        "0.001"
       ]
      },
      {
       "output_type": "stream",
       "stream": "stdout",
       "text": [
        " 1.90129231201\n",
        "0.01"
       ]
      },
      {
       "output_type": "stream",
       "stream": "stdout",
       "text": [
        " 9.31813336381\n",
        "0.1 23.7841172488\n",
        "1"
       ]
      },
      {
       "output_type": "stream",
       "stream": "stdout",
       "text": [
        " 38.6488405586\n"
       ]
      },
      {
       "metadata": {},
       "output_type": "display_data",
       "png": "[encoded data removed]",
       "text": [
        "<matplotlib.figure.Figure at 0x1118d7210>"
       ]
      }
     ],
     "prompt_number": 819
    },
    {
     "cell_type": "code",
     "collapsed": false,
     "input": [
      "w_opt = minimize(ridge(train_X, train_y, 10**(-5)), w)"
     ],
     "language": "python",
     "metadata": {},
     "outputs": [],
     "prompt_number": 820
    },
    {
     "cell_type": "code",
     "collapsed": false,
     "input": [
      "def comparison(theta, w):\n",
      "    compare = np.concatenate((theta,w.reshape(len(w),1)),axis=1)\n",
      "    df = pd.DataFrame(compare, columns=['true','model'])\n",
      "    df['true_zero'] = (df.true == 0)\n",
      "    df['model_zero'] = (df.model == 0)\n",
      "    df['comparison'] = (df.true_zero == df.model_zero)\n",
      "    df['true_aprox_zero'] = (df.true == 0)\n",
      "    df['model_aprox_zero'] = (np.absolute(df.model) < 10**(-3))\n",
      "    df['comparison_aprox'] = (df.true_aprox_zero == df.model_aprox_zero)\n",
      "    return df"
     ],
     "language": "python",
     "metadata": {},
     "outputs": [],
     "prompt_number": 750
    },
    {
     "cell_type": "code",
     "collapsed": false,
     "input": [
      "df1 = comparison(theta, w_opt.x)"
     ],
     "language": "python",
     "metadata": {},
     "outputs": [],
     "prompt_number": 822
    },
    {
     "cell_type": "code",
     "collapsed": false,
     "input": [
      "print [round(elem, 4) for elem in df1.model]"
     ],
     "language": "python",
     "metadata": {},
     "outputs": [
      {
       "output_type": "stream",
       "stream": "stdout",
       "text": [
        "[10.0737, 10.0323, 10.1239, 9.9188, 9.8974, -9.9371, -10.1183, -9.9784, -10.0802, -9.8027, -0.1204, -0.0091, -0.0451, -0.0948, -0.0382, -0.0112, -0.0816, 0.1588, 0.0552, 0.0283, -0.0774, -0.0015, 0.0297, -0.1072, -0.2453, -0.0537, -0.0553, -0.1519, 0.2497, -0.0413, 0.04, -0.028, -0.2372, 0.0633, -0.0637, 0.0682, 0.0289, -0.0493, 0.0681, -0.0684, -0.0585, 0.0773, 0.0869, 0.0895, -0.023, -0.0334, 0.0525, 0.0123, -0.0329, -0.0782, -0.1285, 0.118, 0.1132, -0.0684, 0.0116, 0.0301, 0.1286, 0.0748, -0.0181, -0.0333, 0.0764, -0.0741, -0.0829, 0.0975, 0.0848, 0.0797, 0.1165, 0.0246, 0.1078, -0.0128, -0.0928, -0.1164, 0.166, 0.0874, -0.1082]\n"
       ]
      }
     ],
     "prompt_number": 833
    },
    {
     "cell_type": "code",
     "collapsed": false,
     "input": [
      "print df1.ix[df1.true_zero].comparison.value_counts()\n",
      "print df1.ix[df1.true_zero].comparison_aprox.value_counts()\n",
      "print df1.ix[-df1.true_zero].comparison.value_counts()"
     ],
     "language": "python",
     "metadata": {},
     "outputs": [
      {
       "output_type": "stream",
       "stream": "stdout",
       "text": [
        "False    65\n",
        "dtype: int64\n",
        "False    65\n",
        "dtype: int64\n",
        "True    10\n",
        "dtype: int64\n"
       ]
      }
     ],
     "prompt_number": 756
    },
    {
     "cell_type": "heading",
     "level": 6,
     "metadata": {},
     "source": [
      "In theta, there are 65 components with true value 0, and all of them are estimated to be non-zero (if we approximately take a small threshold, say smaller than 10^-3, to be considered as 0, then still all of them are estimated to be non-zero).\n",
      "And there are 10 components with true value non-zero, none of them is estimated to be zero."
     ]
    },
    {
     "cell_type": "code",
     "collapsed": false,
     "input": [
      "from sklearn.linear_model import Ridge"
     ],
     "language": "python",
     "metadata": {},
     "outputs": [],
     "prompt_number": 757
    },
    {
     "cell_type": "code",
     "collapsed": false,
     "input": [
      "clf = Ridge()\n",
      "clf.fit(train_X,train_y)\n",
      "sk_loss = clf.score(validation_X, validation_y)\n",
      "sk_w = clf.coef_\n",
      "print sk_loss"
     ],
     "language": "python",
     "metadata": {},
     "outputs": [
      {
       "output_type": "stream",
       "stream": "stdout",
       "text": [
        "0.821496860453\n"
       ]
      }
     ],
     "prompt_number": 762
    },
    {
     "cell_type": "code",
     "collapsed": false,
     "input": [
      "df_sk = comparison(theta, sk_w)\n",
      "print df_sk.ix[df_sk.true_zero].comparison.value_counts()\n",
      "print df_sk.ix[df_sk.true_zero].comparison_aprox.value_counts()\n",
      "print df_sk.ix[-df_sk.true_zero].comparison.value_counts()"
     ],
     "language": "python",
     "metadata": {},
     "outputs": [
      {
       "output_type": "stream",
       "stream": "stdout",
       "text": [
        "False    65\n",
        "dtype: int64\n",
        "False    65\n",
        "dtype: int64\n",
        "True    10\n",
        "dtype: int64\n"
       ]
      }
     ],
     "prompt_number": 764
    },
    {
     "cell_type": "code",
     "collapsed": false,
     "input": [],
     "language": "python",
     "metadata": {},
     "outputs": [],
     "prompt_number": 843
    },
    {
     "cell_type": "heading",
     "level": 1,
     "metadata": {},
     "source": [
      "Lasso"
     ]
    },
    {
     "cell_type": "heading",
     "level": 3,
     "metadata": {},
     "source": [
      "Shooting algorithms"
     ]
    },
    {
     "cell_type": "code",
     "collapsed": false,
     "input": [
      "def lasso_shooting(X,y,validation_X, validation_y, Lambda=10**(-5),tol=10**(-5),max_iter=1000):\n",
      "    \n",
      "    m,d = X.shape\n",
      "    it = 1\n",
      "    opt_it = 0\n",
      "    opt_loss = 10000 #initialize an optimal loss\n",
      "    loss = 1000 #initialize an loss\n",
      "    w = ((np.linalg.inv(X.T.dot(X) + np.diag(np.array([Lambda]*d)))).dot(X.T)).dot(y)\n",
      "    \n",
      "    while opt_loss > tol and it < max_iter:\n",
      "    \n",
      "        for j in range(d):\n",
      "            aj = 2*(X[:,j].T.dot(X[:,j]))\n",
      "            cj = 2*(X[:,j].dot(y) - (w.T.dot(X.T)).dot(X[:,j]) + w[j]*(X[:,j].T.dot(X[:,j])))\n",
      "            if cj > Lambda:\n",
      "                w[j] = (cj - Lambda)/aj\n",
      "            elif cj < -Lambda:\n",
      "                w[j] = (cj + Lambda)/aj\n",
      "            else:\n",
      "                w[j] = 0\n",
      "        it += 1\n",
      "        loss = compute_loss(validation_X, validation_y, Lambda, w)\n",
      "        if loss < opt_loss:\n",
      "            opt_loss = loss\n",
      "            opt_it = it\n",
      "    return opt_loss, opt_it, w\n",
      "    "
     ],
     "language": "python",
     "metadata": {},
     "outputs": [],
     "prompt_number": 770
    },
    {
     "cell_type": "code",
     "collapsed": false,
     "input": [
      "loss = []\n",
      "for i in range(-5,6):\n",
      "    Lambda = 10**i;\n",
      "    opt_loss, opt_it, w = lasso_shooting(train_X,train_y,validation_X, validation_y, Lambda=Lambda, max_iter = 1000)\n",
      "    loss.append(opt_loss)\n",
      "plt.plot([10**i for i in range(-5,6)], loss)\n",
      "plt.gca().set_xscale(\"log\")\n",
      "plt.gca().set_yscale(\"log\")\n",
      "plt.xlabel('lambda')\n",
      "plt.ylabel('loss')\n",
      "plt.title('Lasso regression via shooting algorithms with different lambdas')\n",
      "#plt.savefig('2_1.png', dpi=200)"
     ],
     "language": "python",
     "metadata": {},
     "outputs": [
      {
       "metadata": {},
       "output_type": "display_data",
       "png": "[encoded data removed]",
       "text": [
        "<matplotlib.figure.Figure at 0x11254c550>"
       ]
      }
     ],
     "prompt_number": 799
    },
    {
     "cell_type": "code",
     "collapsed": false,
     "input": [
      "print loss"
     ],
     "language": "python",
     "metadata": {},
     "outputs": [
      {
       "output_type": "stream",
       "stream": "stdout",
       "text": [
        "[0.03752410430350793, 0.037221549685177241, 0.034804205220426092, 0.02706737192137592, 0.018277901215921759, 0.013786111552351727, 0.27030319401845732, 21.667859086909594, 42.818409548724595, 42.818409548724595, 42.818409548724595]\n"
       ]
      }
     ],
     "prompt_number": 800
    },
    {
     "cell_type": "code",
     "collapsed": false,
     "input": [
      "loss = []\n",
      "for Lambda in np.arange(0,2.1,0.1):\n",
      "    opt_loss, opt_it, w = lasso_shooting(train_X,train_y,validation_X, validation_y, Lambda=Lambda, max_iter = 1000)\n",
      "    loss.append(opt_loss)\n",
      "plt.plot(np.arange(0,2.1,0.1), loss)\n",
      "plt.xlim(0,2)\n",
      "plt.xlabel('lambda')\n",
      "plt.ylabel('loss')\n",
      "plt.title('Shooting algorithms with different lambdas: smaller range')\n",
      "#plt.savefig('2_1_1.png', dpi=200)"
     ],
     "language": "python",
     "metadata": {},
     "outputs": [
      {
       "metadata": {},
       "output_type": "display_data",
       "png": "[encoded data removed]",
       "text": [
        "<matplotlib.figure.Figure at 0x111f597d0>"
       ]
      }
     ],
     "prompt_number": 775
    },
    {
     "cell_type": "code",
     "collapsed": false,
     "input": [
      "#optimal lambda 0.3\n",
      "opt_loss, opt_it, w = lasso_shooting(train_X,train_y,validation_X, validation_y, Lambda=0.3, max_iter = 1000)\n",
      "print \"The validation error with the optimal lambda 0.3 is {}\".format(opt_loss)"
     ],
     "language": "python",
     "metadata": {},
     "outputs": [
      {
       "output_type": "stream",
       "stream": "stdout",
       "text": [
        "The validation error with the optimal lambda 0.3 is 0.0111052721934\n"
       ]
      }
     ],
     "prompt_number": 776
    },
    {
     "cell_type": "code",
     "collapsed": false,
     "input": [
      "#Analyze the sparsity of the shooting algorithms solution\n",
      "df2 = comparison(theta, w)\n",
      "print df2.ix[df2.true_zero].comparison.value_counts()\n",
      "print df2.ix[df2.true_zero].comparison_aprox.value_counts()\n",
      "print df2.ix[-df2.true_zero].comparison.value_counts()"
     ],
     "language": "python",
     "metadata": {},
     "outputs": [
      {
       "output_type": "stream",
       "stream": "stdout",
       "text": [
        "True     39\n",
        "False    26\n",
        "dtype: int64\n",
        "True     41\n",
        "False    24\n",
        "dtype: int64\n",
        "True    10\n",
        "dtype: int64\n"
       ]
      }
     ],
     "prompt_number": 778
    },
    {
     "cell_type": "code",
     "collapsed": false,
     "input": [
      "print [round(elem, 4) for elem in df2.model]"
     ],
     "language": "python",
     "metadata": {},
     "outputs": [
      {
       "output_type": "stream",
       "stream": "stdout",
       "text": [
        "[10.0208, 9.9835, 9.9557, 9.9257, 9.9137, -9.9054, -10.0634, -10.0052, -9.9844, -9.9307, 0.0, 0.0, 0.0249, 0.0, 0.0, 0.0048, -0.0234, -0.0153, 0.0089, 0.0, 0.0, 0.0, 0.0004, 0.0, -0.0873, -0.0067, 0.0, 0.0, 0.0, 0.0, 0.0, -0.0253, 0.0, 0.0, -0.0117, -0.0181, 0.0, 0.0, 0.0, 0.0, -0.0245, 0.0173, 0.0, -0.0221, 0.0, 0.0, 0.0, 0.0, 0.0, -0.0013, 0.0, 0.0, 0.0, 0.0, -0.0085, 0.0, 0.0, 0.0, -0.0038, 0.0, 0.0103, -0.0138, 0.0, 0.0549, 0.0613, 0.0436, 0.0, 0.0, 0.0, 0.0226, -0.0001, 0.0, 0.0596, 0.0268, 0.0]\n"
       ]
      }
     ],
     "prompt_number": 834
    },
    {
     "cell_type": "heading",
     "level": 6,
     "metadata": {},
     "source": [
      "In theta, there are 65 components with true value 0, and 26 of them are estimated to be non-zero (if we approximately take a small threshold, say smaller than 10^-3, to be considered as 0, then 24 of them are estimated to be non-zero).\n",
      "And there are 10 components with true value non-zero, none of them is estimated to be zero."
     ]
    },
    {
     "cell_type": "heading",
     "level": 3,
     "metadata": {},
     "source": [
      "Homotopy method"
     ]
    },
    {
     "cell_type": "code",
     "collapsed": false,
     "input": [
      "def homotopy_method(X,y,validation_X, validation_y, w, Lambda=10**(-5),tol=10**(-5),max_iter=1000):\n",
      "    \n",
      "    m,d = X.shape\n",
      "    it = 1\n",
      "    opt_it = 0\n",
      "    opt_loss = 10000 #initialize an optimal loss\n",
      "    loss = 1000 #initialize an loss\n",
      "    #w = np.zeros(d)\n",
      "    \n",
      "    while opt_loss > tol and it < max_iter:\n",
      "    \n",
      "        for j in range(d):\n",
      "            aj = 2*(X[:,j].T.dot(X[:,j]))\n",
      "            cj = 2*(X[:,j].dot(y) - (w.T.dot(X.T)).dot(X[:,j]) + w[j]*(X[:,j].T.dot(X[:,j])))\n",
      "            if cj > Lambda:\n",
      "                w[j] = (cj - Lambda)/aj\n",
      "            elif cj < -Lambda:\n",
      "                w[j] = (cj + Lambda)/aj\n",
      "            else:\n",
      "                w[j] = 0\n",
      "        it += 1\n",
      "        loss = compute_loss(validation_X, validation_y, Lambda, w)\n",
      "        if loss < opt_loss:\n",
      "            opt_loss = loss\n",
      "            opt_it = it\n",
      "    return opt_loss, opt_it, w"
     ],
     "language": "python",
     "metadata": {},
     "outputs": [],
     "prompt_number": 779
    },
    {
     "cell_type": "code",
     "collapsed": false,
     "input": [
      "def homotopy(X,y,validation_X, validation_y, num_iter, update_rate):\n",
      "    m,d = X.shape\n",
      "    lambda_max = max(np.absolute(X.T.dot(y)))\n",
      "    Lambda=lambda_max\n",
      "    w_init = np.zeros(d)\n",
      "    loss=[]\n",
      "    w=[]\n",
      "    lam=[]\n",
      "    opt_loss, opt_it, opt_w = homotopy_method(X,y,validation_X, validation_y, w=w_init, Lambda=Lambda)\n",
      "    loss.append(opt_loss)\n",
      "    w.append(opt_w)\n",
      "    lam.append(lambda_max)\n",
      "    for i in range(num_iter):\n",
      "        Lambda = Lambda/update_rate\n",
      "        opt_loss, opt_it, opt_w = homotopy_method(X,y,validation_X, validation_y, w=opt_w, Lambda=Lambda)\n",
      "        loss.append(opt_loss)\n",
      "        w.append(opt_w)\n",
      "        lam.append(Lambda)\n",
      "    return loss, w, lam"
     ],
     "language": "python",
     "metadata": {},
     "outputs": [],
     "prompt_number": 780
    },
    {
     "cell_type": "code",
     "collapsed": false,
     "input": [
      "loss, w, lam = homotopy(train_X,train_y,validation_X, validation_y,num_iter=10,update_rate=5)"
     ],
     "language": "python",
     "metadata": {},
     "outputs": [],
     "prompt_number": 835
    },
    {
     "cell_type": "code",
     "collapsed": false,
     "input": [
      "lam"
     ],
     "language": "python",
     "metadata": {},
     "outputs": [
      {
       "metadata": {},
       "output_type": "pyout",
       "prompt_number": 842,
       "text": [
        "[137.37707614456249,\n",
        " 27.4754152289125,\n",
        " 5.4950830457824997,\n",
        " 1.0990166091564999,\n",
        " 0.21980332183129997,\n",
        " 0.043960664366259991,\n",
        " 0.0087921328732519979,\n",
        " 0.0017584265746503995,\n",
        " 0.00035168531493007992,\n",
        " 7.0337062986015981e-05,\n",
        " 1.4067412597203196e-05]"
       ]
      }
     ],
     "prompt_number": 842
    },
    {
     "cell_type": "code",
     "collapsed": false,
     "input": [
      "%timeit loss, w, lam = homotopy(train_X,train_y,validation_X, validation_y,num_iter=10,update_rate=5)"
     ],
     "language": "python",
     "metadata": {},
     "outputs": [
      {
       "output_type": "stream",
       "stream": "stdout",
       "text": [
        "1 loops, best of 3: 14.5 s per loop\n"
       ]
      }
     ],
     "prompt_number": 841
    },
    {
     "cell_type": "code",
     "collapsed": false,
     "input": [
      "def time_lasso(lam):\n",
      "    for la in lam:\n",
      "        loss=[]\n",
      "        w=[]\n",
      "        opt_loss, opt_it, opt_w = lasso_shooting(train_X,train_y,validation_X, validation_y, Lambda=la, max_iter = 1000)\n",
      "        loss.append(opt_loss)\n",
      "        w.append(opt_w)"
     ],
     "language": "python",
     "metadata": {},
     "outputs": [],
     "prompt_number": 839
    },
    {
     "cell_type": "code",
     "collapsed": false,
     "input": [
      "%timeit time_lasso(lam)"
     ],
     "language": "python",
     "metadata": {},
     "outputs": [
      {
       "output_type": "stream",
       "stream": "stdout",
       "text": [
        "1 loops, best of 3: 14.8 s per loop\n"
       ]
      }
     ],
     "prompt_number": 840
    },
    {
     "cell_type": "code",
     "collapsed": false,
     "input": [
      "loss, w, lam = homotopy(train_X,train_y,validation_X, validation_y,num_iter=10,update_rate=5)\n",
      "plt.plot(lam, loss)\n",
      "plt.gca().set_xscale(\"log\")\n",
      "plt.gca().set_yscale(\"log\")\n",
      "plt.xlabel('lambda')\n",
      "plt.ylabel('loss')\n",
      "plt.title('Lasso regression via homotopy method with different lambdas')\n",
      "#plt.savefig('2_3.png', dpi=200)"
     ],
     "language": "python",
     "metadata": {},
     "outputs": [
      {
       "metadata": {},
       "output_type": "display_data",
       "png": "[encoded data removed]",
       "text": [
        "<matplotlib.figure.Figure at 0x1118c9750>"
       ]
      }
     ],
     "prompt_number": 809
    },
    {
     "cell_type": "code",
     "collapsed": false,
     "input": [
      "print lam\n",
      "print loss"
     ],
     "language": "python",
     "metadata": {},
     "outputs": [
      {
       "output_type": "stream",
       "stream": "stdout",
       "text": [
        "[137.37707614456249, 27.4754152289125, 5.4950830457824997, 1.0990166091564999, 0.21980332183129997, 0.043960664366259991, 0.0087921328732519979, 0.0017584265746503995, 0.00035168531493007992, 7.0337062986015981e-05, 1.4067412597203196e-05]\n",
        "[30.1523056546453, 1.4402028292728279, 0.087318297418409713, 0.013246856141444097, 0.012491937466621944, 0.013871345760291426, 0.020339622252435817, 0.026543748302735294, 0.035021024052695506, 0.03711151780521145, 0.037450487726797571]\n"
       ]
      }
     ],
     "prompt_number": 787
    },
    {
     "cell_type": "heading",
     "level": 3,
     "metadata": {},
     "source": [
      "Vectorization"
     ]
    },
    {
     "cell_type": "code",
     "collapsed": false,
     "input": [
      "def lasso_shooting_unvectorized(X,y,validation_X, validation_y, Lambda=0.3,tol=10**(-5),max_iter=1000):\n",
      "    \n",
      "    m,d = X.shape\n",
      "    it = 1\n",
      "    opt_it = 0\n",
      "    opt_loss = 10000 #initialize an optimal loss\n",
      "    loss = 1000 #initialize an loss\n",
      "    w = ((np.linalg.inv(X.T.dot(X) + np.diag(np.array([Lambda]*d)))).dot(X.T)).dot(y)\n",
      "    \n",
      "    while opt_loss > tol and it < max_iter:\n",
      "    \n",
      "        for j in range(d):\n",
      "            aj=0\n",
      "            cj=0\n",
      "            for i in range(m):\n",
      "                aj += 2*(X[i,j]**2)\n",
      "                cj += 2*(X[i,j]*y[i] - (w.T.dot(X[i]))*X[i,j] + w[j]*X[i,j]*X[i,j])\n",
      "            if cj > Lambda:\n",
      "                w[j] = (cj - Lambda)/aj\n",
      "            elif cj < -Lambda:\n",
      "                w[j] = (cj + Lambda)/aj\n",
      "            else:\n",
      "                w[j] = 0\n",
      "        it += 1\n",
      "        loss = compute_loss(validation_X, validation_y, Lambda, w)\n",
      "        if loss < opt_loss:\n",
      "            opt_loss = loss\n",
      "            opt_it = it\n",
      "    return opt_loss, opt_it, w"
     ],
     "language": "python",
     "metadata": {},
     "outputs": [],
     "prompt_number": 792
    },
    {
     "cell_type": "code",
     "collapsed": false,
     "input": [
      "opt_loss, opt_it, w = lasso_shooting_unvectorized(train_X,train_y,validation_X, validation_y, Lambda=0.3, max_iter = 1000)"
     ],
     "language": "python",
     "metadata": {},
     "outputs": [],
     "prompt_number": 793
    },
    {
     "cell_type": "code",
     "collapsed": false,
     "input": [
      "print \"The validation error with the optimal lambda is {}\".format(opt_loss)"
     ],
     "language": "python",
     "metadata": {},
     "outputs": [
      {
       "output_type": "stream",
       "stream": "stdout",
       "text": [
        "The validation error with the optimal lambda is 0.0111052721934\n"
       ]
      }
     ],
     "prompt_number": 794
    },
    {
     "cell_type": "code",
     "collapsed": false,
     "input": [
      "%timeit opt_loss, opt_it, w = lasso_shooting_unvectorized(train_X,train_y,validation_X, validation_y, Lambda=0.3, max_iter = 1000)"
     ],
     "language": "python",
     "metadata": {},
     "outputs": [
      {
       "output_type": "stream",
       "stream": "stdout",
       "text": [
        "1 loops, best of 3: 22.7 s per loop\n"
       ]
      }
     ],
     "prompt_number": 795
    },
    {
     "cell_type": "code",
     "collapsed": false,
     "input": [
      "%timeit opt_loss, opt_it, w = lasso_shooting(train_X,train_y,validation_X, validation_y, Lambda=0.3, max_iter = 1000)"
     ],
     "language": "python",
     "metadata": {},
     "outputs": [
      {
       "output_type": "stream",
       "stream": "stdout",
       "text": [
        "1 loops, best of 3: 1.37 s per loop\n"
       ]
      }
     ],
     "prompt_number": 796
    },
    {
     "cell_type": "heading",
     "level": 3,
     "metadata": {},
     "source": [
      "Projected SGD"
     ]
    },
    {
     "cell_type": "code",
     "collapsed": false,
     "input": [
      "def compute_sgd_loss(X, y, w_p, w_n, Lambda):\n",
      "    m = y.size\n",
      "    hX = (w_p - w_n).dot(X.T)\n",
      "    #loss = ((np.square(hX - y))/(m)).sum() + Lambda*((w_p+w_n).sum())\n",
      "    loss = ((np.square(hX - y))/(2*m)).sum()\n",
      "    return loss"
     ],
     "language": "python",
     "metadata": {},
     "outputs": [],
     "prompt_number": 726
    },
    {
     "cell_type": "code",
     "collapsed": false,
     "input": [
      "def compute_sgd_gradient(X, y, i, w_p, w_n, Lambda, component):\n",
      "    if component is 'p':\n",
      "        grad = (X[i].dot(w_p-w_n)-y[i])*(X[i]) + Lambda\n",
      "    elif component is 'n':\n",
      "        grad = -(X[i].dot(w_p-w_n)-y[i])*(X[i]) + Lambda\n",
      "    return grad"
     ],
     "language": "python",
     "metadata": {},
     "outputs": [],
     "prompt_number": 727
    },
    {
     "cell_type": "code",
     "collapsed": false,
     "input": [
      "def projected_sgd(X,y,validation_X, validation_y, Lambda=0.3, alpha=0.1, beta=0.1, num_iter=5000):\n",
      "    m,d = X.shape\n",
      "    w = np.random.rand(d,1) #initialize weight\n",
      "    w_p = np.zeros(d)\n",
      "    w_n = np.zeros(d)\n",
      "    for i in range(d):\n",
      "        if w[i] > 0:\n",
      "            w_p[i] = w[i]\n",
      "        else:\n",
      "            w_n[i] = w[i]\n",
      "    \n",
      "    opt_loss=1000\n",
      "    opt_w = w\n",
      "    step=0\n",
      "    epoch=0\n",
      "    \n",
      "    order = range(m)\n",
      "    \n",
      "    for j in range(num_iter + 1):\n",
      "        np.random.shuffle(order)\n",
      "        \n",
      "        for k in range(m):\n",
      "            loss = compute_sgd_loss(validation_X, validation_y, w_p, w_n, Lambda)\n",
      "            grad_p = compute_sgd_gradient(X, y, order[k], w_p, w_n, Lambda, component='p')\n",
      "            grad_n = compute_sgd_gradient(X, y, order[k], w_p, w_n, Lambda, component='n')\n",
      "            \n",
      "            if loss < opt_loss:\n",
      "                opt_loss = loss\n",
      "                opt_w = w_p - w_n\n",
      "                step = j*m+k+1\n",
      "                epoch= j+1\n",
      "            \n",
      "            if alpha is \"1/t\":\n",
      "                alpha=beta*(1./(j*m+k+1))\n",
      "            elif alpha is \"1/sqrt(t)\":\n",
      "                alpha=beta*(1./np.sqrt(j*m+k+1))\n",
      "            else:\n",
      "                alpha=alpha\n",
      "            \n",
      "            w_p = w_p - alpha*grad_p\n",
      "            w_n = w_n - alpha*grad_n\n",
      "            \n",
      "            for i in range(d):\n",
      "                if w_p[i] < 0:\n",
      "                    w_p[i] = 0\n",
      "                elif w_n[i] < 0:\n",
      "                    w_n[i] = 0\n",
      "            \n",
      "        \n",
      "    \n",
      "    return opt_loss, opt_w, w_p, w_n, step, epoch\n",
      "    \n",
      "    \n",
      "    "
     ],
     "language": "python",
     "metadata": {},
     "outputs": [],
     "prompt_number": 790
    },
    {
     "cell_type": "code",
     "collapsed": false,
     "input": [
      "loss = []\n",
      "w = []\n",
      "loss1=[]\n",
      "w1=[]\n",
      "for i in range(-5,5):\n",
      "    Lambda = 10**i;\n",
      "    opt_loss, opt_w, w_p, w_n, step, epoch = projected_sgd(train_X,train_y,validation_X, validation_y, Lambda=Lambda, alpha=0.005, num_iter=5000)\n",
      "    opt_loss1, opt_it1, opt_w1 = lasso_shooting(train_X,train_y,validation_X, validation_y, Lambda=Lambda, max_iter = 1000)\n",
      "    loss.append(opt_loss)\n",
      "    w.append(opt_w)\n",
      "    w1.append(opt_w1)\n",
      "    loss1.append(opt_loss1)\n",
      "plt.plot([10**i for i in range(-5,5)], loss)\n",
      "plt.plot([10**i for i in range(-5,5)], loss1)\n",
      "plt.gca().set_xscale(\"log\")\n",
      "plt.gca().set_yscale(\"log\")\n",
      "plt.xlabel('lambda')\n",
      "plt.ylabel('loss')\n",
      "plt.title('Comparing Projected SGD & Shooting algo')\n",
      "#plt.savefig('2_4.png', dpi=200)"
     ],
     "language": "python",
     "metadata": {},
     "outputs": [
      {
       "metadata": {},
       "output_type": "display_data",
       "png": "[encoded data removed]",
       "text": [
        "<matplotlib.figure.Figure at 0x1125ac2d0>"
       ]
      }
     ],
     "prompt_number": 850
    },
    {
     "cell_type": "code",
     "collapsed": false,
     "input": [
      "loss"
     ],
     "language": "python",
     "metadata": {},
     "outputs": [
      {
       "metadata": {},
       "output_type": "pyout",
       "prompt_number": 853,
       "text": [
        "[0.036710074690751771,\n",
        " 0.037508205688049814,\n",
        " 0.01303768924721607,\n",
        " 0.016748864482941453,\n",
        " 0.67401327192134397,\n",
        " 32.407494271990871,\n",
        " 45.129564347119796,\n",
        " 141.93414016390693,\n",
        " 273.02946571427822,\n",
        " 228.70003413566081]"
       ]
      }
     ],
     "prompt_number": 853
    },
    {
     "cell_type": "code",
     "collapsed": false,
     "input": [
      "opt_loss, opt_w, w_p, w_n, step, epoch = projected_sgd(train_X,train_y,validation_X, validation_y, Lambda=0.001, alpha=0.005)"
     ],
     "language": "python",
     "metadata": {},
     "outputs": [],
     "prompt_number": 854
    },
    {
     "cell_type": "code",
     "collapsed": false,
     "input": [
      "#Analyze the sparsity of the projected SGD solution\n",
      "df4 = comparison(theta, opt_w)\n",
      "print df4.ix[df4.true_zero].comparison.value_counts()\n",
      "print df4.ix[df4.true_zero].comparison_aprox.value_counts()\n",
      "print df4.ix[-df4.true_zero].comparison.value_counts()"
     ],
     "language": "python",
     "metadata": {},
     "outputs": [
      {
       "output_type": "stream",
       "stream": "stdout",
       "text": [
        "False    65\n",
        "dtype: int64\n",
        "False    60\n",
        "True      5\n",
        "dtype: int64\n",
        "True    10\n",
        "dtype: int64\n"
       ]
      }
     ],
     "prompt_number": 858
    },
    {
     "cell_type": "code",
     "collapsed": false,
     "input": [
      "print [round(elem, 4) for elem in df4.model]"
     ],
     "language": "python",
     "metadata": {},
     "outputs": [
      {
       "output_type": "stream",
       "stream": "stdout",
       "text": [
        "[10.052, 9.9983, 9.9585, 9.9332, 9.9125, -9.8921, -10.0742, -10.0049, -9.9945, -9.9077, -0.0037, 0.0096, 0.0198, 0.001, 0.0052, 0.0149, -0.0542, -0.0027, 0.0407, 0.01, 0.0014, -0.0012, 0.0104, 0.0019, -0.1128, -0.0059, 0.0017, -0.0186, 0.0389, 0.0017, 0.0011, -0.0422, -0.0403, 0.01, -0.0106, -0.0214, 0.0013, 0.0012, 0.0011, -0.0253, -0.0478, 0.0399, 0.002, -0.0421, 0.0013, 0.0002, 0.0237, 0.0019, -0.0043, -0.0156, -0.0, 0.0135, 0.0012, -0.0046, -0.0126, 0.0012, 0.0016, 0.0041, -0.0007, 0.0015, 0.0328, -0.04, 0.0015, 0.0683, 0.0761, 0.0516, 0.0019, 0.0053, 0.002, 0.0356, -0.0231, -0.0127, 0.082, 0.0259, 0.0003]\n"
       ]
      }
     ],
     "prompt_number": 859
    },
    {
     "cell_type": "code",
     "collapsed": false,
     "input": [],
     "language": "python",
     "metadata": {},
     "outputs": [],
     "prompt_number": 861
    },
    {
     "cell_type": "code",
     "collapsed": false,
     "input": [],
     "language": "python",
     "metadata": {},
     "outputs": []
    }
   ],
   "metadata": {}
  }
 ]
}